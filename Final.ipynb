{
 "cells": [
  {
   "cell_type": "code",
   "execution_count": 70,
   "id": "f82d1e72",
   "metadata": {
    "ExecuteTime": {
     "end_time": "2023-07-23T15:57:45.788750Z",
     "start_time": "2023-07-23T15:57:45.784045Z"
    }
   },
   "outputs": [
    {
     "data": {
      "text/html": [
       "<script src=\"require.js\"></script>\n"
      ],
      "text/plain": [
       "<IPython.core.display.HTML object>"
      ]
     },
     "metadata": {},
     "output_type": "display_data"
    }
   ],
   "source": [
    "%%HTML\n",
    "<script src=\"require.js\"></script>"
   ]
  },
  {
   "cell_type": "markdown",
   "id": "5999beac",
   "metadata": {},
   "source": [
    "# <u><b> Study of climate change in Europe between 1980 and 2019</b></u>\n",
    "\n",
    "## <u>Table of Contents</u>\n",
    "\n",
    "#### &rarr; [1.Introduction](#introduction)\n",
    "#### &rarr; [2.Dataframe Pre-Processing](#dpp)\n",
    "#### &rarr; [3.Exploratory Data Analysis](#eda)\n"
   ]
  },
  {
   "cell_type": "markdown",
   "id": "b154e65f",
   "metadata": {},
   "source": [
    "## <u>1.Introduction<a id=\"introduction\"></a></u>"
   ]
  },
  {
   "cell_type": "markdown",
   "id": "44df5366",
   "metadata": {
    "ExecuteTime": {
     "end_time": "2023-07-23T13:44:49.450208Z",
     "start_time": "2023-07-23T13:44:49.444329Z"
    }
   },
   "source": [
    "### <u>1.1.Objectives and Problem Statement</u>\n",
    "\n",
    "#### <u>Objectives</u>\n",
    "\n",
    "Climate change refers to the long-term alteration of Earth's climate patterns, characterized by changes in temperature, precipitation, and other climatic variables. While climate fluctuations have occurred naturally over geological timescales, the current climate change is primarily driven by human activities, particularly the emission of greenhouse gases (GHGs) such as carbon dioxide and methane. These emissions result from various human activities, including burning fossil fuels for energy, deforestation, industrial processes, and agriculture.\n",
    "\n",
    "The consequences of climate change are far-reaching and impact various aspects of the environment and society. However, some people remain skeptical about the actual presence of climate change in recent years. Today, we present a simple visualization of the climate changes that have occurred in Europe between 1980 and 2019.\n",
    "\n",
    "#### <u>Problem statement</u>\n",
    "\n",
    "We will simply try to answer the question: \n",
    "\n",
    "<span style=\"font-size: 16px;\"> **Is there really climate change in Europe?**</span>"
   ]
  },
  {
   "cell_type": "markdown",
   "id": "bd0a82ad",
   "metadata": {
    "heading_collapsed": true
   },
   "source": [
    "### <u>1.2.Where do the data come from?</u>\n",
    "\n",
    "This data package contains radiation and temperature data, at hourly resolution, for Europe, aggregated by Renewables.ninja from the NASA MERRA-2 reanalysis. It covers the European countries using a population-weighted mean across all MERRA-2 grid cells within the given country. You can find this data file on : https://data.open-power-system-data.org/weather_data/"
   ]
  },
  {
   "cell_type": "markdown",
   "id": "a9160370",
   "metadata": {
    "ExecuteTime": {
     "end_time": "2023-07-23T13:45:25.076692Z",
     "start_time": "2023-07-23T13:45:25.068480Z"
    }
   },
   "source": [
    "### <u>1.3.Which countries are included in this data file?</u>\n",
    "\n",
    "This CSV file includes the following countries:\n",
    "\n",
    "<table>\n",
    "  <tr>\n",
    "    <td><code>AT</code>: Austria</td>\n",
    "    <td><code>BE</code>: Belgium</td>\n",
    "  </tr>\n",
    "  <tr>\n",
    "    <td><code>BG</code>: Bulgaria</td>\n",
    "    <td><code>CH</code>: Switzerland</td>\n",
    "  </tr>\n",
    "  <tr>\n",
    "    <td><code>CZ</code>: Czech Republic</td>\n",
    "    <td><code>DE</code>: Germany</td>\n",
    "  </tr>\n",
    "  <tr>\n",
    "    <td><code>DK</code>: Denmark</td>\n",
    "    <td><code>EE</code>: Estonia</td>\n",
    "  </tr>\n",
    "  <tr>\n",
    "    <td><code>ES</code>: Spain</td>\n",
    "    <td><code>FI</code>: Finland</td>\n",
    "  </tr>\n",
    "  <tr>\n",
    "    <td><code>FR</code>: France</td>\n",
    "    <td><code>GB</code>: United Kingdom</td>\n",
    "  </tr>\n",
    "  <tr>\n",
    "    <td><code>GR</code>: Greece</td>\n",
    "    <td><code>HR</code>: Croatia</td>\n",
    "  </tr>\n",
    "  <tr>\n",
    "    <td><code>HU</code>: Hungary</td>\n",
    "    <td><code>IE</code>: Ireland</td>\n",
    "  </tr>\n",
    "  <tr>\n",
    "    <td><code>IT</code>: Italy</td>\n",
    "    <td><code>LT</code>: Lithuania</td>\n",
    "  </tr>\n",
    "  <tr>\n",
    "    <td><code>LU</code>: Luxembourg</td>\n",
    "    <td><code>LV</code>: Latvia</td>\n",
    "  </tr>\n",
    "  <tr>\n",
    "    <td><code>NL</code>: Netherlands</td>\n",
    "    <td><code>NO</code>: Norway</td>\n",
    "  </tr>\n",
    "  <tr>\n",
    "    <td><code>PL</code>: Poland</td>\n",
    "    <td><code>PT</code>: Portugal</td>\n",
    "  </tr>\n",
    "  <tr>\n",
    "    <td><code>RO</code>: Romania</td>\n",
    "    <td><code>SE</code>: Sweden</td>\n",
    "  </tr>\n",
    "  <tr>\n",
    "    <td><code>SI</code>: Slovenia</td>\n",
    "    <td><code>SK</code>: Slovakia</td>\n",
    "  </tr>\n",
    "</table>"
   ]
  },
  {
   "cell_type": "markdown",
   "id": "b6d5f8b7",
   "metadata": {},
   "source": [
    "## <u>2.Dataframe pre-processing.<a id=\"dpp\"></a></u>"
   ]
  },
  {
   "cell_type": "markdown",
   "id": "895f5b67",
   "metadata": {
    "ExecuteTime": {
     "end_time": "2023-07-23T12:04:44.157619Z",
     "start_time": "2023-07-23T12:04:44.154301Z"
    }
   },
   "source": [
    "### <u>2.1.Dataframe</u>\n",
    "\n",
    "The DataFrame represents a series of data containing meteorological information for different time periods recorded in Coordinated Universal Time (UTC) timestamps. The columns of the DataFrame are as follows:\n",
    "\n",
    "1. `utc_timestamp`: This column contains UTC timestamps indicating the moment when each meteorological measurement was recorded.\n",
    "\n",
    "2. `XX_temperature`: This column contains temperature data recorded at each timestamp. The temperature is expressed in Celsius, and it represents the thermal conditions at that specific moment.\n",
    "\n",
    "3. `XX_radiation_direct_horizontal`: This column contains data for direct solar radiation recorded at each timestamp. It measures the amount of direct solar radiation reaching the horizontal surface of the Earth, typically expressed in watts per square meter (W/m²).\n",
    "\n",
    "4. `XX_radiation_diffuse_horizontal`: This column contains data for diffuse solar radiation recorded at each timestamp. Diffuse solar radiation comes from solar radiation scattered in the atmosphere and reaching the horizontal surface of the Earth. It is also typically expressed in watts per square meter (W/m²).\n",
    "\n",
    "5. `XX` : The initial of each country present in the DataFrame.\n",
    "\n",
    "This DataFrame has already been cleaned and therefore contains no null, duplicates or NAN values.\n",
    "\n",
    "\n",
    "<details>\n",
    "<summary><b>Click to toggle code</b></summary>\n",
    "\n",
    "```python\n",
    "import pandas as pd\n",
    "import numpy as np\n",
    "import matplotlib.pyplot as plt\n",
    "import plotly.express as px\n",
    "\n",
    "df = pd.read_csv(\"data/weather_data.csv\") \n",
    "df.head(5)\n",
    "```\n",
    "    \n"
   ]
  },
  {
   "cell_type": "code",
   "execution_count": 36,
   "id": "d697cdc3",
   "metadata": {
    "ExecuteTime": {
     "end_time": "2023-07-23T14:38:10.106837Z",
     "start_time": "2023-07-23T14:38:07.653723Z"
    },
    "hide_input": true,
    "tags": [
     "hide_input"
    ]
   },
   "outputs": [
    {
     "data": {
      "text/html": [
       "<div>\n",
       "<style scoped>\n",
       "    .dataframe tbody tr th:only-of-type {\n",
       "        vertical-align: middle;\n",
       "    }\n",
       "\n",
       "    .dataframe tbody tr th {\n",
       "        vertical-align: top;\n",
       "    }\n",
       "\n",
       "    .dataframe thead th {\n",
       "        text-align: right;\n",
       "    }\n",
       "</style>\n",
       "<table border=\"1\" class=\"dataframe\">\n",
       "  <thead>\n",
       "    <tr style=\"text-align: right;\">\n",
       "      <th></th>\n",
       "      <th>utc_timestamp</th>\n",
       "      <th>AT_temperature</th>\n",
       "      <th>AT_radiation_direct_horizontal</th>\n",
       "      <th>AT_radiation_diffuse_horizontal</th>\n",
       "      <th>BE_temperature</th>\n",
       "      <th>BE_radiation_direct_horizontal</th>\n",
       "      <th>BE_radiation_diffuse_horizontal</th>\n",
       "      <th>BG_temperature</th>\n",
       "      <th>BG_radiation_direct_horizontal</th>\n",
       "      <th>BG_radiation_diffuse_horizontal</th>\n",
       "      <th>...</th>\n",
       "      <th>RO_radiation_diffuse_horizontal</th>\n",
       "      <th>SE_temperature</th>\n",
       "      <th>SE_radiation_direct_horizontal</th>\n",
       "      <th>SE_radiation_diffuse_horizontal</th>\n",
       "      <th>SI_temperature</th>\n",
       "      <th>SI_radiation_direct_horizontal</th>\n",
       "      <th>SI_radiation_diffuse_horizontal</th>\n",
       "      <th>SK_temperature</th>\n",
       "      <th>SK_radiation_direct_horizontal</th>\n",
       "      <th>SK_radiation_diffuse_horizontal</th>\n",
       "    </tr>\n",
       "  </thead>\n",
       "  <tbody>\n",
       "    <tr>\n",
       "      <th>0</th>\n",
       "      <td>1980-01-01T00:00:00Z</td>\n",
       "      <td>-3.640</td>\n",
       "      <td>0.0</td>\n",
       "      <td>0.0</td>\n",
       "      <td>-0.720</td>\n",
       "      <td>0.0</td>\n",
       "      <td>0.0</td>\n",
       "      <td>4.664</td>\n",
       "      <td>0.0</td>\n",
       "      <td>0.0</td>\n",
       "      <td>...</td>\n",
       "      <td>0.0</td>\n",
       "      <td>-3.945</td>\n",
       "      <td>0.0</td>\n",
       "      <td>0.0</td>\n",
       "      <td>-3.055</td>\n",
       "      <td>0.0</td>\n",
       "      <td>0.0</td>\n",
       "      <td>-4.648</td>\n",
       "      <td>0.0</td>\n",
       "      <td>0.0</td>\n",
       "    </tr>\n",
       "    <tr>\n",
       "      <th>1</th>\n",
       "      <td>1980-01-01T01:00:00Z</td>\n",
       "      <td>-3.803</td>\n",
       "      <td>0.0</td>\n",
       "      <td>0.0</td>\n",
       "      <td>-1.165</td>\n",
       "      <td>0.0</td>\n",
       "      <td>0.0</td>\n",
       "      <td>4.052</td>\n",
       "      <td>0.0</td>\n",
       "      <td>0.0</td>\n",
       "      <td>...</td>\n",
       "      <td>0.0</td>\n",
       "      <td>-4.053</td>\n",
       "      <td>0.0</td>\n",
       "      <td>0.0</td>\n",
       "      <td>-3.272</td>\n",
       "      <td>0.0</td>\n",
       "      <td>0.0</td>\n",
       "      <td>-4.554</td>\n",
       "      <td>0.0</td>\n",
       "      <td>0.0</td>\n",
       "    </tr>\n",
       "    <tr>\n",
       "      <th>2</th>\n",
       "      <td>1980-01-01T02:00:00Z</td>\n",
       "      <td>-3.969</td>\n",
       "      <td>0.0</td>\n",
       "      <td>0.0</td>\n",
       "      <td>-1.434</td>\n",
       "      <td>0.0</td>\n",
       "      <td>0.0</td>\n",
       "      <td>3.581</td>\n",
       "      <td>0.0</td>\n",
       "      <td>0.0</td>\n",
       "      <td>...</td>\n",
       "      <td>0.0</td>\n",
       "      <td>-4.129</td>\n",
       "      <td>0.0</td>\n",
       "      <td>0.0</td>\n",
       "      <td>-3.639</td>\n",
       "      <td>0.0</td>\n",
       "      <td>0.0</td>\n",
       "      <td>-4.455</td>\n",
       "      <td>0.0</td>\n",
       "      <td>0.0</td>\n",
       "    </tr>\n",
       "  </tbody>\n",
       "</table>\n",
       "<p>3 rows × 85 columns</p>\n",
       "</div>"
      ],
      "text/plain": [
       "          utc_timestamp  AT_temperature  AT_radiation_direct_horizontal  \\\n",
       "0  1980-01-01T00:00:00Z          -3.640                             0.0   \n",
       "1  1980-01-01T01:00:00Z          -3.803                             0.0   \n",
       "2  1980-01-01T02:00:00Z          -3.969                             0.0   \n",
       "\n",
       "   AT_radiation_diffuse_horizontal  BE_temperature  \\\n",
       "0                              0.0          -0.720   \n",
       "1                              0.0          -1.165   \n",
       "2                              0.0          -1.434   \n",
       "\n",
       "   BE_radiation_direct_horizontal  BE_radiation_diffuse_horizontal  \\\n",
       "0                             0.0                              0.0   \n",
       "1                             0.0                              0.0   \n",
       "2                             0.0                              0.0   \n",
       "\n",
       "   BG_temperature  BG_radiation_direct_horizontal  \\\n",
       "0           4.664                             0.0   \n",
       "1           4.052                             0.0   \n",
       "2           3.581                             0.0   \n",
       "\n",
       "   BG_radiation_diffuse_horizontal  ...  RO_radiation_diffuse_horizontal  \\\n",
       "0                              0.0  ...                              0.0   \n",
       "1                              0.0  ...                              0.0   \n",
       "2                              0.0  ...                              0.0   \n",
       "\n",
       "   SE_temperature  SE_radiation_direct_horizontal  \\\n",
       "0          -3.945                             0.0   \n",
       "1          -4.053                             0.0   \n",
       "2          -4.129                             0.0   \n",
       "\n",
       "   SE_radiation_diffuse_horizontal  SI_temperature  \\\n",
       "0                              0.0          -3.055   \n",
       "1                              0.0          -3.272   \n",
       "2                              0.0          -3.639   \n",
       "\n",
       "   SI_radiation_direct_horizontal  SI_radiation_diffuse_horizontal  \\\n",
       "0                             0.0                              0.0   \n",
       "1                             0.0                              0.0   \n",
       "2                             0.0                              0.0   \n",
       "\n",
       "   SK_temperature  SK_radiation_direct_horizontal  \\\n",
       "0          -4.648                             0.0   \n",
       "1          -4.554                             0.0   \n",
       "2          -4.455                             0.0   \n",
       "\n",
       "   SK_radiation_diffuse_horizontal  \n",
       "0                              0.0  \n",
       "1                              0.0  \n",
       "2                              0.0  \n",
       "\n",
       "[3 rows x 85 columns]"
      ]
     },
     "execution_count": 36,
     "metadata": {},
     "output_type": "execute_result"
    }
   ],
   "source": [
    "import pandas as pd\n",
    "import numpy as np\n",
    "import matplotlib.pyplot as plt\n",
    "import plotly.express as px\n",
    "import warnings\n",
    "from IPython.display import display, HTML\n",
    "\n",
    "# Set the warning filter to \"ignore\" to suppress warning messages\n",
    "warnings.filterwarnings(\"ignore\")\n",
    "\n",
    "df = pd.read_csv(\"data/weather_data.csv\")\n",
    "df.head(3)"
   ]
  },
  {
   "cell_type": "markdown",
   "id": "e31a1c41",
   "metadata": {
    "hide_input": false
   },
   "source": [
    "\n",
    "In this instance, our focus will be solely on the temperature data for each country."
   ]
  },
  {
   "cell_type": "markdown",
   "id": "95df154a",
   "metadata": {
    "ExecuteTime": {
     "end_time": "2023-07-23T12:42:23.374135Z",
     "start_time": "2023-07-23T12:42:23.371047Z"
    }
   },
   "source": [
    "### <u>2.2.Reorganization of the DataFrame.</u>\n",
    "\n",
    "We are reorganizing our DataFrame to keep only the temperatures by country and the date.\n",
    "<details>\n",
    "<summary><b>Click to toggle code</b></summary>\n",
    "\n",
    "```python\n",
    "# Creating a list with the column names\n",
    "df_cols = df.columns.tolist()\n",
    "\n",
    "# We want to keep only the temperatures of the countries, so we will filter this list\n",
    "temp = \"temperature\"\n",
    "temp_cols = [col for col in df_cols if temp in col]\n",
    "\n",
    "# Creating the new DataFrame with the date and temperatures of the countries\n",
    "data = pd.concat([df['utc_timestamp'], df[temp_cols]], axis=1)\n",
    "\n",
    "# Renaming country columns\n",
    "data.columns = data.columns.str.replace('_temperature', '')\n",
    "\n",
    "data.head(3)\n",
    "```"
   ]
  },
  {
   "cell_type": "code",
   "execution_count": 2,
   "id": "07719329",
   "metadata": {
    "ExecuteTime": {
     "end_time": "2023-07-23T13:25:48.511068Z",
     "start_time": "2023-07-23T13:25:48.450674Z"
    },
    "hide_input": true
   },
   "outputs": [
    {
     "data": {
      "text/html": [
       "<div>\n",
       "<style scoped>\n",
       "    .dataframe tbody tr th:only-of-type {\n",
       "        vertical-align: middle;\n",
       "    }\n",
       "\n",
       "    .dataframe tbody tr th {\n",
       "        vertical-align: top;\n",
       "    }\n",
       "\n",
       "    .dataframe thead th {\n",
       "        text-align: right;\n",
       "    }\n",
       "</style>\n",
       "<table border=\"1\" class=\"dataframe\">\n",
       "  <thead>\n",
       "    <tr style=\"text-align: right;\">\n",
       "      <th></th>\n",
       "      <th>utc_timestamp</th>\n",
       "      <th>AT</th>\n",
       "      <th>BE</th>\n",
       "      <th>BG</th>\n",
       "      <th>CH</th>\n",
       "      <th>CZ</th>\n",
       "      <th>DE</th>\n",
       "      <th>DK</th>\n",
       "      <th>EE</th>\n",
       "      <th>ES</th>\n",
       "      <th>...</th>\n",
       "      <th>LU</th>\n",
       "      <th>LV</th>\n",
       "      <th>NL</th>\n",
       "      <th>NO</th>\n",
       "      <th>PL</th>\n",
       "      <th>PT</th>\n",
       "      <th>RO</th>\n",
       "      <th>SE</th>\n",
       "      <th>SI</th>\n",
       "      <th>SK</th>\n",
       "    </tr>\n",
       "  </thead>\n",
       "  <tbody>\n",
       "    <tr>\n",
       "      <th>0</th>\n",
       "      <td>1980-01-01T00:00:00Z</td>\n",
       "      <td>-3.640</td>\n",
       "      <td>-0.720</td>\n",
       "      <td>4.664</td>\n",
       "      <td>-6.287</td>\n",
       "      <td>-3.422</td>\n",
       "      <td>-1.261</td>\n",
       "      <td>-1.870</td>\n",
       "      <td>-7.060</td>\n",
       "      <td>8.066</td>\n",
       "      <td>...</td>\n",
       "      <td>-5.150</td>\n",
       "      <td>-7.166</td>\n",
       "      <td>2.382</td>\n",
       "      <td>-7.038</td>\n",
       "      <td>-3.721</td>\n",
       "      <td>12.862</td>\n",
       "      <td>-0.031</td>\n",
       "      <td>-3.945</td>\n",
       "      <td>-3.055</td>\n",
       "      <td>-4.648</td>\n",
       "    </tr>\n",
       "    <tr>\n",
       "      <th>1</th>\n",
       "      <td>1980-01-01T01:00:00Z</td>\n",
       "      <td>-3.803</td>\n",
       "      <td>-1.165</td>\n",
       "      <td>4.052</td>\n",
       "      <td>-6.602</td>\n",
       "      <td>-3.360</td>\n",
       "      <td>-1.414</td>\n",
       "      <td>-1.914</td>\n",
       "      <td>-7.341</td>\n",
       "      <td>7.960</td>\n",
       "      <td>...</td>\n",
       "      <td>-5.333</td>\n",
       "      <td>-7.371</td>\n",
       "      <td>2.236</td>\n",
       "      <td>-6.941</td>\n",
       "      <td>-3.806</td>\n",
       "      <td>12.757</td>\n",
       "      <td>0.311</td>\n",
       "      <td>-4.053</td>\n",
       "      <td>-3.272</td>\n",
       "      <td>-4.554</td>\n",
       "    </tr>\n",
       "    <tr>\n",
       "      <th>2</th>\n",
       "      <td>1980-01-01T02:00:00Z</td>\n",
       "      <td>-3.969</td>\n",
       "      <td>-1.434</td>\n",
       "      <td>3.581</td>\n",
       "      <td>-6.981</td>\n",
       "      <td>-3.429</td>\n",
       "      <td>-1.571</td>\n",
       "      <td>-1.976</td>\n",
       "      <td>-7.591</td>\n",
       "      <td>8.008</td>\n",
       "      <td>...</td>\n",
       "      <td>-5.167</td>\n",
       "      <td>-7.342</td>\n",
       "      <td>2.086</td>\n",
       "      <td>-6.856</td>\n",
       "      <td>-3.868</td>\n",
       "      <td>12.674</td>\n",
       "      <td>0.568</td>\n",
       "      <td>-4.129</td>\n",
       "      <td>-3.639</td>\n",
       "      <td>-4.455</td>\n",
       "    </tr>\n",
       "  </tbody>\n",
       "</table>\n",
       "<p>3 rows × 29 columns</p>\n",
       "</div>"
      ],
      "text/plain": [
       "          utc_timestamp     AT     BE     BG     CH     CZ     DE     DK  \\\n",
       "0  1980-01-01T00:00:00Z -3.640 -0.720  4.664 -6.287 -3.422 -1.261 -1.870   \n",
       "1  1980-01-01T01:00:00Z -3.803 -1.165  4.052 -6.602 -3.360 -1.414 -1.914   \n",
       "2  1980-01-01T02:00:00Z -3.969 -1.434  3.581 -6.981 -3.429 -1.571 -1.976   \n",
       "\n",
       "      EE     ES  ...     LU     LV     NL     NO     PL      PT     RO     SE  \\\n",
       "0 -7.060  8.066  ... -5.150 -7.166  2.382 -7.038 -3.721  12.862 -0.031 -3.945   \n",
       "1 -7.341  7.960  ... -5.333 -7.371  2.236 -6.941 -3.806  12.757  0.311 -4.053   \n",
       "2 -7.591  8.008  ... -5.167 -7.342  2.086 -6.856 -3.868  12.674  0.568 -4.129   \n",
       "\n",
       "      SI     SK  \n",
       "0 -3.055 -4.648  \n",
       "1 -3.272 -4.554  \n",
       "2 -3.639 -4.455  \n",
       "\n",
       "[3 rows x 29 columns]"
      ]
     },
     "execution_count": 2,
     "metadata": {},
     "output_type": "execute_result"
    }
   ],
   "source": [
    "# Creating a list with the column names\n",
    "df_cols = df.columns.tolist()\n",
    "\n",
    "# We want to keep only the temperatures of the countries, so we will filter this list\n",
    "temp = \"temperature\"\n",
    "temp_cols = [col for col in df_cols if temp in col]\n",
    "\n",
    "# Creating the new DataFrame with the date and temperatures of the countries\n",
    "data = pd.concat([df['utc_timestamp'], df[temp_cols]], axis=1)\n",
    "\n",
    "# Renaming country columns\n",
    "data.columns = data.columns.str.replace('_temperature', '')\n",
    "\n",
    "data.head(3)"
   ]
  },
  {
   "cell_type": "markdown",
   "id": "7228640c",
   "metadata": {},
   "source": [
    "#### <u>2.2.1.Reorganization of the DataFrame's time dimension.</u>\n",
    "\n",
    "<u>1. Evolution of the annual temperature.</u>\n",
    "\n",
    "First, we want to study the overall evolution of the temperature in European countries over the years. To do this, we will create a new DataFrame containing the average temperatures of each country per year.\n",
    "\n",
    "<details>\n",
    "<summary><b>Click to toggle code</b></summary>\n",
    "\n",
    "```python\n",
    "\n",
    "# Copy the DataFrame 'data' to a new DataFrame 'data_year' to work with a copy and avoid modifying the original data\n",
    "data_year = data.copy()\n",
    "\n",
    "# Convert the 'utc_timestamp' column to datetime objects using pd.to_datetime()\n",
    "# Then, format the datetime objects into strings with the format '%Y', which represents the four-digit year (e.g., '2023')\n",
    "# This extracts only the year from the 'utc_timestamp' column\n",
    "data_year.utc_timestamp = pd.to_datetime(data_year['utc_timestamp']).dt.strftime('%Y')\n",
    "\n",
    "# Group the 'data_year' DataFrame by the 'year' column and calculate the mean of each group\n",
    "data_year = data_year.groupby('utc_timestamp').mean()\n",
    "\n",
    "# Reset the index of the DataFrame after the grouping operation\n",
    "data_year.reset_index(inplace=True)\n",
    "\n",
    "# Rename the 'utc_timestamp' column to 'year' in the 'data_year' DataFrame\n",
    "# This provides a more appropriate name for the column as it now contains only the year of the record\n",
    "data_year.rename(columns={'utc_timestamp': 'year'}, inplace=True)\n",
    "\n",
    "data_year.head(3)\n",
    "```"
   ]
  },
  {
   "cell_type": "code",
   "execution_count": 3,
   "id": "e8b8ffc4",
   "metadata": {
    "ExecuteTime": {
     "end_time": "2023-07-23T13:25:49.736009Z",
     "start_time": "2023-07-23T13:25:48.514583Z"
    },
    "hide_input": true
   },
   "outputs": [
    {
     "data": {
      "text/html": [
       "<div>\n",
       "<style scoped>\n",
       "    .dataframe tbody tr th:only-of-type {\n",
       "        vertical-align: middle;\n",
       "    }\n",
       "\n",
       "    .dataframe tbody tr th {\n",
       "        vertical-align: top;\n",
       "    }\n",
       "\n",
       "    .dataframe thead th {\n",
       "        text-align: right;\n",
       "    }\n",
       "</style>\n",
       "<table border=\"1\" class=\"dataframe\">\n",
       "  <thead>\n",
       "    <tr style=\"text-align: right;\">\n",
       "      <th></th>\n",
       "      <th>year</th>\n",
       "      <th>AT</th>\n",
       "      <th>BE</th>\n",
       "      <th>BG</th>\n",
       "      <th>CH</th>\n",
       "      <th>CZ</th>\n",
       "      <th>DE</th>\n",
       "      <th>DK</th>\n",
       "      <th>EE</th>\n",
       "      <th>ES</th>\n",
       "      <th>...</th>\n",
       "      <th>LU</th>\n",
       "      <th>LV</th>\n",
       "      <th>NL</th>\n",
       "      <th>NO</th>\n",
       "      <th>PL</th>\n",
       "      <th>PT</th>\n",
       "      <th>RO</th>\n",
       "      <th>SE</th>\n",
       "      <th>SI</th>\n",
       "      <th>SK</th>\n",
       "    </tr>\n",
       "  </thead>\n",
       "  <tbody>\n",
       "    <tr>\n",
       "      <th>0</th>\n",
       "      <td>1980</td>\n",
       "      <td>6.049147</td>\n",
       "      <td>8.791302</td>\n",
       "      <td>9.432581</td>\n",
       "      <td>6.060315</td>\n",
       "      <td>5.839449</td>\n",
       "      <td>7.232458</td>\n",
       "      <td>7.287840</td>\n",
       "      <td>4.338776</td>\n",
       "      <td>14.352198</td>\n",
       "      <td>...</td>\n",
       "      <td>7.386867</td>\n",
       "      <td>4.340944</td>\n",
       "      <td>9.069256</td>\n",
       "      <td>3.287483</td>\n",
       "      <td>5.939743</td>\n",
       "      <td>15.095769</td>\n",
       "      <td>8.171396</td>\n",
       "      <td>4.742330</td>\n",
       "      <td>7.502274</td>\n",
       "      <td>5.928217</td>\n",
       "    </tr>\n",
       "    <tr>\n",
       "      <th>1</th>\n",
       "      <td>1981</td>\n",
       "      <td>7.191993</td>\n",
       "      <td>9.008968</td>\n",
       "      <td>10.226017</td>\n",
       "      <td>6.552329</td>\n",
       "      <td>6.988352</td>\n",
       "      <td>7.816293</td>\n",
       "      <td>7.301089</td>\n",
       "      <td>4.853085</td>\n",
       "      <td>15.010856</td>\n",
       "      <td>...</td>\n",
       "      <td>7.960409</td>\n",
       "      <td>5.428035</td>\n",
       "      <td>9.152883</td>\n",
       "      <td>2.879921</td>\n",
       "      <td>7.094175</td>\n",
       "      <td>15.725073</td>\n",
       "      <td>9.209093</td>\n",
       "      <td>4.774986</td>\n",
       "      <td>8.664291</td>\n",
       "      <td>7.279068</td>\n",
       "    </tr>\n",
       "    <tr>\n",
       "      <th>2</th>\n",
       "      <td>1982</td>\n",
       "      <td>7.566535</td>\n",
       "      <td>9.543830</td>\n",
       "      <td>10.110494</td>\n",
       "      <td>7.526256</td>\n",
       "      <td>7.626532</td>\n",
       "      <td>8.655136</td>\n",
       "      <td>8.001437</td>\n",
       "      <td>4.991037</td>\n",
       "      <td>14.793416</td>\n",
       "      <td>...</td>\n",
       "      <td>8.801837</td>\n",
       "      <td>5.497602</td>\n",
       "      <td>9.680261</td>\n",
       "      <td>3.936079</td>\n",
       "      <td>7.839661</td>\n",
       "      <td>15.149457</td>\n",
       "      <td>9.628713</td>\n",
       "      <td>5.578134</td>\n",
       "      <td>8.954765</td>\n",
       "      <td>7.707852</td>\n",
       "    </tr>\n",
       "  </tbody>\n",
       "</table>\n",
       "<p>3 rows × 29 columns</p>\n",
       "</div>"
      ],
      "text/plain": [
       "   year        AT        BE         BG        CH        CZ        DE  \\\n",
       "0  1980  6.049147  8.791302   9.432581  6.060315  5.839449  7.232458   \n",
       "1  1981  7.191993  9.008968  10.226017  6.552329  6.988352  7.816293   \n",
       "2  1982  7.566535  9.543830  10.110494  7.526256  7.626532  8.655136   \n",
       "\n",
       "         DK        EE         ES  ...        LU        LV        NL        NO  \\\n",
       "0  7.287840  4.338776  14.352198  ...  7.386867  4.340944  9.069256  3.287483   \n",
       "1  7.301089  4.853085  15.010856  ...  7.960409  5.428035  9.152883  2.879921   \n",
       "2  8.001437  4.991037  14.793416  ...  8.801837  5.497602  9.680261  3.936079   \n",
       "\n",
       "         PL         PT        RO        SE        SI        SK  \n",
       "0  5.939743  15.095769  8.171396  4.742330  7.502274  5.928217  \n",
       "1  7.094175  15.725073  9.209093  4.774986  8.664291  7.279068  \n",
       "2  7.839661  15.149457  9.628713  5.578134  8.954765  7.707852  \n",
       "\n",
       "[3 rows x 29 columns]"
      ]
     },
     "execution_count": 3,
     "metadata": {},
     "output_type": "execute_result"
    }
   ],
   "source": [
    "# Copy the DataFrame 'data' to a new DataFrame 'data_year' to work with a copy and avoid modifying the original data\n",
    "data_year = data.copy()\n",
    "\n",
    "# Convert the 'utc_timestamp' column to datetime objects using pd.to_datetime()\n",
    "# Then, format the datetime objects into strings with the format '%Y', which represents the four-digit year (e.g., '2023')\n",
    "# This extracts only the year from the 'utc_timestamp' column\n",
    "data_year.utc_timestamp = pd.to_datetime(data_year['utc_timestamp']).dt.strftime('%Y')\n",
    "\n",
    "# Group the 'data_year' DataFrame by the 'year' column and calculate the mean of each group\n",
    "data_year = data_year.groupby('utc_timestamp').mean()\n",
    "\n",
    "# Reset the index of the DataFrame after the grouping operation\n",
    "data_year.reset_index(inplace=True)\n",
    "\n",
    "# Rename the 'utc_timestamp' column to 'year' in the 'data_year' DataFrame\n",
    "# This provides a more appropriate name for the column as it now contains only the year of the record\n",
    "data_year.rename(columns={'utc_timestamp': 'year'}, inplace=True)\n",
    "\n",
    "data_year.head(3)"
   ]
  },
  {
   "cell_type": "markdown",
   "id": "b6c575f4",
   "metadata": {},
   "source": [
    "<u>2. Evolution of the annual temperature for each season.</u>\n",
    "\n",
    "In a second step, we want to observe the seasonal evolution of the temperature for each country.\n",
    "\n",
    "<details>\n",
    "<summary><b>Click to toggle code</b></summary>\n",
    "\n",
    "```python\n",
    "\n",
    "# Copy the DataFrame 'data' to a new DataFrame 'data_year' to work with a copy and avoid modifying the original data\n",
    "df_s = data.copy()\n",
    "\n",
    "# Convert the 'utc_timestamp' column to datetime objects using pd.to_datetime()\n",
    "df_s['utc_timestamp'] = pd.to_datetime(df_s['utc_timestamp'])\n",
    "\n",
    "# Extract the year from the 'utc_timestamp' column and create a new 'year' column\n",
    "df_s['year'] = df_s['utc_timestamp'].dt.year\n",
    "\n",
    "# Extract the quarter (season) from the 'utc_timestamp' column and create a new 'season' column\n",
    "df_s['season'] = df_s['utc_timestamp'].dt.quarter\n",
    "\n",
    "# Define a dictionary with season numbers as keys and corresponding season names as values\n",
    "season_names = {1: 'Winter', 2: 'Spring', 3: 'Summer', 4: 'Autumn'}\n",
    "\n",
    "# Map the season numbers to their corresponding season names using the dictionary\n",
    "df_s['season'] = df_s['season'].map(season_names)\n",
    "\n",
    "# Group the data by 'year' and 'season', then calculate the mean of each group (average temperatures)\n",
    "data_season = df_s.groupby(['year', 'season']).mean()\n",
    "\n",
    "data_season.head(4)\n",
    "```"
   ]
  },
  {
   "cell_type": "code",
   "execution_count": 9,
   "id": "d4569197",
   "metadata": {
    "ExecuteTime": {
     "end_time": "2023-07-23T13:29:15.922921Z",
     "start_time": "2023-07-23T13:29:15.789576Z"
    },
    "hide_input": true
   },
   "outputs": [
    {
     "data": {
      "text/html": [
       "<div>\n",
       "<style scoped>\n",
       "    .dataframe tbody tr th:only-of-type {\n",
       "        vertical-align: middle;\n",
       "    }\n",
       "\n",
       "    .dataframe tbody tr th {\n",
       "        vertical-align: top;\n",
       "    }\n",
       "\n",
       "    .dataframe thead th {\n",
       "        text-align: right;\n",
       "    }\n",
       "</style>\n",
       "<table border=\"1\" class=\"dataframe\">\n",
       "  <thead>\n",
       "    <tr style=\"text-align: right;\">\n",
       "      <th></th>\n",
       "      <th></th>\n",
       "      <th>AT</th>\n",
       "      <th>BE</th>\n",
       "      <th>BG</th>\n",
       "      <th>CH</th>\n",
       "      <th>CZ</th>\n",
       "      <th>DE</th>\n",
       "      <th>DK</th>\n",
       "      <th>EE</th>\n",
       "      <th>ES</th>\n",
       "      <th>FI</th>\n",
       "      <th>...</th>\n",
       "      <th>LU</th>\n",
       "      <th>LV</th>\n",
       "      <th>NL</th>\n",
       "      <th>NO</th>\n",
       "      <th>PL</th>\n",
       "      <th>PT</th>\n",
       "      <th>RO</th>\n",
       "      <th>SE</th>\n",
       "      <th>SI</th>\n",
       "      <th>SK</th>\n",
       "    </tr>\n",
       "    <tr>\n",
       "      <th>year</th>\n",
       "      <th>season</th>\n",
       "      <th></th>\n",
       "      <th></th>\n",
       "      <th></th>\n",
       "      <th></th>\n",
       "      <th></th>\n",
       "      <th></th>\n",
       "      <th></th>\n",
       "      <th></th>\n",
       "      <th></th>\n",
       "      <th></th>\n",
       "      <th></th>\n",
       "      <th></th>\n",
       "      <th></th>\n",
       "      <th></th>\n",
       "      <th></th>\n",
       "      <th></th>\n",
       "      <th></th>\n",
       "      <th></th>\n",
       "      <th></th>\n",
       "      <th></th>\n",
       "      <th></th>\n",
       "    </tr>\n",
       "  </thead>\n",
       "  <tbody>\n",
       "    <tr>\n",
       "      <th rowspan=\"4\" valign=\"top\">1980</th>\n",
       "      <th>Autumn</th>\n",
       "      <td>1.488466</td>\n",
       "      <td>5.064023</td>\n",
       "      <td>6.504269</td>\n",
       "      <td>1.579658</td>\n",
       "      <td>1.416050</td>\n",
       "      <td>3.120929</td>\n",
       "      <td>4.851288</td>\n",
       "      <td>1.155783</td>\n",
       "      <td>10.688797</td>\n",
       "      <td>-2.572383</td>\n",
       "      <td>...</td>\n",
       "      <td>2.919924</td>\n",
       "      <td>1.357816</td>\n",
       "      <td>6.045992</td>\n",
       "      <td>-1.619904</td>\n",
       "      <td>2.095689</td>\n",
       "      <td>12.635912</td>\n",
       "      <td>4.236633</td>\n",
       "      <td>0.558290</td>\n",
       "      <td>2.556412</td>\n",
       "      <td>1.045207</td>\n",
       "    </tr>\n",
       "    <tr>\n",
       "      <th>Spring</th>\n",
       "      <td>9.025762</td>\n",
       "      <td>11.204824</td>\n",
       "      <td>12.947861</td>\n",
       "      <td>8.279474</td>\n",
       "      <td>9.256128</td>\n",
       "      <td>10.193806</td>\n",
       "      <td>9.966512</td>\n",
       "      <td>8.701015</td>\n",
       "      <td>15.299509</td>\n",
       "      <td>8.430994</td>\n",
       "      <td>...</td>\n",
       "      <td>10.208624</td>\n",
       "      <td>9.162796</td>\n",
       "      <td>11.226821</td>\n",
       "      <td>8.334772</td>\n",
       "      <td>9.877262</td>\n",
       "      <td>15.762358</td>\n",
       "      <td>12.657973</td>\n",
       "      <td>9.287961</td>\n",
       "      <td>10.569586</td>\n",
       "      <td>10.092748</td>\n",
       "    </tr>\n",
       "    <tr>\n",
       "      <th>Summer</th>\n",
       "      <td>15.345997</td>\n",
       "      <td>15.961112</td>\n",
       "      <td>19.093919</td>\n",
       "      <td>14.696428</td>\n",
       "      <td>14.791049</td>\n",
       "      <td>15.512826</td>\n",
       "      <td>15.289546</td>\n",
       "      <td>14.804468</td>\n",
       "      <td>22.684515</td>\n",
       "      <td>13.851111</td>\n",
       "      <td>...</td>\n",
       "      <td>15.088076</td>\n",
       "      <td>14.670868</td>\n",
       "      <td>16.169462</td>\n",
       "      <td>12.674218</td>\n",
       "      <td>15.156883</td>\n",
       "      <td>21.061553</td>\n",
       "      <td>18.013053</td>\n",
       "      <td>14.501887</td>\n",
       "      <td>16.922412</td>\n",
       "      <td>15.352824</td>\n",
       "    </tr>\n",
       "    <tr>\n",
       "      <th>Winter</th>\n",
       "      <td>-1.715685</td>\n",
       "      <td>2.897418</td>\n",
       "      <td>-0.889715</td>\n",
       "      <td>-0.359963</td>\n",
       "      <td>-2.155192</td>\n",
       "      <td>0.056460</td>\n",
       "      <td>-1.017142</td>\n",
       "      <td>-7.386194</td>\n",
       "      <td>8.684665</td>\n",
       "      <td>-9.270083</td>\n",
       "      <td>...</td>\n",
       "      <td>1.295304</td>\n",
       "      <td>-7.908439</td>\n",
       "      <td>2.789949</td>\n",
       "      <td>-6.288379</td>\n",
       "      <td>-3.429906</td>\n",
       "      <td>10.884728</td>\n",
       "      <td>-2.286985</td>\n",
       "      <td>-5.440089</td>\n",
       "      <td>-0.088481</td>\n",
       "      <td>-2.827820</td>\n",
       "    </tr>\n",
       "  </tbody>\n",
       "</table>\n",
       "<p>4 rows × 28 columns</p>\n",
       "</div>"
      ],
      "text/plain": [
       "                    AT         BE         BG         CH         CZ         DE  \\\n",
       "year season                                                                     \n",
       "1980 Autumn   1.488466   5.064023   6.504269   1.579658   1.416050   3.120929   \n",
       "     Spring   9.025762  11.204824  12.947861   8.279474   9.256128  10.193806   \n",
       "     Summer  15.345997  15.961112  19.093919  14.696428  14.791049  15.512826   \n",
       "     Winter  -1.715685   2.897418  -0.889715  -0.359963  -2.155192   0.056460   \n",
       "\n",
       "                    DK         EE         ES         FI  ...         LU  \\\n",
       "year season                                              ...              \n",
       "1980 Autumn   4.851288   1.155783  10.688797  -2.572383  ...   2.919924   \n",
       "     Spring   9.966512   8.701015  15.299509   8.430994  ...  10.208624   \n",
       "     Summer  15.289546  14.804468  22.684515  13.851111  ...  15.088076   \n",
       "     Winter  -1.017142  -7.386194   8.684665  -9.270083  ...   1.295304   \n",
       "\n",
       "                    LV         NL         NO         PL         PT         RO  \\\n",
       "year season                                                                     \n",
       "1980 Autumn   1.357816   6.045992  -1.619904   2.095689  12.635912   4.236633   \n",
       "     Spring   9.162796  11.226821   8.334772   9.877262  15.762358  12.657973   \n",
       "     Summer  14.670868  16.169462  12.674218  15.156883  21.061553  18.013053   \n",
       "     Winter  -7.908439   2.789949  -6.288379  -3.429906  10.884728  -2.286985   \n",
       "\n",
       "                    SE         SI         SK  \n",
       "year season                                   \n",
       "1980 Autumn   0.558290   2.556412   1.045207  \n",
       "     Spring   9.287961  10.569586  10.092748  \n",
       "     Summer  14.501887  16.922412  15.352824  \n",
       "     Winter  -5.440089  -0.088481  -2.827820  \n",
       "\n",
       "[4 rows x 28 columns]"
      ]
     },
     "execution_count": 9,
     "metadata": {},
     "output_type": "execute_result"
    }
   ],
   "source": [
    "# Copy the DataFrame 'data' to a new DataFrame 'data_year' to work with a copy and avoid modifying the original data\n",
    "df_s = data.copy()\n",
    "\n",
    "# Convert the 'utc_timestamp' column to datetime objects using pd.to_datetime()\n",
    "df_s['utc_timestamp'] = pd.to_datetime(df_s['utc_timestamp'])\n",
    "\n",
    "# Extract the year from the 'utc_timestamp' column and create a new 'year' column\n",
    "df_s['year'] = df_s['utc_timestamp'].dt.year\n",
    "\n",
    "# Extract the quarter (season) from the 'utc_timestamp' column and create a new 'season' column\n",
    "df_s['season'] = df_s['utc_timestamp'].dt.quarter\n",
    "\n",
    "# Define a dictionary with season numbers as keys and corresponding season names as values\n",
    "season_names = {1: 'Winter', 2: 'Spring', 3: 'Summer', 4: 'Autumn'}\n",
    "\n",
    "# Map the season numbers to their corresponding season names using the dictionary\n",
    "df_s['season'] = df_s['season'].map(season_names)\n",
    "\n",
    "# Group the data by 'year' and 'season', then calculate the mean of each group (average temperatures)\n",
    "data_season = df_s.groupby(['year', 'season']).mean()\n",
    "\n",
    "data_season.head(4)"
   ]
  },
  {
   "cell_type": "markdown",
   "id": "3cbe74ba",
   "metadata": {},
   "source": [
    "## <u>3.Exploratory Data Analysis.<a id=\"EDA\"></a></u>"
   ]
  },
  {
   "cell_type": "markdown",
   "id": "831e7b3c",
   "metadata": {
    "ExecuteTime": {
     "end_time": "2023-07-23T13:46:39.925933Z",
     "start_time": "2023-07-23T13:46:39.923353Z"
    }
   },
   "source": [
    "### <u>3.1.Exploratory Data Analysis (EDA) of annual climate change.</u>"
   ]
  },
  {
   "cell_type": "markdown",
   "id": "382c38ae",
   "metadata": {},
   "source": [
    "First, we will focus on the annual temperature evolution in Europe. We will provide some key insights and a dynamic data visualization."
   ]
  },
  {
   "cell_type": "markdown",
   "id": "a80da2e3",
   "metadata": {
    "ExecuteTime": {
     "end_time": "2023-07-23T14:01:29.382798Z",
     "start_time": "2023-07-23T14:01:29.379002Z"
    }
   },
   "source": [
    "#### <u>3.1.1.Climate Change</u>\n",
    "\n",
    "First, we would like to observe the temperature increase between 1980 and 2019 for each of the countries present in the DataFrame. So, we will create a new table containing the temperature difference between these two dates.\n",
    "\n",
    "<details>\n",
    "<summary><b>Click to toggle code</b></summary>\n",
    "\n",
    "```python\n",
    "\n",
    "# Calculate the average temperature for each country in 1980 and 2019\n",
    "temp_mean_1980 = data_year.iloc[0][1:]\n",
    "temp_mean_2019 = data_year.iloc[-1][1:]\n",
    "\n",
    "# Calculate the difference between 2019 and 1980 for each country\n",
    "temperature_diff = temp_mean_2019 - temp_mean_1980\n",
    "\n",
    "# Create a new DataFrame with Temperature difference\n",
    "country_temp_diff = pd.DataFrame({'Temperature difference': temperature_diff}).transpose()\n",
    "\n",
    "country_temp_diff\n",
    "```"
   ]
  },
  {
   "cell_type": "code",
   "execution_count": 33,
   "id": "89e22b31",
   "metadata": {
    "ExecuteTime": {
     "end_time": "2023-07-23T14:29:34.785428Z",
     "start_time": "2023-07-23T14:29:34.777987Z"
    },
    "hide_input": true,
    "scrolled": true
   },
   "outputs": [
    {
     "data": {
      "text/html": [
       "<div>\n",
       "<style scoped>\n",
       "    .dataframe tbody tr th:only-of-type {\n",
       "        vertical-align: middle;\n",
       "    }\n",
       "\n",
       "    .dataframe tbody tr th {\n",
       "        vertical-align: top;\n",
       "    }\n",
       "\n",
       "    .dataframe thead th {\n",
       "        text-align: right;\n",
       "    }\n",
       "</style>\n",
       "<table border=\"1\" class=\"dataframe\">\n",
       "  <thead>\n",
       "    <tr style=\"text-align: right;\">\n",
       "      <th></th>\n",
       "      <th>Temperature difference</th>\n",
       "    </tr>\n",
       "  </thead>\n",
       "  <tbody>\n",
       "    <tr>\n",
       "      <th>AT</th>\n",
       "      <td>3.149491</td>\n",
       "    </tr>\n",
       "    <tr>\n",
       "      <th>BE</th>\n",
       "      <td>2.185264</td>\n",
       "    </tr>\n",
       "    <tr>\n",
       "      <th>BG</th>\n",
       "      <td>3.284148</td>\n",
       "    </tr>\n",
       "    <tr>\n",
       "      <th>CH</th>\n",
       "      <td>2.541605</td>\n",
       "    </tr>\n",
       "    <tr>\n",
       "      <th>CZ</th>\n",
       "      <td>3.823105</td>\n",
       "    </tr>\n",
       "    <tr>\n",
       "      <th>DE</th>\n",
       "      <td>3.028974</td>\n",
       "    </tr>\n",
       "    <tr>\n",
       "      <th>DK</th>\n",
       "      <td>2.371045</td>\n",
       "    </tr>\n",
       "    <tr>\n",
       "      <th>EE</th>\n",
       "      <td>2.667369</td>\n",
       "    </tr>\n",
       "    <tr>\n",
       "      <th>ES</th>\n",
       "      <td>1.29545</td>\n",
       "    </tr>\n",
       "    <tr>\n",
       "      <th>FI</th>\n",
       "      <td>2.050201</td>\n",
       "    </tr>\n",
       "    <tr>\n",
       "      <th>FR</th>\n",
       "      <td>2.266935</td>\n",
       "    </tr>\n",
       "    <tr>\n",
       "      <th>GB</th>\n",
       "      <td>1.237685</td>\n",
       "    </tr>\n",
       "    <tr>\n",
       "      <th>GR</th>\n",
       "      <td>1.934805</td>\n",
       "    </tr>\n",
       "    <tr>\n",
       "      <th>HR</th>\n",
       "      <td>3.416682</td>\n",
       "    </tr>\n",
       "    <tr>\n",
       "      <th>HU</th>\n",
       "      <td>3.9827</td>\n",
       "    </tr>\n",
       "    <tr>\n",
       "      <th>IE</th>\n",
       "      <td>0.779795</td>\n",
       "    </tr>\n",
       "    <tr>\n",
       "      <th>IT</th>\n",
       "      <td>2.351834</td>\n",
       "    </tr>\n",
       "    <tr>\n",
       "      <th>LT</th>\n",
       "      <td>3.409285</td>\n",
       "    </tr>\n",
       "    <tr>\n",
       "      <th>LU</th>\n",
       "      <td>2.73277</td>\n",
       "    </tr>\n",
       "    <tr>\n",
       "      <th>LV</th>\n",
       "      <td>3.282914</td>\n",
       "    </tr>\n",
       "    <tr>\n",
       "      <th>NL</th>\n",
       "      <td>2.036969</td>\n",
       "    </tr>\n",
       "    <tr>\n",
       "      <th>NO</th>\n",
       "      <td>1.413149</td>\n",
       "    </tr>\n",
       "    <tr>\n",
       "      <th>PL</th>\n",
       "      <td>4.0322</td>\n",
       "    </tr>\n",
       "    <tr>\n",
       "      <th>PT</th>\n",
       "      <td>0.345844</td>\n",
       "    </tr>\n",
       "    <tr>\n",
       "      <th>RO</th>\n",
       "      <td>3.784635</td>\n",
       "    </tr>\n",
       "    <tr>\n",
       "      <th>SE</th>\n",
       "      <td>2.42786</td>\n",
       "    </tr>\n",
       "    <tr>\n",
       "      <th>SI</th>\n",
       "      <td>3.27973</td>\n",
       "    </tr>\n",
       "    <tr>\n",
       "      <th>SK</th>\n",
       "      <td>3.87005</td>\n",
       "    </tr>\n",
       "  </tbody>\n",
       "</table>\n",
       "</div>"
      ],
      "text/plain": [
       "   Temperature difference\n",
       "AT               3.149491\n",
       "BE               2.185264\n",
       "BG               3.284148\n",
       "CH               2.541605\n",
       "CZ               3.823105\n",
       "DE               3.028974\n",
       "DK               2.371045\n",
       "EE               2.667369\n",
       "ES                1.29545\n",
       "FI               2.050201\n",
       "FR               2.266935\n",
       "GB               1.237685\n",
       "GR               1.934805\n",
       "HR               3.416682\n",
       "HU                 3.9827\n",
       "IE               0.779795\n",
       "IT               2.351834\n",
       "LT               3.409285\n",
       "LU                2.73277\n",
       "LV               3.282914\n",
       "NL               2.036969\n",
       "NO               1.413149\n",
       "PL                 4.0322\n",
       "PT               0.345844\n",
       "RO               3.784635\n",
       "SE                2.42786\n",
       "SI                3.27973\n",
       "SK                3.87005"
      ]
     },
     "execution_count": 33,
     "metadata": {},
     "output_type": "execute_result"
    }
   ],
   "source": [
    "# Calculate the average temperature for each country in 1980 and 2019\n",
    "temp_mean_1980 = data_year.iloc[0][1:]\n",
    "temp_mean_2019 = data_year.iloc[-1][1:]\n",
    "\n",
    "# Calculate the difference between 2019 and 1980 for each country\n",
    "temperature_diff = temp_mean_2019 - temp_mean_1980\n",
    "\n",
    "# Create a new DataFrame with Temperature difference\n",
    "country_temp_diff = pd.DataFrame({'Temperature difference': temperature_diff})\n",
    "\n",
    "country_temp_diff"
   ]
  },
  {
   "cell_type": "markdown",
   "id": "7791be54",
   "metadata": {},
   "source": [
    "We can observe that all countries have experienced an increase in their average annual temperature between the years 1980 and 2019.\n",
    "\n",
    "We would also like to know the country with the highest temperature increase in Europe and the one with the lowest.\n",
    "\n",
    "<details>\n",
    "<summary><b>Click to toggle code</b></summary>\n",
    "\n",
    "```python\n",
    "\n",
    "# Ensure the \"Temperature difference\" column is float\n",
    "country_temp_diff['Temperature difference'] = pd.to_numeric(country_temp_diff['Temperature difference'])\n",
    "\n",
    "# Find the country with the largest temperature difference\n",
    "country_max_diff = country_temp_diff.loc[country_temp_diff['Temperature difference'].idxmax()]\n",
    "\n",
    "# Find the country with the smallest temperature difference\n",
    "country_min_diff = country_temp_diff.loc[country_temp_diff['Temperature difference'].idxmin()]\n",
    "\n",
    "print(\"Country with the largest temperature difference:\")\n",
    "print(country_max_diff)\n",
    "\n",
    "print(\"\\nCountry with the smallest temperature difference:\")\n",
    "print(country_min_diff)\n",
    "```"
   ]
  },
  {
   "cell_type": "markdown",
   "id": "47146d86",
   "metadata": {
    "ExecuteTime": {
     "end_time": "2023-07-23T14:58:32.653936Z",
     "start_time": "2023-07-23T14:58:32.648292Z"
    }
   },
   "source": [
    "<u>Country with the largest temperature difference:</u>  \n",
    "*Temperature difference:*   **4.0322**  \n",
    "*Name:* **PL**  \n",
    "\n",
    "<u>Country with the smallest temperature difference:</u>  \n",
    "*Temperature difference:*    **0.345844**  \n",
    "*Name:* **PT**  \n",
    "\n",
    "The country with the highest temperature increase between 1980 and 2019 is **Poland** with an increase of **4.0322°C**.\n",
    "\n",
    "\n",
    "The country with the lowest temperature increase between 1980 and 2019 is **Portugal** with an increase of **0.345844°C**."
   ]
  },
  {
   "cell_type": "markdown",
   "id": "65fc9720",
   "metadata": {},
   "source": [
    "\n",
    "\n"
   ]
  },
  {
   "cell_type": "markdown",
   "id": "846c04c2",
   "metadata": {},
   "source": [
    " \n",
    " \n",
    "We would like to know the average annual temperature increase for Europe between the years 1980 and 2019. For that, we will take the \"country_temp_diff\" DataFrame and calculate the average across all countries :\n",
    "\n",
    "<details>\n",
    "<summary><b>Click to toggle code</b></summary>\n",
    "\n",
    "```python\n",
    "#Calculate the average temperature increase for the European countries\n",
    "average_EU_temp_increase = country_temp_diff.mean()\n",
    "print(average_EU_temp_increase)\n",
    "```"
   ]
  },
  {
   "cell_type": "code",
   "execution_count": 54,
   "id": "8a3d9611",
   "metadata": {
    "ExecuteTime": {
     "end_time": "2023-07-23T15:12:01.053326Z",
     "start_time": "2023-07-23T15:12:01.048033Z"
    },
    "hide_input": true
   },
   "outputs": [
    {
     "name": "stdout",
     "output_type": "stream",
     "text": [
      "Temperature difference    2.606518\n",
      "dtype: float64\n"
     ]
    }
   ],
   "source": [
    "# Calculate the average temperature increase for the European countries\n",
    "average_EU_temp_increase = country_temp_diff.mean()\n",
    "print(average_EU_temp_increase)"
   ]
  },
  {
   "cell_type": "markdown",
   "id": "0a2ba406",
   "metadata": {},
   "source": [
    "**Europe (assuming that all countries are present in our dataset) experienced an overall annual increase of 2.606518°C between the years 1980 and 2019.**"
   ]
  },
  {
   "cell_type": "markdown",
   "id": "7e64ca9b",
   "metadata": {},
   "source": [
    "#### <u>3.1.1.Data visualization of climate changes in European countries. </u>\n",
    "\n",
    "To represent climate changes, we have created an interactive graph that allows you to explore the data dynamically. \n",
    "\n",
    "On this graph, you can deselect countries by clicking on their names in the legend.\n",
    "We also have a line indicating the European average temperature (black line).\n",
    "\n",
    "\n",
    "<details>\n",
    "<summary><b>Click to toggle code</b></summary>\n",
    "\n",
    "```python\n",
    "import plotly.graph_objects as go\n",
    "\n",
    "# Calculate the average temperature of Europe for each year\n",
    "data_year['Average Temperature'] = data_year.mean(axis=1)\n",
    "\n",
    "#Create the interactive fig\n",
    "fig = px.line(\n",
    "    data_year,\n",
    "    x='year',\n",
    "    y=[\n",
    "        'AT', 'BE', 'BG', 'CH',\n",
    "        'CZ', 'DE', 'DK', 'EE',\n",
    "        'ES', 'FI', 'FR', 'GB',\n",
    "        'GR', 'HR', 'HU', 'IE',\n",
    "        'IT', 'LT', 'LU', 'LV',\n",
    "        'NL', 'NO', 'PL', 'PT',\n",
    "        'RO', 'SE', 'SI', 'SK'\n",
    "    ],\n",
    "    labels={\n",
    "        'value': 'Average Temperature (°C)',\n",
    "        'variable': 'Country'\n",
    "    },\n",
    "    title='Average Temperature in European Country from 1980 to 2019',\n",
    "    template='plotly_white')\n",
    "\n",
    "# Create a separate trace for the average temperature of Europe\n",
    "trace_europe = go.Scatter(\n",
    "    x=data_year['year'],\n",
    "    y=data_year['Average Temperature'],\n",
    "    mode='lines',\n",
    "    name='Average Temperature of Europe',\n",
    "    line=dict(width=4, color='black')\n",
    ")\n",
    "\n",
    "# Add the Europe trace to the figure\n",
    "fig.add_trace(trace_europe)\n",
    "\n",
    "fig.update_xaxes(dtick=5)  # Set the x-axis tick interval to 10\n",
    "fig.show()\n",
    "```"
   ]
  },
  {
   "cell_type": "code",
   "execution_count": 73,
   "id": "b2ff5fda",
   "metadata": {
    "ExecuteTime": {
     "end_time": "2023-07-23T16:11:44.729554Z",
     "start_time": "2023-07-23T16:11:44.437049Z"
    },
    "hide_input": false,
    "scrolled": true
   },
   "outputs": [
    {
     "data": {
      "application/vnd.plotly.v1+json": {
       "config": {
        "plotlyServerURL": "https://plot.ly"
       },
       "data": [
        {
         "hovertemplate": "Country=AT<br>year=%{x}<br>Average Temperature (°C)=%{y}<extra></extra>",
         "legendgroup": "AT",
         "line": {
          "color": "#636efa",
          "dash": "solid"
         },
         "marker": {
          "symbol": "circle"
         },
         "mode": "lines",
         "name": "AT",
         "showlegend": true,
         "type": "scattergl",
         "x": [
          "1980",
          "1981",
          "1982",
          "1983",
          "1984",
          "1985",
          "1986",
          "1987",
          "1988",
          "1989",
          "1990",
          "1991",
          "1992",
          "1993",
          "1994",
          "1995",
          "1996",
          "1997",
          "1998",
          "1999",
          "2000",
          "2001",
          "2002",
          "2003",
          "2004",
          "2005",
          "2006",
          "2007",
          "2008",
          "2009",
          "2010",
          "2011",
          "2012",
          "2013",
          "2014",
          "2015",
          "2016",
          "2017",
          "2018",
          "2019"
         ],
         "xaxis": "x",
         "y": [
          6.049146630236794,
          7.191993264840183,
          7.566535159817351,
          8.053653310502282,
          6.835889116575592,
          6.576975456621005,
          7.120910159817352,
          6.599800913242009,
          7.688502049180327,
          8.067289269406393,
          8.06745205479452,
          6.926014383561644,
          8.042796561930784,
          7.390171917808219,
          8.698221803652968,
          7.331364954337899,
          5.976157103825137,
          7.322460273972602,
          7.84674303652968,
          7.760208561643835,
          8.763799294171221,
          7.67526894977169,
          8.42070399543379,
          8.11389303652968,
          7.290175546448087,
          6.978590639269406,
          7.615344178082191,
          8.545848287671232,
          8.357879553734062,
          7.897676027397261,
          6.762714383561644,
          8.456160502283105,
          8.201517190346083,
          7.677337214611873,
          9.065739155251142,
          9.057318721461186,
          8.392350068306012,
          8.33197910958904,
          9.213405365296802,
          9.198637442922374
         ],
         "yaxis": "y"
        },
        {
         "hovertemplate": "Country=BE<br>year=%{x}<br>Average Temperature (°C)=%{y}<extra></extra>",
         "legendgroup": "BE",
         "line": {
          "color": "#EF553B",
          "dash": "solid"
         },
         "marker": {
          "symbol": "circle"
         },
         "mode": "lines",
         "name": "BE",
         "showlegend": true,
         "type": "scattergl",
         "x": [
          "1980",
          "1981",
          "1982",
          "1983",
          "1984",
          "1985",
          "1986",
          "1987",
          "1988",
          "1989",
          "1990",
          "1991",
          "1992",
          "1993",
          "1994",
          "1995",
          "1996",
          "1997",
          "1998",
          "1999",
          "2000",
          "2001",
          "2002",
          "2003",
          "2004",
          "2005",
          "2006",
          "2007",
          "2008",
          "2009",
          "2010",
          "2011",
          "2012",
          "2013",
          "2014",
          "2015",
          "2016",
          "2017",
          "2018",
          "2019"
         ],
         "xaxis": "x",
         "y": [
          8.791301684881603,
          9.008968493150684,
          9.543830479452055,
          9.515487214611873,
          9.03267805100182,
          8.01570993150685,
          8.51663299086758,
          8.382629680365296,
          9.869738615664845,
          10.268576027397259,
          10.437194292237443,
          9.323936301369864,
          9.919214822404372,
          9.41135308219178,
          10.302711529680366,
          10.050853767123288,
          8.18970434881603,
          9.854059246575341,
          9.784587214611872,
          10.365986415525114,
          10.365185792349727,
          9.714121803652967,
          10.205557420091324,
          9.952329452054794,
          9.763044398907104,
          10.171939840182649,
          10.41682214611872,
          10.584980821917808,
          9.867157103825136,
          9.852794406392695,
          8.58514109589041,
          10.536610844748857,
          9.731952641165755,
          9.191425342465752,
          10.955551712328766,
          10.220971461187215,
          10.023192395264116,
          10.530188812785388,
          11.096462785388127,
          10.976565639269406
         ],
         "yaxis": "y"
        },
        {
         "hovertemplate": "Country=BG<br>year=%{x}<br>Average Temperature (°C)=%{y}<extra></extra>",
         "legendgroup": "BG",
         "line": {
          "color": "#00cc96",
          "dash": "solid"
         },
         "marker": {
          "symbol": "circle"
         },
         "mode": "lines",
         "name": "BG",
         "showlegend": true,
         "type": "scattergl",
         "x": [
          "1980",
          "1981",
          "1982",
          "1983",
          "1984",
          "1985",
          "1986",
          "1987",
          "1988",
          "1989",
          "1990",
          "1991",
          "1992",
          "1993",
          "1994",
          "1995",
          "1996",
          "1997",
          "1998",
          "1999",
          "2000",
          "2001",
          "2002",
          "2003",
          "2004",
          "2005",
          "2006",
          "2007",
          "2008",
          "2009",
          "2010",
          "2011",
          "2012",
          "2013",
          "2014",
          "2015",
          "2016",
          "2017",
          "2018",
          "2019"
         ],
         "xaxis": "x",
         "y": [
          9.432581170309655,
          10.226016666666666,
          10.110493721461188,
          10.132629223744292,
          9.952695696721312,
          10.033608333333333,
          10.400323059360732,
          10.025298744292238,
          10.5791802140255,
          10.837543949771689,
          11.402342123287672,
          9.901466552511415,
          10.549979052823316,
          10.558023401826484,
          11.901077511415524,
          10.174876255707762,
          9.952274020947176,
          9.750636529680365,
          10.786184474885845,
          11.484704680365297,
          11.433038365209471,
          11.166057420091324,
          11.002652397260274,
          10.3625899543379,
          10.87417201730419,
          10.231954566210046,
          10.822031735159818,
          12.084395433789954,
          11.74030658014572,
          11.515705707762557,
          11.386708333333333,
          10.78944394977169,
          11.713393784153006,
          11.920605479452055,
          11.678294063926941,
          11.60826917808219,
          11.683749316939892,
          11.433694520547945,
          11.87200399543379,
          12.716729337899544
         ],
         "yaxis": "y"
        },
        {
         "hovertemplate": "Country=CH<br>year=%{x}<br>Average Temperature (°C)=%{y}<extra></extra>",
         "legendgroup": "CH",
         "line": {
          "color": "#ab63fa",
          "dash": "solid"
         },
         "marker": {
          "symbol": "circle"
         },
         "mode": "lines",
         "name": "CH",
         "showlegend": true,
         "type": "scattergl",
         "x": [
          "1980",
          "1981",
          "1982",
          "1983",
          "1984",
          "1985",
          "1986",
          "1987",
          "1988",
          "1989",
          "1990",
          "1991",
          "1992",
          "1993",
          "1994",
          "1995",
          "1996",
          "1997",
          "1998",
          "1999",
          "2000",
          "2001",
          "2002",
          "2003",
          "2004",
          "2005",
          "2006",
          "2007",
          "2008",
          "2009",
          "2010",
          "2011",
          "2012",
          "2013",
          "2014",
          "2015",
          "2016",
          "2017",
          "2018",
          "2019"
         ],
         "xaxis": "x",
         "y": [
          6.060315118397085,
          6.552329109589041,
          7.5262560502283105,
          7.411256392694064,
          6.401573770491803,
          6.448632191780822,
          6.96385993150685,
          6.749000114155251,
          7.497596197632058,
          8.054364726027398,
          7.76955810502283,
          7.134327625570776,
          7.424038706739527,
          7.226359246575343,
          8.38732397260274,
          6.933915182648402,
          6.2074236111111105,
          7.750350456621005,
          7.252984931506849,
          7.227429452054794,
          7.903404485428052,
          7.3230942922374425,
          8.007019292237443,
          8.173852625570776,
          7.257173155737704,
          7.068146689497716,
          7.883069292237444,
          7.976823059360731,
          7.433781989981785,
          7.672111187214612,
          6.498316324200913,
          8.671522602739726,
          7.6003920765027315,
          7.08623698630137,
          8.534272146118722,
          8.58080799086758,
          8.099256147540983,
          8.152590753424658,
          9.171993493150685,
          8.60191997716895
         ],
         "yaxis": "y"
        },
        {
         "hovertemplate": "Country=CZ<br>year=%{x}<br>Average Temperature (°C)=%{y}<extra></extra>",
         "legendgroup": "CZ",
         "line": {
          "color": "#FFA15A",
          "dash": "solid"
         },
         "marker": {
          "symbol": "circle"
         },
         "mode": "lines",
         "name": "CZ",
         "showlegend": true,
         "type": "scattergl",
         "x": [
          "1980",
          "1981",
          "1982",
          "1983",
          "1984",
          "1985",
          "1986",
          "1987",
          "1988",
          "1989",
          "1990",
          "1991",
          "1992",
          "1993",
          "1994",
          "1995",
          "1996",
          "1997",
          "1998",
          "1999",
          "2000",
          "2001",
          "2002",
          "2003",
          "2004",
          "2005",
          "2006",
          "2007",
          "2008",
          "2009",
          "2010",
          "2011",
          "2012",
          "2013",
          "2014",
          "2015",
          "2016",
          "2017",
          "2018",
          "2019"
         ],
         "xaxis": "x",
         "y": [
          5.839448770491804,
          6.9883523972602735,
          7.6265324200913245,
          8.225779794520548,
          6.975051798724955,
          6.271424771689498,
          7.092671118721461,
          6.125587899543379,
          7.766175318761385,
          8.3798700913242,
          8.275589497716895,
          7.04014897260274,
          8.089487932604737,
          7.49439303652968,
          8.749836301369864,
          7.470100570776255,
          5.638497381602915,
          7.002890639269406,
          7.884762557077626,
          8.01204109589041,
          8.881796903460838,
          7.478898287671233,
          8.31749805936073,
          8.192875799086758,
          7.713665072859746,
          7.399335502283105,
          7.87620502283105,
          9.05002089041096,
          8.770041211293261,
          8.213266324200914,
          6.546302397260273,
          8.385459360730593,
          8.248271744080146,
          7.69501506849315,
          9.551159817351598,
          9.454703995433789,
          8.678092896174864,
          8.463976369863014,
          9.804662557077625,
          9.662554223744293
         ],
         "yaxis": "y"
        },
        {
         "hovertemplate": "Country=DE<br>year=%{x}<br>Average Temperature (°C)=%{y}<extra></extra>",
         "legendgroup": "DE",
         "line": {
          "color": "#19d3f3",
          "dash": "solid"
         },
         "marker": {
          "symbol": "circle"
         },
         "mode": "lines",
         "name": "DE",
         "showlegend": true,
         "type": "scattergl",
         "x": [
          "1980",
          "1981",
          "1982",
          "1983",
          "1984",
          "1985",
          "1986",
          "1987",
          "1988",
          "1989",
          "1990",
          "1991",
          "1992",
          "1993",
          "1994",
          "1995",
          "1996",
          "1997",
          "1998",
          "1999",
          "2000",
          "2001",
          "2002",
          "2003",
          "2004",
          "2005",
          "2006",
          "2007",
          "2008",
          "2009",
          "2010",
          "2011",
          "2012",
          "2013",
          "2014",
          "2015",
          "2016",
          "2017",
          "2018",
          "2019"
         ],
         "xaxis": "x",
         "y": [
          7.2324581056466295,
          7.8162932648401835,
          8.655136301369863,
          8.667401598173516,
          7.751520491803278,
          7.092251369863014,
          7.68550799086758,
          7.064314155251141,
          8.771853255919854,
          9.27921392694064,
          9.203722602739726,
          8.207378881278538,
          9.017189093806921,
          8.234190182648401,
          9.439363013698632,
          8.608622146118721,
          6.891486224954463,
          8.59369691780822,
          8.801097374429224,
          9.229537557077625,
          9.569482809653916,
          8.752539611872146,
          9.173292694063926,
          9.088573744292237,
          8.709642531876138,
          8.925514383561643,
          9.393899200913243,
          9.6702600456621,
          9.197366575591985,
          9.009644748858447,
          7.406268493150685,
          9.431342579908677,
          8.878899817850638,
          8.448156278538812,
          10.277873630136986,
          9.781265525114154,
          9.347027550091074,
          9.390770662100456,
          10.47447705479452,
          10.261432534246575
         ],
         "yaxis": "y"
        },
        {
         "hovertemplate": "Country=DK<br>year=%{x}<br>Average Temperature (°C)=%{y}<extra></extra>",
         "legendgroup": "DK",
         "line": {
          "color": "#FF6692",
          "dash": "solid"
         },
         "marker": {
          "symbol": "circle"
         },
         "mode": "lines",
         "name": "DK",
         "showlegend": true,
         "type": "scattergl",
         "x": [
          "1980",
          "1981",
          "1982",
          "1983",
          "1984",
          "1985",
          "1986",
          "1987",
          "1988",
          "1989",
          "1990",
          "1991",
          "1992",
          "1993",
          "1994",
          "1995",
          "1996",
          "1997",
          "1998",
          "1999",
          "2000",
          "2001",
          "2002",
          "2003",
          "2004",
          "2005",
          "2006",
          "2007",
          "2008",
          "2009",
          "2010",
          "2011",
          "2012",
          "2013",
          "2014",
          "2015",
          "2016",
          "2017",
          "2018",
          "2019"
         ],
         "xaxis": "x",
         "y": [
          7.287840050091075,
          7.301088584474886,
          8.001436643835618,
          8.384882305936074,
          8.013563866120219,
          6.655674315068493,
          7.140528538812785,
          6.619177168949771,
          8.403834927140254,
          9.100090182648401,
          9.215119634703196,
          8.103909589041097,
          8.868071835154826,
          7.636019863013699,
          8.646279337899545,
          8.308443607305936,
          6.9170877732240434,
          8.507868607305937,
          8.056887328767123,
          8.735828082191782,
          8.999944102914391,
          8.133154109589041,
          8.860721461187214,
          8.465180479452055,
          8.422288137522768,
          8.678903082191782,
          9.107386187214612,
          9.294312899543378,
          9.272711407103825,
          8.657497374429223,
          6.847948059360731,
          8.690884246575342,
          8.10282502276867,
          8.32099394977169,
          9.948389954337898,
          9.098821347031963,
          9.025710268670311,
          8.960999543378996,
          9.57815216894977,
          9.658884931506849
         ],
         "yaxis": "y"
        },
        {
         "hovertemplate": "Country=EE<br>year=%{x}<br>Average Temperature (°C)=%{y}<extra></extra>",
         "legendgroup": "EE",
         "line": {
          "color": "#B6E880",
          "dash": "solid"
         },
         "marker": {
          "symbol": "circle"
         },
         "mode": "lines",
         "name": "EE",
         "showlegend": true,
         "type": "scattergl",
         "x": [
          "1980",
          "1981",
          "1982",
          "1983",
          "1984",
          "1985",
          "1986",
          "1987",
          "1988",
          "1989",
          "1990",
          "1991",
          "1992",
          "1993",
          "1994",
          "1995",
          "1996",
          "1997",
          "1998",
          "1999",
          "2000",
          "2001",
          "2002",
          "2003",
          "2004",
          "2005",
          "2006",
          "2007",
          "2008",
          "2009",
          "2010",
          "2011",
          "2012",
          "2013",
          "2014",
          "2015",
          "2016",
          "2017",
          "2018",
          "2019"
         ],
         "xaxis": "x",
         "y": [
          4.338775500910747,
          4.853085045662101,
          4.991037442922374,
          5.791776712328767,
          5.090601206739526,
          3.2469309360730594,
          4.382657762557078,
          2.928157420091324,
          5.310935109289618,
          6.903960273972603,
          6.2656757990867575,
          5.900070662100457,
          6.000931921675774,
          4.79372397260274,
          4.689719178082192,
          5.808615867579909,
          4.0827857468123865,
          5.306586757990868,
          4.719640410958904,
          5.903381735159818,
          6.35826400273224,
          5.234866666666667,
          5.568348401826484,
          4.831534931506849,
          5.269524704007286,
          5.784180365296804,
          5.896239155251141,
          6.442051255707763,
          6.790727686703097,
          5.503905136986302,
          4.488638812785388,
          6.42728299086758,
          4.897524476320584,
          6.079042808219178,
          6.503297488584475,
          7.067704794520548,
          6.235571379781421,
          5.96617602739726,
          6.772875913242009,
          7.006144748858448
         ],
         "yaxis": "y"
        },
        {
         "hovertemplate": "Country=ES<br>year=%{x}<br>Average Temperature (°C)=%{y}<extra></extra>",
         "legendgroup": "ES",
         "line": {
          "color": "#FF97FF",
          "dash": "solid"
         },
         "marker": {
          "symbol": "circle"
         },
         "mode": "lines",
         "name": "ES",
         "showlegend": true,
         "type": "scattergl",
         "x": [
          "1980",
          "1981",
          "1982",
          "1983",
          "1984",
          "1985",
          "1986",
          "1987",
          "1988",
          "1989",
          "1990",
          "1991",
          "1992",
          "1993",
          "1994",
          "1995",
          "1996",
          "1997",
          "1998",
          "1999",
          "2000",
          "2001",
          "2002",
          "2003",
          "2004",
          "2005",
          "2006",
          "2007",
          "2008",
          "2009",
          "2010",
          "2011",
          "2012",
          "2013",
          "2014",
          "2015",
          "2016",
          "2017",
          "2018",
          "2019"
         ],
         "xaxis": "x",
         "y": [
          14.352198315118398,
          15.010856164383563,
          14.793415753424657,
          15.04040011415525,
          14.06706841985428,
          14.930540753424657,
          14.741941438356164,
          15.2447698630137,
          14.825838797814209,
          15.691850684931506,
          15.32145913242009,
          14.577334703196348,
          14.537071721311476,
          14.20376312785388,
          15.415498059360731,
          15.545232648401829,
          14.555608265027322,
          15.416571347031965,
          14.978360616438358,
          14.983228082191781,
          14.984033014571951,
          15.08885821917808,
          15.127187100456622,
          15.477424200913243,
          14.95795434881603,
          15.008400228310503,
          15.67292591324201,
          14.867151826484019,
          14.82124112021858,
          15.48355605022831,
          14.565753310502283,
          15.652197374429225,
          15.175644011839708,
          14.736785844748859,
          15.683458561643837,
          15.824368835616438,
          15.56229348816029,
          15.890442237442922,
          15.261691666666666,
          15.647648515981736
         ],
         "yaxis": "y"
        },
        {
         "hovertemplate": "Country=FI<br>year=%{x}<br>Average Temperature (°C)=%{y}<extra></extra>",
         "legendgroup": "FI",
         "line": {
          "color": "#FECB52",
          "dash": "solid"
         },
         "marker": {
          "symbol": "circle"
         },
         "mode": "lines",
         "name": "FI",
         "showlegend": true,
         "type": "scattergl",
         "x": [
          "1980",
          "1981",
          "1982",
          "1983",
          "1984",
          "1985",
          "1986",
          "1987",
          "1988",
          "1989",
          "1990",
          "1991",
          "1992",
          "1993",
          "1994",
          "1995",
          "1996",
          "1997",
          "1998",
          "1999",
          "2000",
          "2001",
          "2002",
          "2003",
          "2004",
          "2005",
          "2006",
          "2007",
          "2008",
          "2009",
          "2010",
          "2011",
          "2012",
          "2013",
          "2014",
          "2015",
          "2016",
          "2017",
          "2018",
          "2019"
         ],
         "xaxis": "x",
         "y": [
          2.6264639116575594,
          2.6689690639269408,
          3.1436195205479454,
          3.675715525114155,
          3.6103366347905284,
          1.0904881278538812,
          2.499629223744292,
          1.1483264840182648,
          3.516949112021858,
          5.111322488584475,
          4.2802127853881275,
          3.9073100456621006,
          3.901551001821494,
          3.1278190639269408,
          2.966034589041096,
          3.882123287671233,
          2.718120218579235,
          3.5796358447488585,
          2.8117329908675797,
          3.7525199771689493,
          4.878106329690346,
          3.3894238584474885,
          3.5317444063926944,
          3.591399429223744,
          3.773678961748634,
          4.4278878995433795,
          4.283308333333333,
          4.653692351598174,
          4.981755806010929,
          3.6564812785388128,
          2.4352224885844747,
          4.9419586757990865,
          3.2888011156648456,
          4.609382534246575,
          5.045997260273973,
          5.367522374429224,
          4.473948428961749,
          4.17793093607306,
          4.874930022831051,
          4.6766650684931514
         ],
         "yaxis": "y"
        },
        {
         "hovertemplate": "Country=FR<br>year=%{x}<br>Average Temperature (°C)=%{y}<extra></extra>",
         "legendgroup": "FR",
         "line": {
          "color": "#636efa",
          "dash": "solid"
         },
         "marker": {
          "symbol": "circle"
         },
         "mode": "lines",
         "name": "FR",
         "showlegend": true,
         "type": "scattergl",
         "x": [
          "1980",
          "1981",
          "1982",
          "1983",
          "1984",
          "1985",
          "1986",
          "1987",
          "1988",
          "1989",
          "1990",
          "1991",
          "1992",
          "1993",
          "1994",
          "1995",
          "1996",
          "1997",
          "1998",
          "1999",
          "2000",
          "2001",
          "2002",
          "2003",
          "2004",
          "2005",
          "2006",
          "2007",
          "2008",
          "2009",
          "2010",
          "2011",
          "2012",
          "2013",
          "2014",
          "2015",
          "2016",
          "2017",
          "2018",
          "2019"
         ],
         "xaxis": "x",
         "y": [
          9.719791325136612,
          10.28395707762557,
          10.91242203196347,
          10.665451255707763,
          10.109041780510019,
          9.673774543378995,
          10.130198744292237,
          10.127021575342466,
          11.050868738615666,
          11.690355136986302,
          11.926385730593607,
          10.935228652968037,
          11.056351092896175,
          10.60586084474886,
          11.654234817351597,
          11.146747716894977,
          10.033902777777778,
          11.36190684931507,
          10.858761301369862,
          11.314003538812786,
          11.323907217668488,
          10.940459360730593,
          11.566805707762557,
          11.73975684931507,
          11.036972336065574,
          11.090274543378994,
          11.561874315068494,
          11.306679680365296,
          10.770217326958106,
          11.128991552511415,
          9.952625228310502,
          11.91972203196347,
          11.001047700364298,
          10.460707305936074,
          11.886953310502282,
          11.6937198630137,
          11.275162340619307,
          11.65479611872146,
          12.14857888127854,
          11.986726369863014
         ],
         "yaxis": "y"
        },
        {
         "hovertemplate": "Country=GB<br>year=%{x}<br>Average Temperature (°C)=%{y}<extra></extra>",
         "legendgroup": "GB",
         "line": {
          "color": "#EF553B",
          "dash": "solid"
         },
         "marker": {
          "symbol": "circle"
         },
         "mode": "lines",
         "name": "GB",
         "showlegend": true,
         "type": "scattergl",
         "x": [
          "1980",
          "1981",
          "1982",
          "1983",
          "1984",
          "1985",
          "1986",
          "1987",
          "1988",
          "1989",
          "1990",
          "1991",
          "1992",
          "1993",
          "1994",
          "1995",
          "1996",
          "1997",
          "1998",
          "1999",
          "2000",
          "2001",
          "2002",
          "2003",
          "2004",
          "2005",
          "2006",
          "2007",
          "2008",
          "2009",
          "2010",
          "2011",
          "2012",
          "2013",
          "2014",
          "2015",
          "2016",
          "2017",
          "2018",
          "2019"
         ],
         "xaxis": "x",
         "y": [
          8.709780054644808,
          8.63427397260274,
          9.201798630136986,
          9.229314269406393,
          9.095242144808743,
          8.245559474885845,
          8.096156506849315,
          8.420907876712329,
          9.167207650273223,
          9.915421461187215,
          10.055915182648402,
          9.075148515981736,
          9.247998406193078,
          8.828232648401826,
          9.429732305936072,
          9.66995319634703,
          8.518762978142076,
          9.843585958904109,
          9.622456164383562,
          9.897338584474886,
          9.600016734972678,
          9.240293493150686,
          9.945681164383561,
          9.843656164383562,
          9.892341074681237,
          9.952442237442922,
          10.25381404109589,
          10.050393835616438,
          9.525582081056466,
          9.631235616438357,
          8.424160273972603,
          10.073107534246576,
          9.161920878870673,
          8.957273173515983,
          10.344300799086758,
          9.671504109589042,
          9.679205601092898,
          9.992564269406392,
          10.038208561643835,
          9.9474649543379
         ],
         "yaxis": "y"
        },
        {
         "hovertemplate": "Country=GR<br>year=%{x}<br>Average Temperature (°C)=%{y}<extra></extra>",
         "legendgroup": "GR",
         "line": {
          "color": "#00cc96",
          "dash": "solid"
         },
         "marker": {
          "symbol": "circle"
         },
         "mode": "lines",
         "name": "GR",
         "showlegend": true,
         "type": "scattergl",
         "x": [
          "1980",
          "1981",
          "1982",
          "1983",
          "1984",
          "1985",
          "1986",
          "1987",
          "1988",
          "1989",
          "1990",
          "1991",
          "1992",
          "1993",
          "1994",
          "1995",
          "1996",
          "1997",
          "1998",
          "1999",
          "2000",
          "2001",
          "2002",
          "2003",
          "2004",
          "2005",
          "2006",
          "2007",
          "2008",
          "2009",
          "2010",
          "2011",
          "2012",
          "2013",
          "2014",
          "2015",
          "2016",
          "2017",
          "2018",
          "2019"
         ],
         "xaxis": "x",
         "y": [
          15.231541438979962,
          15.831890639269405,
          15.329941210045662,
          15.259104794520548,
          15.51218533697632,
          15.932235844748858,
          15.743769634703195,
          15.461196347031962,
          15.964464594717667,
          15.749244292237444,
          16.44826369863014,
          15.138001598173515,
          15.520882513661203,
          15.875541438356162,
          16.708911415525115,
          15.751785958904108,
          15.37014913479053,
          15.47717385844749,
          16.143352283105024,
          16.779380365296802,
          16.38553392531876,
          16.543993150684933,
          16.313092808219178,
          16.040935958904107,
          16.111997267759566,
          15.94739474885845,
          15.86225502283105,
          16.818717579908675,
          16.729060906193077,
          16.618803310502283,
          17.03104006849315,
          15.96993915525114,
          17.04259198542805,
          16.955591438356166,
          16.94091061643836,
          16.583468607305935,
          16.94604644808743,
          16.723906278538813,
          17.218523173515983,
          17.16634691780822
         ],
         "yaxis": "y"
        },
        {
         "hovertemplate": "Country=HR<br>year=%{x}<br>Average Temperature (°C)=%{y}<extra></extra>",
         "legendgroup": "HR",
         "line": {
          "color": "#ab63fa",
          "dash": "solid"
         },
         "marker": {
          "symbol": "circle"
         },
         "mode": "lines",
         "name": "HR",
         "showlegend": true,
         "type": "scattergl",
         "x": [
          "1980",
          "1981",
          "1982",
          "1983",
          "1984",
          "1985",
          "1986",
          "1987",
          "1988",
          "1989",
          "1990",
          "1991",
          "1992",
          "1993",
          "1994",
          "1995",
          "1996",
          "1997",
          "1998",
          "1999",
          "2000",
          "2001",
          "2002",
          "2003",
          "2004",
          "2005",
          "2006",
          "2007",
          "2008",
          "2009",
          "2010",
          "2011",
          "2012",
          "2013",
          "2014",
          "2015",
          "2016",
          "2017",
          "2018",
          "2019"
         ],
         "xaxis": "x",
         "y": [
          9.537974385245901,
          10.750538356164384,
          10.996456506849315,
          11.275594520547944,
          10.225023451730419,
          10.314589840182649,
          10.48993607305936,
          10.34902191780822,
          11.258132058287796,
          11.287091780821918,
          11.805720662100457,
          10.322011415525115,
          11.706098019125683,
          10.91642591324201,
          12.18227602739726,
          10.872321917808218,
          9.734095856102003,
          10.4825399543379,
          11.123996917808219,
          11.172440525114155,
          12.56837204007286,
          11.409229223744292,
          11.829442237442922,
          11.701471232876713,
          10.955479849726776,
          10.443185844748859,
          11.276219748858447,
          12.260925799086758,
          12.088540983606558,
          11.931574657534247,
          10.713851484018265,
          11.912263242009134,
          12.23972131147541,
          11.666155365296802,
          12.338499200913242,
          12.235658105022832,
          11.847076730418943,
          12.163093607305935,
          12.66849794520548,
          12.95465593607306
         ],
         "yaxis": "y"
        },
        {
         "hovertemplate": "Country=HU<br>year=%{x}<br>Average Temperature (°C)=%{y}<extra></extra>",
         "legendgroup": "HU",
         "line": {
          "color": "#FFA15A",
          "dash": "solid"
         },
         "marker": {
          "symbol": "circle"
         },
         "mode": "lines",
         "name": "HU",
         "showlegend": true,
         "type": "scattergl",
         "x": [
          "1980",
          "1981",
          "1982",
          "1983",
          "1984",
          "1985",
          "1986",
          "1987",
          "1988",
          "1989",
          "1990",
          "1991",
          "1992",
          "1993",
          "1994",
          "1995",
          "1996",
          "1997",
          "1998",
          "1999",
          "2000",
          "2001",
          "2002",
          "2003",
          "2004",
          "2005",
          "2006",
          "2007",
          "2008",
          "2009",
          "2010",
          "2011",
          "2012",
          "2013",
          "2014",
          "2015",
          "2016",
          "2017",
          "2018",
          "2019"
         ],
         "xaxis": "x",
         "y": [
          8.350745218579235,
          9.823394292237442,
          9.981250342465753,
          10.686774315068492,
          9.517559767759563,
          8.874912899543379,
          9.82221301369863,
          9.16223310502283,
          10.215492486338798,
          10.742271689497716,
          10.942274885844748,
          9.525583447488584,
          10.794164275956284,
          9.999684703196348,
          11.395281849315069,
          10.002930821917808,
          8.444360655737704,
          9.11301689497717,
          10.177139840182647,
          10.098243835616438,
          11.531963570127504,
          10.418732990867579,
          11.277660958904109,
          10.441352054794521,
          10.019006489071037,
          9.722904566210046,
          10.329133675799087,
          11.748975570776256,
          11.32919330601093,
          11.28178207762557,
          9.758452739726028,
          10.880122602739725,
          11.456428734061932,
          10.904913470319634,
          11.879748630136985,
          11.714981849315068,
          10.970994193989071,
          11.15765285388128,
          11.983473744292237,
          12.333445433789954
         ],
         "yaxis": "y"
        },
        {
         "hovertemplate": "Country=IE<br>year=%{x}<br>Average Temperature (°C)=%{y}<extra></extra>",
         "legendgroup": "IE",
         "line": {
          "color": "#19d3f3",
          "dash": "solid"
         },
         "marker": {
          "symbol": "circle"
         },
         "mode": "lines",
         "name": "IE",
         "showlegend": true,
         "type": "scattergl",
         "x": [
          "1980",
          "1981",
          "1982",
          "1983",
          "1984",
          "1985",
          "1986",
          "1987",
          "1988",
          "1989",
          "1990",
          "1991",
          "1992",
          "1993",
          "1994",
          "1995",
          "1996",
          "1997",
          "1998",
          "1999",
          "2000",
          "2001",
          "2002",
          "2003",
          "2004",
          "2005",
          "2006",
          "2007",
          "2008",
          "2009",
          "2010",
          "2011",
          "2012",
          "2013",
          "2014",
          "2015",
          "2016",
          "2017",
          "2018",
          "2019"
         ],
         "xaxis": "x",
         "y": [
          9.161200136612022,
          9.275690410958903,
          9.422920433789955,
          9.6010100456621,
          9.399709130236793,
          8.689106735159816,
          8.324741210045662,
          9.054215753424657,
          9.434239981785064,
          9.969299657534247,
          9.947217351598173,
          9.401583105022832,
          9.357718693078324,
          9.174007305936074,
          9.447723287671232,
          10.022373744292238,
          9.076449112021857,
          10.218060159817352,
          10.01036107305936,
          9.959139611872146,
          9.661117372495447,
          9.473399657534246,
          9.982126940639269,
          10.045984018264841,
          9.976811133879782,
          10.15454006849315,
          10.213995662100457,
          10.319263013698631,
          9.668800887978142,
          9.604871347031963,
          8.71603310502283,
          9.866186301369863,
          9.475213683970857,
          9.40960194063927,
          10.104598401826484,
          9.420569292237444,
          9.683142531876138,
          10.021666552511416,
          9.946954794520547,
          9.940994748858447
         ],
         "yaxis": "y"
        },
        {
         "hovertemplate": "Country=IT<br>year=%{x}<br>Average Temperature (°C)=%{y}<extra></extra>",
         "legendgroup": "IT",
         "line": {
          "color": "#FF6692",
          "dash": "solid"
         },
         "marker": {
          "symbol": "circle"
         },
         "mode": "lines",
         "name": "IT",
         "showlegend": true,
         "type": "scattergl",
         "x": [
          "1980",
          "1981",
          "1982",
          "1983",
          "1984",
          "1985",
          "1986",
          "1987",
          "1988",
          "1989",
          "1990",
          "1991",
          "1992",
          "1993",
          "1994",
          "1995",
          "1996",
          "1997",
          "1998",
          "1999",
          "2000",
          "2001",
          "2002",
          "2003",
          "2004",
          "2005",
          "2006",
          "2007",
          "2008",
          "2009",
          "2010",
          "2011",
          "2012",
          "2013",
          "2014",
          "2015",
          "2016",
          "2017",
          "2018",
          "2019"
         ],
         "xaxis": "x",
         "y": [
          12.477158469945355,
          13.159288584474886,
          13.845323858447488,
          13.622633219178082,
          12.690772540983607,
          13.37673207762557,
          13.336432420091324,
          13.44857796803653,
          13.76057855191257,
          13.6433350456621,
          14.048422945205479,
          13.07422111872146,
          13.772879895264117,
          13.688520319634703,
          14.515755136986302,
          13.27993196347032,
          12.918603142076503,
          13.95482796803653,
          13.85756609589041,
          13.935796232876712,
          14.282890141165757,
          14.039137899543379,
          14.183166438356164,
          14.523353424657534,
          13.762786657559198,
          13.328309132420092,
          14.067864269406392,
          14.49230308219178,
          14.163756261384336,
          14.154774543378995,
          13.230598401826484,
          14.295876826484017,
          14.429654599271402,
          13.893729223744293,
          14.487304452054794,
          14.624121232876712,
          14.315849499089254,
          14.562355821917807,
          14.835095433789954,
          14.828992579908677
         ],
         "yaxis": "y"
        },
        {
         "hovertemplate": "Country=LT<br>year=%{x}<br>Average Temperature (°C)=%{y}<extra></extra>",
         "legendgroup": "LT",
         "line": {
          "color": "#B6E880",
          "dash": "solid"
         },
         "marker": {
          "symbol": "circle"
         },
         "mode": "lines",
         "name": "LT",
         "showlegend": true,
         "type": "scattergl",
         "x": [
          "1980",
          "1981",
          "1982",
          "1983",
          "1984",
          "1985",
          "1986",
          "1987",
          "1988",
          "1989",
          "1990",
          "1991",
          "1992",
          "1993",
          "1994",
          "1995",
          "1996",
          "1997",
          "1998",
          "1999",
          "2000",
          "2001",
          "2002",
          "2003",
          "2004",
          "2005",
          "2006",
          "2007",
          "2008",
          "2009",
          "2010",
          "2011",
          "2012",
          "2013",
          "2014",
          "2015",
          "2016",
          "2017",
          "2018",
          "2019"
         ],
         "xaxis": "x",
         "y": [
          4.443179530965392,
          5.760985502283105,
          5.899925456621005,
          6.966536301369863,
          5.935624772313297,
          4.309386529680365,
          5.2647473744292235,
          3.8710288812785394,
          6.136853825136613,
          7.615546461187215,
          7.24325799086758,
          6.444328538812785,
          6.589161543715847,
          5.535047374429224,
          5.992242465753425,
          6.250749885844749,
          4.426760587431694,
          5.655242465753425,
          5.676538812785388,
          6.5531283105022835,
          7.006907331511839,
          5.953370662100457,
          6.734261872146119,
          5.690494748858447,
          5.745840846994535,
          5.853919634703197,
          6.277522488584475,
          6.992045433789954,
          7.276264230418944,
          6.01803401826484,
          5.245397831050228,
          6.683612557077626,
          5.838561589253188,
          6.301672488584475,
          6.9508826484018265,
          7.459891780821918,
          6.874332536429873,
          6.516623401826484,
          7.120616780821918,
          7.852464611872145
         ],
         "yaxis": "y"
        },
        {
         "hovertemplate": "Country=LU<br>year=%{x}<br>Average Temperature (°C)=%{y}<extra></extra>",
         "legendgroup": "LU",
         "line": {
          "color": "#FF97FF",
          "dash": "solid"
         },
         "marker": {
          "symbol": "circle"
         },
         "mode": "lines",
         "name": "LU",
         "showlegend": true,
         "type": "scattergl",
         "x": [
          "1980",
          "1981",
          "1982",
          "1983",
          "1984",
          "1985",
          "1986",
          "1987",
          "1988",
          "1989",
          "1990",
          "1991",
          "1992",
          "1993",
          "1994",
          "1995",
          "1996",
          "1997",
          "1998",
          "1999",
          "2000",
          "2001",
          "2002",
          "2003",
          "2004",
          "2005",
          "2006",
          "2007",
          "2008",
          "2009",
          "2010",
          "2011",
          "2012",
          "2013",
          "2014",
          "2015",
          "2016",
          "2017",
          "2018",
          "2019"
         ],
         "xaxis": "x",
         "y": [
          7.386867258652095,
          7.960408904109589,
          8.801836529680365,
          8.610282648401826,
          7.902596766848816,
          7.1399703196347035,
          7.8187393835616446,
          7.499503310502283,
          9.131317964480875,
          9.395284817351598,
          9.386731506849314,
          8.596155707762556,
          9.055028233151184,
          8.490601369863015,
          9.618537214611871,
          9.018822260273973,
          7.329631147540984,
          8.672623173515982,
          8.52078493150685,
          9.286764726027396,
          9.444960382513662,
          8.892241210045661,
          9.395960730593607,
          9.425076826484018,
          8.721509448998178,
          9.197844292237443,
          9.505688698630136,
          9.501757762557078,
          8.78120878870674,
          9.034551826484018,
          7.743710388127854,
          9.725227511415525,
          8.828664389799636,
          8.287800799086757,
          10.185790525114154,
          9.637927283105023,
          9.074735883424408,
          9.631983333333332,
          10.543262100456621,
          10.119636986301371
         ],
         "yaxis": "y"
        },
        {
         "hovertemplate": "Country=LV<br>year=%{x}<br>Average Temperature (°C)=%{y}<extra></extra>",
         "legendgroup": "LV",
         "line": {
          "color": "#FECB52",
          "dash": "solid"
         },
         "marker": {
          "symbol": "circle"
         },
         "mode": "lines",
         "name": "LV",
         "showlegend": true,
         "type": "scattergl",
         "x": [
          "1980",
          "1981",
          "1982",
          "1983",
          "1984",
          "1985",
          "1986",
          "1987",
          "1988",
          "1989",
          "1990",
          "1991",
          "1992",
          "1993",
          "1994",
          "1995",
          "1996",
          "1997",
          "1998",
          "1999",
          "2000",
          "2001",
          "2002",
          "2003",
          "2004",
          "2005",
          "2006",
          "2007",
          "2008",
          "2009",
          "2010",
          "2011",
          "2012",
          "2013",
          "2014",
          "2015",
          "2016",
          "2017",
          "2018",
          "2019"
         ],
         "xaxis": "x",
         "y": [
          4.340943875227687,
          5.428034703196348,
          5.497602283105023,
          6.498930479452055,
          5.64684483151184,
          3.912142123287671,
          5.059657191780822,
          3.516393721461187,
          5.870057946265938,
          7.372324771689498,
          6.967414383561644,
          6.38926598173516,
          6.351295992714025,
          5.254267694063927,
          5.3760737442922375,
          6.03646095890411,
          4.306514458105647,
          5.548499885844748,
          5.414618835616438,
          6.246193264840183,
          6.823700591985428,
          5.726020319634704,
          6.197865525114156,
          5.447229452054795,
          5.555656876138434,
          5.615567808219178,
          6.104943264840182,
          6.843690296803653,
          7.084214139344263,
          5.8374283105022835,
          4.934298744292238,
          6.519042237442922,
          5.314057149362477,
          6.097361643835616,
          6.687888698630137,
          7.137410159817352,
          6.674885359744991,
          6.277746118721461,
          6.95980696347032,
          7.623857648401827
         ],
         "yaxis": "y"
        },
        {
         "hovertemplate": "Country=NL<br>year=%{x}<br>Average Temperature (°C)=%{y}<extra></extra>",
         "legendgroup": "NL",
         "line": {
          "color": "#636efa",
          "dash": "solid"
         },
         "marker": {
          "symbol": "circle"
         },
         "mode": "lines",
         "name": "NL",
         "showlegend": true,
         "type": "scattergl",
         "x": [
          "1980",
          "1981",
          "1982",
          "1983",
          "1984",
          "1985",
          "1986",
          "1987",
          "1988",
          "1989",
          "1990",
          "1991",
          "1992",
          "1993",
          "1994",
          "1995",
          "1996",
          "1997",
          "1998",
          "1999",
          "2000",
          "2001",
          "2002",
          "2003",
          "2004",
          "2005",
          "2006",
          "2007",
          "2008",
          "2009",
          "2010",
          "2011",
          "2012",
          "2013",
          "2014",
          "2015",
          "2016",
          "2017",
          "2018",
          "2019"
         ],
         "xaxis": "x",
         "y": [
          9.069256375227686,
          9.15288299086758,
          9.680261415525115,
          9.75784303652968,
          9.124336634790527,
          8.207961301369862,
          8.631540867579908,
          8.416469520547945,
          9.961753187613843,
          10.357185273972602,
          10.533811643835616,
          9.348165296803653,
          10.17913308287796,
          9.374588470319635,
          10.2943301369863,
          10.103489383561643,
          8.169488957194899,
          9.894419406392695,
          10.045795662100456,
          10.629919748858446,
          10.575304986338798,
          10.032402397260274,
          10.402488356164383,
          10.120490525114155,
          10.129904143897996,
          10.363067808219178,
          10.718093378995434,
          10.91788116438356,
          10.256651980874317,
          10.17189897260274,
          8.652242123287671,
          10.487803310502283,
          9.926307832422586,
          9.367944748858447,
          11.318268607305935,
          10.439311643835616,
          10.39583378870674,
          10.663789611872147,
          11.034151255707762,
          11.106225228310501
         ],
         "yaxis": "y"
        },
        {
         "hovertemplate": "Country=NO<br>year=%{x}<br>Average Temperature (°C)=%{y}<extra></extra>",
         "legendgroup": "NO",
         "line": {
          "color": "#EF553B",
          "dash": "solid"
         },
         "marker": {
          "symbol": "circle"
         },
         "mode": "lines",
         "name": "NO",
         "showlegend": true,
         "type": "scattergl",
         "x": [
          "1980",
          "1981",
          "1982",
          "1983",
          "1984",
          "1985",
          "1986",
          "1987",
          "1988",
          "1989",
          "1990",
          "1991",
          "1992",
          "1993",
          "1994",
          "1995",
          "1996",
          "1997",
          "1998",
          "1999",
          "2000",
          "2001",
          "2002",
          "2003",
          "2004",
          "2005",
          "2006",
          "2007",
          "2008",
          "2009",
          "2010",
          "2011",
          "2012",
          "2013",
          "2014",
          "2015",
          "2016",
          "2017",
          "2018",
          "2019"
         ],
         "xaxis": "x",
         "y": [
          3.287482923497268,
          2.8799214611872146,
          3.9360788812785388,
          4.3989642694063935,
          4.02193306010929,
          2.4383196347031966,
          3.1851552511415524,
          2.735370205479452,
          4.302695469034608,
          5.275621004566211,
          5.436455136986302,
          4.431733105022832,
          4.687469945355191,
          3.672993607305936,
          3.666321347031963,
          3.9428323059360735,
          2.9564257741347904,
          4.449081849315069,
          3.8541518264840184,
          4.510631849315069,
          5.249383424408014,
          3.79871598173516,
          4.6635578767123285,
          4.881222260273972,
          4.773641962659381,
          5.043713242009132,
          5.2759135844748855,
          4.792948858447488,
          4.976761612021859,
          4.141920433789954,
          2.2493894977168947,
          5.038965753424657,
          3.6234587887067393,
          4.16436392694064,
          5.537614840182648,
          4.995063242009133,
          4.801284949908926,
          4.602873630136987,
          4.731718378995434,
          4.700631735159817
         ],
         "yaxis": "y"
        },
        {
         "hovertemplate": "Country=PL<br>year=%{x}<br>Average Temperature (°C)=%{y}<extra></extra>",
         "legendgroup": "PL",
         "line": {
          "color": "#00cc96",
          "dash": "solid"
         },
         "marker": {
          "symbol": "circle"
         },
         "mode": "lines",
         "name": "PL",
         "showlegend": true,
         "type": "scattergl",
         "x": [
          "1980",
          "1981",
          "1982",
          "1983",
          "1984",
          "1985",
          "1986",
          "1987",
          "1988",
          "1989",
          "1990",
          "1991",
          "1992",
          "1993",
          "1994",
          "1995",
          "1996",
          "1997",
          "1998",
          "1999",
          "2000",
          "2001",
          "2002",
          "2003",
          "2004",
          "2005",
          "2006",
          "2007",
          "2008",
          "2009",
          "2010",
          "2011",
          "2012",
          "2013",
          "2014",
          "2015",
          "2016",
          "2017",
          "2018",
          "2019"
         ],
         "xaxis": "x",
         "y": [
          5.939743283242259,
          7.094175342465753,
          7.839660844748859,
          8.768125342465755,
          7.396110086520947,
          6.401022488584475,
          7.188544863013698,
          6.0636968036529675,
          7.948234972677596,
          9.035833675799088,
          8.735846461187215,
          7.525563127853882,
          8.318359972677596,
          7.483775684931507,
          8.597680251141552,
          7.799699086757991,
          6.093362021857923,
          7.1928501141552506,
          7.777657191780822,
          8.347774429223744,
          9.029908583788707,
          7.57164897260274,
          8.61043105022831,
          7.947400228310502,
          7.876202071948997,
          7.937700456621004,
          8.286892237442924,
          9.10197214611872,
          9.114272996357013,
          8.233563356164384,
          6.667920776255707,
          8.423680365296804,
          8.215230418943534,
          7.977190410958904,
          9.387715867579908,
          9.515373287671233,
          8.85135234517304,
          8.415411529680366,
          9.59066974885845,
          9.971943264840183
         ],
         "yaxis": "y"
        },
        {
         "hovertemplate": "Country=PT<br>year=%{x}<br>Average Temperature (°C)=%{y}<extra></extra>",
         "legendgroup": "PT",
         "line": {
          "color": "#ab63fa",
          "dash": "solid"
         },
         "marker": {
          "symbol": "circle"
         },
         "mode": "lines",
         "name": "PT",
         "showlegend": true,
         "type": "scattergl",
         "x": [
          "1980",
          "1981",
          "1982",
          "1983",
          "1984",
          "1985",
          "1986",
          "1987",
          "1988",
          "1989",
          "1990",
          "1991",
          "1992",
          "1993",
          "1994",
          "1995",
          "1996",
          "1997",
          "1998",
          "1999",
          "2000",
          "2001",
          "2002",
          "2003",
          "2004",
          "2005",
          "2006",
          "2007",
          "2008",
          "2009",
          "2010",
          "2011",
          "2012",
          "2013",
          "2014",
          "2015",
          "2016",
          "2017",
          "2018",
          "2019"
         ],
         "xaxis": "x",
         "y": [
          15.095769125683061,
          15.725073287671233,
          15.149456506849315,
          15.180624200913243,
          14.928814207650273,
          15.33419212328767,
          14.953387100456622,
          15.808434360730594,
          15.082790642076503,
          16.359007990867582,
          15.819286301369864,
          15.229088470319635,
          15.046984403460838,
          14.712984474885845,
          15.303189383561646,
          16.489055707762557,
          15.175087659380692,
          16.24144577625571,
          15.575584132420092,
          15.2145200913242,
          15.134613729508196,
          15.095999315068493,
          15.30286598173516,
          15.385150684931508,
          15.200813410746813,
          15.34180422374429,
          15.857073744292236,
          15.128211757990869,
          15.068848702185791,
          15.618901598173517,
          15.338933789954337,
          15.758247146118721,
          15.021048497267762,
          15.103133789954336,
          15.602482420091325,
          15.623130479452055,
          15.464890938069217,
          15.869672488584476,
          15.282037328767123,
          15.441613584474887
         ],
         "yaxis": "y"
        },
        {
         "hovertemplate": "Country=RO<br>year=%{x}<br>Average Temperature (°C)=%{y}<extra></extra>",
         "legendgroup": "RO",
         "line": {
          "color": "#FFA15A",
          "dash": "solid"
         },
         "marker": {
          "symbol": "circle"
         },
         "mode": "lines",
         "name": "RO",
         "showlegend": true,
         "type": "scattergl",
         "x": [
          "1980",
          "1981",
          "1982",
          "1983",
          "1984",
          "1985",
          "1986",
          "1987",
          "1988",
          "1989",
          "1990",
          "1991",
          "1992",
          "1993",
          "1994",
          "1995",
          "1996",
          "1997",
          "1998",
          "1999",
          "2000",
          "2001",
          "2002",
          "2003",
          "2004",
          "2005",
          "2006",
          "2007",
          "2008",
          "2009",
          "2010",
          "2011",
          "2012",
          "2013",
          "2014",
          "2015",
          "2016",
          "2017",
          "2018",
          "2019"
         ],
         "xaxis": "x",
         "y": [
          8.171396174863387,
          9.20909292237443,
          9.628712899543379,
          10.056349086757992,
          9.024474726775956,
          8.545461757990868,
          9.789009817351598,
          9.027220433789955,
          9.542690346083788,
          10.43181392694064,
          10.995771461187214,
          9.471295776255708,
          10.072433173952641,
          9.29682602739726,
          11.070294748858448,
          9.597815867579909,
          8.81973007741348,
          8.794808789954336,
          9.84786095890411,
          10.637806735159819,
          11.083863615664844,
          10.489343150684931,
          10.770151369863013,
          9.656018607305937,
          9.878773224043716,
          9.476214611872146,
          9.974824200913243,
          11.43140787671233,
          10.92857502276867,
          10.894222488584475,
          10.13588607305936,
          10.075338470319634,
          10.867708447176685,
          10.720325342465754,
          10.884575684931507,
          11.305735502283106,
          10.746005578324226,
          10.743213584474887,
          11.082984246575341,
          11.956031164383562
         ],
         "yaxis": "y"
        },
        {
         "hovertemplate": "Country=SE<br>year=%{x}<br>Average Temperature (°C)=%{y}<extra></extra>",
         "legendgroup": "SE",
         "line": {
          "color": "#19d3f3",
          "dash": "solid"
         },
         "marker": {
          "symbol": "circle"
         },
         "mode": "lines",
         "name": "SE",
         "showlegend": true,
         "type": "scattergl",
         "x": [
          "1980",
          "1981",
          "1982",
          "1983",
          "1984",
          "1985",
          "1986",
          "1987",
          "1988",
          "1989",
          "1990",
          "1991",
          "1992",
          "1993",
          "1994",
          "1995",
          "1996",
          "1997",
          "1998",
          "1999",
          "2000",
          "2001",
          "2002",
          "2003",
          "2004",
          "2005",
          "2006",
          "2007",
          "2008",
          "2009",
          "2010",
          "2011",
          "2012",
          "2013",
          "2014",
          "2015",
          "2016",
          "2017",
          "2018",
          "2019"
         ],
         "xaxis": "x",
         "y": [
          4.742329690346084,
          4.774986301369863,
          5.57813401826484,
          6.177728538812786,
          5.938475295992714,
          3.6345098173515984,
          4.85810296803653,
          3.8314277397260277,
          5.958937613843351,
          7.205164269406393,
          7.107618264840182,
          6.099762214611872,
          6.452486680327869,
          5.262706849315069,
          5.607647716894977,
          5.388292237442923,
          4.243334244080145,
          5.825095091324201,
          5.413311187214612,
          6.4738858447488585,
          7.184222222222222,
          5.907424543378995,
          6.556856735159817,
          6.359013812785388,
          6.193784949908926,
          6.641058447488584,
          7.059482420091324,
          6.898557648401826,
          7.117001252276867,
          6.115715296803653,
          4.217319406392694,
          6.903173401826484,
          5.6981589253187614,
          6.298555479452054,
          7.499617237442922,
          7.072572260273972,
          6.704705601092896,
          6.600619178082192,
          7.299755251141552,
          7.1701899543379
         ],
         "yaxis": "y"
        },
        {
         "hovertemplate": "Country=SI<br>year=%{x}<br>Average Temperature (°C)=%{y}<extra></extra>",
         "legendgroup": "SI",
         "line": {
          "color": "#FF6692",
          "dash": "solid"
         },
         "marker": {
          "symbol": "circle"
         },
         "mode": "lines",
         "name": "SI",
         "showlegend": true,
         "type": "scattergl",
         "x": [
          "1980",
          "1981",
          "1982",
          "1983",
          "1984",
          "1985",
          "1986",
          "1987",
          "1988",
          "1989",
          "1990",
          "1991",
          "1992",
          "1993",
          "1994",
          "1995",
          "1996",
          "1997",
          "1998",
          "1999",
          "2000",
          "2001",
          "2002",
          "2003",
          "2004",
          "2005",
          "2006",
          "2007",
          "2008",
          "2009",
          "2010",
          "2011",
          "2012",
          "2013",
          "2014",
          "2015",
          "2016",
          "2017",
          "2018",
          "2019"
         ],
         "xaxis": "x",
         "y": [
          7.50227424863388,
          8.664290753424659,
          8.95476484018265,
          9.229221689497717,
          8.09878301457195,
          8.188585730593607,
          8.245642123287672,
          8.140164726027397,
          9.149242600182149,
          9.371813356164385,
          9.654886986301369,
          8.350380821917808,
          9.613778005464482,
          8.980291095890411,
          10.140523401826485,
          8.872931392694063,
          7.735710040983607,
          8.835476027397261,
          9.378945547945206,
          9.128540296803653,
          10.485241461748634,
          9.514257191780821,
          9.896517351598174,
          9.755393378995434,
          8.762300660291439,
          8.466061301369862,
          9.287697716894977,
          10.214125342465753,
          9.914157900728599,
          9.684282762557077,
          8.55288595890411,
          9.957651369863013,
          10.11959471766849,
          9.364431506849314,
          10.384997488584474,
          10.263892808219179,
          9.849488160291438,
          10.056681164383562,
          10.430902168949771,
          10.782004452054794
         ],
         "yaxis": "y"
        },
        {
         "hovertemplate": "Country=SK<br>year=%{x}<br>Average Temperature (°C)=%{y}<extra></extra>",
         "legendgroup": "SK",
         "line": {
          "color": "#B6E880",
          "dash": "solid"
         },
         "marker": {
          "symbol": "circle"
         },
         "mode": "lines",
         "name": "SK",
         "showlegend": true,
         "type": "scattergl",
         "x": [
          "1980",
          "1981",
          "1982",
          "1983",
          "1984",
          "1985",
          "1986",
          "1987",
          "1988",
          "1989",
          "1990",
          "1991",
          "1992",
          "1993",
          "1994",
          "1995",
          "1996",
          "1997",
          "1998",
          "1999",
          "2000",
          "2001",
          "2002",
          "2003",
          "2004",
          "2005",
          "2006",
          "2007",
          "2008",
          "2009",
          "2010",
          "2011",
          "2012",
          "2013",
          "2014",
          "2015",
          "2016",
          "2017",
          "2018",
          "2019"
         ],
         "xaxis": "x",
         "y": [
          5.928216643897996,
          7.27906792237443,
          7.707852283105024,
          8.350252739726027,
          7.1591869307832425,
          6.393774429223744,
          7.469843835616438,
          6.780363242009132,
          7.859570810564663,
          8.480931392694064,
          8.485925684931507,
          7.304934703196348,
          8.13080885701275,
          7.752113356164385,
          8.881527625570776,
          7.618378424657534,
          6.2008378870673955,
          6.947465296803653,
          7.928772831050229,
          7.890032420091323,
          8.97113820582878,
          7.721082762557077,
          8.696224315068493,
          8.130023401826485,
          7.659501707650272,
          7.46252808219178,
          8.03268390410959,
          9.212729680365298,
          9.040803392531876,
          8.729901369863013,
          7.403705593607306,
          8.524011301369864,
          8.710182604735884,
          8.35901198630137,
          9.776998744292237,
          9.472199315068494,
          8.793995332422586,
          8.681364611872146,
          9.709897602739725,
          9.798267123287673
         ],
         "yaxis": "y"
        },
        {
         "line": {
          "color": "black",
          "width": 4
         },
         "mode": "lines",
         "name": "Average Temperature of Europe",
         "type": "scatter",
         "x": [
          "1980",
          "1981",
          "1982",
          "1983",
          "1984",
          "1985",
          "1986",
          "1987",
          "1988",
          "1989",
          "1990",
          "1991",
          "1992",
          "1993",
          "1994",
          "1995",
          "1996",
          "1997",
          "1998",
          "1999",
          "2000",
          "2001",
          "2002",
          "2003",
          "2004",
          "2005",
          "2006",
          "2007",
          "2008",
          "2009",
          "2010",
          "2011",
          "2012",
          "2013",
          "2014",
          "2015",
          "2016",
          "2017",
          "2018",
          "2019"
         ],
         "y": [
          7.896649264897215,
          8.546639481409,
          8.940096159491194,
          9.258347248043053,
          8.552060483346343,
          7.856231209230267,
          8.391160021200259,
          7.950011068982386,
          9.143776179905023,
          9.842558129484674,
          9.849269010926287,
          8.845869618395302,
          9.367977337041376,
          8.74929593118069,
          9.609941006197001,
          9.142097182811478,
          7.88151254309784,
          8.985459862198303,
          9.076808447488586,
          9.483228787508152,
          9.945717879911529,
          9.16871555365297,
          9.66213866601435,
          9.406559902968034,
          9.15302296383034,
          9.168335151663406,
          9.604042983529029,
          10.042932978636658,
          9.823817171643247,
          9.510538992172213,
          8.374695185094586,
          9.821315508806261,
          9.386027647671089,
          9.287669483855188,
          10.337256498695368,
          10.176010180202221,
          9.80250641995186,
          9.844098683137641,
          10.38377819227006,
          10.50316696836269
         ]
        }
       ],
       "layout": {
        "legend": {
         "title": {
          "text": "Country"
         },
         "tracegroupgap": 0
        },
        "template": {
         "data": {
          "bar": [
           {
            "error_x": {
             "color": "#2a3f5f"
            },
            "error_y": {
             "color": "#2a3f5f"
            },
            "marker": {
             "line": {
              "color": "white",
              "width": 0.5
             },
             "pattern": {
              "fillmode": "overlay",
              "size": 10,
              "solidity": 0.2
             }
            },
            "type": "bar"
           }
          ],
          "barpolar": [
           {
            "marker": {
             "line": {
              "color": "white",
              "width": 0.5
             },
             "pattern": {
              "fillmode": "overlay",
              "size": 10,
              "solidity": 0.2
             }
            },
            "type": "barpolar"
           }
          ],
          "carpet": [
           {
            "aaxis": {
             "endlinecolor": "#2a3f5f",
             "gridcolor": "#C8D4E3",
             "linecolor": "#C8D4E3",
             "minorgridcolor": "#C8D4E3",
             "startlinecolor": "#2a3f5f"
            },
            "baxis": {
             "endlinecolor": "#2a3f5f",
             "gridcolor": "#C8D4E3",
             "linecolor": "#C8D4E3",
             "minorgridcolor": "#C8D4E3",
             "startlinecolor": "#2a3f5f"
            },
            "type": "carpet"
           }
          ],
          "choropleth": [
           {
            "colorbar": {
             "outlinewidth": 0,
             "ticks": ""
            },
            "type": "choropleth"
           }
          ],
          "contour": [
           {
            "colorbar": {
             "outlinewidth": 0,
             "ticks": ""
            },
            "colorscale": [
             [
              0,
              "#0d0887"
             ],
             [
              0.1111111111111111,
              "#46039f"
             ],
             [
              0.2222222222222222,
              "#7201a8"
             ],
             [
              0.3333333333333333,
              "#9c179e"
             ],
             [
              0.4444444444444444,
              "#bd3786"
             ],
             [
              0.5555555555555556,
              "#d8576b"
             ],
             [
              0.6666666666666666,
              "#ed7953"
             ],
             [
              0.7777777777777778,
              "#fb9f3a"
             ],
             [
              0.8888888888888888,
              "#fdca26"
             ],
             [
              1,
              "#f0f921"
             ]
            ],
            "type": "contour"
           }
          ],
          "contourcarpet": [
           {
            "colorbar": {
             "outlinewidth": 0,
             "ticks": ""
            },
            "type": "contourcarpet"
           }
          ],
          "heatmap": [
           {
            "colorbar": {
             "outlinewidth": 0,
             "ticks": ""
            },
            "colorscale": [
             [
              0,
              "#0d0887"
             ],
             [
              0.1111111111111111,
              "#46039f"
             ],
             [
              0.2222222222222222,
              "#7201a8"
             ],
             [
              0.3333333333333333,
              "#9c179e"
             ],
             [
              0.4444444444444444,
              "#bd3786"
             ],
             [
              0.5555555555555556,
              "#d8576b"
             ],
             [
              0.6666666666666666,
              "#ed7953"
             ],
             [
              0.7777777777777778,
              "#fb9f3a"
             ],
             [
              0.8888888888888888,
              "#fdca26"
             ],
             [
              1,
              "#f0f921"
             ]
            ],
            "type": "heatmap"
           }
          ],
          "heatmapgl": [
           {
            "colorbar": {
             "outlinewidth": 0,
             "ticks": ""
            },
            "colorscale": [
             [
              0,
              "#0d0887"
             ],
             [
              0.1111111111111111,
              "#46039f"
             ],
             [
              0.2222222222222222,
              "#7201a8"
             ],
             [
              0.3333333333333333,
              "#9c179e"
             ],
             [
              0.4444444444444444,
              "#bd3786"
             ],
             [
              0.5555555555555556,
              "#d8576b"
             ],
             [
              0.6666666666666666,
              "#ed7953"
             ],
             [
              0.7777777777777778,
              "#fb9f3a"
             ],
             [
              0.8888888888888888,
              "#fdca26"
             ],
             [
              1,
              "#f0f921"
             ]
            ],
            "type": "heatmapgl"
           }
          ],
          "histogram": [
           {
            "marker": {
             "pattern": {
              "fillmode": "overlay",
              "size": 10,
              "solidity": 0.2
             }
            },
            "type": "histogram"
           }
          ],
          "histogram2d": [
           {
            "colorbar": {
             "outlinewidth": 0,
             "ticks": ""
            },
            "colorscale": [
             [
              0,
              "#0d0887"
             ],
             [
              0.1111111111111111,
              "#46039f"
             ],
             [
              0.2222222222222222,
              "#7201a8"
             ],
             [
              0.3333333333333333,
              "#9c179e"
             ],
             [
              0.4444444444444444,
              "#bd3786"
             ],
             [
              0.5555555555555556,
              "#d8576b"
             ],
             [
              0.6666666666666666,
              "#ed7953"
             ],
             [
              0.7777777777777778,
              "#fb9f3a"
             ],
             [
              0.8888888888888888,
              "#fdca26"
             ],
             [
              1,
              "#f0f921"
             ]
            ],
            "type": "histogram2d"
           }
          ],
          "histogram2dcontour": [
           {
            "colorbar": {
             "outlinewidth": 0,
             "ticks": ""
            },
            "colorscale": [
             [
              0,
              "#0d0887"
             ],
             [
              0.1111111111111111,
              "#46039f"
             ],
             [
              0.2222222222222222,
              "#7201a8"
             ],
             [
              0.3333333333333333,
              "#9c179e"
             ],
             [
              0.4444444444444444,
              "#bd3786"
             ],
             [
              0.5555555555555556,
              "#d8576b"
             ],
             [
              0.6666666666666666,
              "#ed7953"
             ],
             [
              0.7777777777777778,
              "#fb9f3a"
             ],
             [
              0.8888888888888888,
              "#fdca26"
             ],
             [
              1,
              "#f0f921"
             ]
            ],
            "type": "histogram2dcontour"
           }
          ],
          "mesh3d": [
           {
            "colorbar": {
             "outlinewidth": 0,
             "ticks": ""
            },
            "type": "mesh3d"
           }
          ],
          "parcoords": [
           {
            "line": {
             "colorbar": {
              "outlinewidth": 0,
              "ticks": ""
             }
            },
            "type": "parcoords"
           }
          ],
          "pie": [
           {
            "automargin": true,
            "type": "pie"
           }
          ],
          "scatter": [
           {
            "fillpattern": {
             "fillmode": "overlay",
             "size": 10,
             "solidity": 0.2
            },
            "type": "scatter"
           }
          ],
          "scatter3d": [
           {
            "line": {
             "colorbar": {
              "outlinewidth": 0,
              "ticks": ""
             }
            },
            "marker": {
             "colorbar": {
              "outlinewidth": 0,
              "ticks": ""
             }
            },
            "type": "scatter3d"
           }
          ],
          "scattercarpet": [
           {
            "marker": {
             "colorbar": {
              "outlinewidth": 0,
              "ticks": ""
             }
            },
            "type": "scattercarpet"
           }
          ],
          "scattergeo": [
           {
            "marker": {
             "colorbar": {
              "outlinewidth": 0,
              "ticks": ""
             }
            },
            "type": "scattergeo"
           }
          ],
          "scattergl": [
           {
            "marker": {
             "colorbar": {
              "outlinewidth": 0,
              "ticks": ""
             }
            },
            "type": "scattergl"
           }
          ],
          "scattermapbox": [
           {
            "marker": {
             "colorbar": {
              "outlinewidth": 0,
              "ticks": ""
             }
            },
            "type": "scattermapbox"
           }
          ],
          "scatterpolar": [
           {
            "marker": {
             "colorbar": {
              "outlinewidth": 0,
              "ticks": ""
             }
            },
            "type": "scatterpolar"
           }
          ],
          "scatterpolargl": [
           {
            "marker": {
             "colorbar": {
              "outlinewidth": 0,
              "ticks": ""
             }
            },
            "type": "scatterpolargl"
           }
          ],
          "scatterternary": [
           {
            "marker": {
             "colorbar": {
              "outlinewidth": 0,
              "ticks": ""
             }
            },
            "type": "scatterternary"
           }
          ],
          "surface": [
           {
            "colorbar": {
             "outlinewidth": 0,
             "ticks": ""
            },
            "colorscale": [
             [
              0,
              "#0d0887"
             ],
             [
              0.1111111111111111,
              "#46039f"
             ],
             [
              0.2222222222222222,
              "#7201a8"
             ],
             [
              0.3333333333333333,
              "#9c179e"
             ],
             [
              0.4444444444444444,
              "#bd3786"
             ],
             [
              0.5555555555555556,
              "#d8576b"
             ],
             [
              0.6666666666666666,
              "#ed7953"
             ],
             [
              0.7777777777777778,
              "#fb9f3a"
             ],
             [
              0.8888888888888888,
              "#fdca26"
             ],
             [
              1,
              "#f0f921"
             ]
            ],
            "type": "surface"
           }
          ],
          "table": [
           {
            "cells": {
             "fill": {
              "color": "#EBF0F8"
             },
             "line": {
              "color": "white"
             }
            },
            "header": {
             "fill": {
              "color": "#C8D4E3"
             },
             "line": {
              "color": "white"
             }
            },
            "type": "table"
           }
          ]
         },
         "layout": {
          "annotationdefaults": {
           "arrowcolor": "#2a3f5f",
           "arrowhead": 0,
           "arrowwidth": 1
          },
          "autotypenumbers": "strict",
          "coloraxis": {
           "colorbar": {
            "outlinewidth": 0,
            "ticks": ""
           }
          },
          "colorscale": {
           "diverging": [
            [
             0,
             "#8e0152"
            ],
            [
             0.1,
             "#c51b7d"
            ],
            [
             0.2,
             "#de77ae"
            ],
            [
             0.3,
             "#f1b6da"
            ],
            [
             0.4,
             "#fde0ef"
            ],
            [
             0.5,
             "#f7f7f7"
            ],
            [
             0.6,
             "#e6f5d0"
            ],
            [
             0.7,
             "#b8e186"
            ],
            [
             0.8,
             "#7fbc41"
            ],
            [
             0.9,
             "#4d9221"
            ],
            [
             1,
             "#276419"
            ]
           ],
           "sequential": [
            [
             0,
             "#0d0887"
            ],
            [
             0.1111111111111111,
             "#46039f"
            ],
            [
             0.2222222222222222,
             "#7201a8"
            ],
            [
             0.3333333333333333,
             "#9c179e"
            ],
            [
             0.4444444444444444,
             "#bd3786"
            ],
            [
             0.5555555555555556,
             "#d8576b"
            ],
            [
             0.6666666666666666,
             "#ed7953"
            ],
            [
             0.7777777777777778,
             "#fb9f3a"
            ],
            [
             0.8888888888888888,
             "#fdca26"
            ],
            [
             1,
             "#f0f921"
            ]
           ],
           "sequentialminus": [
            [
             0,
             "#0d0887"
            ],
            [
             0.1111111111111111,
             "#46039f"
            ],
            [
             0.2222222222222222,
             "#7201a8"
            ],
            [
             0.3333333333333333,
             "#9c179e"
            ],
            [
             0.4444444444444444,
             "#bd3786"
            ],
            [
             0.5555555555555556,
             "#d8576b"
            ],
            [
             0.6666666666666666,
             "#ed7953"
            ],
            [
             0.7777777777777778,
             "#fb9f3a"
            ],
            [
             0.8888888888888888,
             "#fdca26"
            ],
            [
             1,
             "#f0f921"
            ]
           ]
          },
          "colorway": [
           "#636efa",
           "#EF553B",
           "#00cc96",
           "#ab63fa",
           "#FFA15A",
           "#19d3f3",
           "#FF6692",
           "#B6E880",
           "#FF97FF",
           "#FECB52"
          ],
          "font": {
           "color": "#2a3f5f"
          },
          "geo": {
           "bgcolor": "white",
           "lakecolor": "white",
           "landcolor": "white",
           "showlakes": true,
           "showland": true,
           "subunitcolor": "#C8D4E3"
          },
          "hoverlabel": {
           "align": "left"
          },
          "hovermode": "closest",
          "mapbox": {
           "style": "light"
          },
          "paper_bgcolor": "white",
          "plot_bgcolor": "white",
          "polar": {
           "angularaxis": {
            "gridcolor": "#EBF0F8",
            "linecolor": "#EBF0F8",
            "ticks": ""
           },
           "bgcolor": "white",
           "radialaxis": {
            "gridcolor": "#EBF0F8",
            "linecolor": "#EBF0F8",
            "ticks": ""
           }
          },
          "scene": {
           "xaxis": {
            "backgroundcolor": "white",
            "gridcolor": "#DFE8F3",
            "gridwidth": 2,
            "linecolor": "#EBF0F8",
            "showbackground": true,
            "ticks": "",
            "zerolinecolor": "#EBF0F8"
           },
           "yaxis": {
            "backgroundcolor": "white",
            "gridcolor": "#DFE8F3",
            "gridwidth": 2,
            "linecolor": "#EBF0F8",
            "showbackground": true,
            "ticks": "",
            "zerolinecolor": "#EBF0F8"
           },
           "zaxis": {
            "backgroundcolor": "white",
            "gridcolor": "#DFE8F3",
            "gridwidth": 2,
            "linecolor": "#EBF0F8",
            "showbackground": true,
            "ticks": "",
            "zerolinecolor": "#EBF0F8"
           }
          },
          "shapedefaults": {
           "line": {
            "color": "#2a3f5f"
           }
          },
          "ternary": {
           "aaxis": {
            "gridcolor": "#DFE8F3",
            "linecolor": "#A2B1C6",
            "ticks": ""
           },
           "baxis": {
            "gridcolor": "#DFE8F3",
            "linecolor": "#A2B1C6",
            "ticks": ""
           },
           "bgcolor": "white",
           "caxis": {
            "gridcolor": "#DFE8F3",
            "linecolor": "#A2B1C6",
            "ticks": ""
           }
          },
          "title": {
           "x": 0.05
          },
          "xaxis": {
           "automargin": true,
           "gridcolor": "#EBF0F8",
           "linecolor": "#EBF0F8",
           "ticks": "",
           "title": {
            "standoff": 15
           },
           "zerolinecolor": "#EBF0F8",
           "zerolinewidth": 2
          },
          "yaxis": {
           "automargin": true,
           "gridcolor": "#EBF0F8",
           "linecolor": "#EBF0F8",
           "ticks": "",
           "title": {
            "standoff": 15
           },
           "zerolinecolor": "#EBF0F8",
           "zerolinewidth": 2
          }
         }
        },
        "title": {
         "text": "Average Temperature in European Country from 1980 to 2019"
        },
        "xaxis": {
         "anchor": "y",
         "domain": [
          0,
          1
         ],
         "dtick": 5,
         "title": {
          "text": "year"
         }
        },
        "yaxis": {
         "anchor": "x",
         "domain": [
          0,
          1
         ],
         "title": {
          "text": "Average Temperature (°C)"
         }
        }
       }
      },
      "text/html": [
       "<div>                            <div id=\"e41c066b-3334-4d09-a97c-f8caa8238193\" class=\"plotly-graph-div\" style=\"height:525px; width:100%;\"></div>            <script type=\"text/javascript\">                require([\"plotly\"], function(Plotly) {                    window.PLOTLYENV=window.PLOTLYENV || {};                                    if (document.getElementById(\"e41c066b-3334-4d09-a97c-f8caa8238193\")) {                    Plotly.newPlot(                        \"e41c066b-3334-4d09-a97c-f8caa8238193\",                        [{\"hovertemplate\":\"Country=AT\\u003cbr\\u003eyear=%{x}\\u003cbr\\u003eAverage Temperature (\\u00b0C)=%{y}\\u003cextra\\u003e\\u003c\\u002fextra\\u003e\",\"legendgroup\":\"AT\",\"line\":{\"color\":\"#636efa\",\"dash\":\"solid\"},\"marker\":{\"symbol\":\"circle\"},\"mode\":\"lines\",\"name\":\"AT\",\"showlegend\":true,\"x\":[\"1980\",\"1981\",\"1982\",\"1983\",\"1984\",\"1985\",\"1986\",\"1987\",\"1988\",\"1989\",\"1990\",\"1991\",\"1992\",\"1993\",\"1994\",\"1995\",\"1996\",\"1997\",\"1998\",\"1999\",\"2000\",\"2001\",\"2002\",\"2003\",\"2004\",\"2005\",\"2006\",\"2007\",\"2008\",\"2009\",\"2010\",\"2011\",\"2012\",\"2013\",\"2014\",\"2015\",\"2016\",\"2017\",\"2018\",\"2019\"],\"xaxis\":\"x\",\"y\":[6.049146630236794,7.191993264840183,7.566535159817351,8.053653310502282,6.835889116575592,6.576975456621005,7.120910159817352,6.599800913242009,7.688502049180327,8.067289269406393,8.06745205479452,6.926014383561644,8.042796561930784,7.390171917808219,8.698221803652968,7.331364954337899,5.976157103825137,7.322460273972602,7.84674303652968,7.760208561643835,8.763799294171221,7.67526894977169,8.42070399543379,8.11389303652968,7.290175546448087,6.978590639269406,7.615344178082191,8.545848287671232,8.357879553734062,7.897676027397261,6.762714383561644,8.456160502283105,8.201517190346083,7.677337214611873,9.065739155251142,9.057318721461186,8.392350068306012,8.33197910958904,9.213405365296802,9.198637442922374],\"yaxis\":\"y\",\"type\":\"scattergl\"},{\"hovertemplate\":\"Country=BE\\u003cbr\\u003eyear=%{x}\\u003cbr\\u003eAverage Temperature (\\u00b0C)=%{y}\\u003cextra\\u003e\\u003c\\u002fextra\\u003e\",\"legendgroup\":\"BE\",\"line\":{\"color\":\"#EF553B\",\"dash\":\"solid\"},\"marker\":{\"symbol\":\"circle\"},\"mode\":\"lines\",\"name\":\"BE\",\"showlegend\":true,\"x\":[\"1980\",\"1981\",\"1982\",\"1983\",\"1984\",\"1985\",\"1986\",\"1987\",\"1988\",\"1989\",\"1990\",\"1991\",\"1992\",\"1993\",\"1994\",\"1995\",\"1996\",\"1997\",\"1998\",\"1999\",\"2000\",\"2001\",\"2002\",\"2003\",\"2004\",\"2005\",\"2006\",\"2007\",\"2008\",\"2009\",\"2010\",\"2011\",\"2012\",\"2013\",\"2014\",\"2015\",\"2016\",\"2017\",\"2018\",\"2019\"],\"xaxis\":\"x\",\"y\":[8.791301684881603,9.008968493150684,9.543830479452055,9.515487214611873,9.03267805100182,8.01570993150685,8.51663299086758,8.382629680365296,9.869738615664845,10.268576027397259,10.437194292237443,9.323936301369864,9.919214822404372,9.41135308219178,10.302711529680366,10.050853767123288,8.18970434881603,9.854059246575341,9.784587214611872,10.365986415525114,10.365185792349727,9.714121803652967,10.205557420091324,9.952329452054794,9.763044398907104,10.171939840182649,10.41682214611872,10.584980821917808,9.867157103825136,9.852794406392695,8.58514109589041,10.536610844748857,9.731952641165755,9.191425342465752,10.955551712328766,10.220971461187215,10.023192395264116,10.530188812785388,11.096462785388127,10.976565639269406],\"yaxis\":\"y\",\"type\":\"scattergl\"},{\"hovertemplate\":\"Country=BG\\u003cbr\\u003eyear=%{x}\\u003cbr\\u003eAverage Temperature (\\u00b0C)=%{y}\\u003cextra\\u003e\\u003c\\u002fextra\\u003e\",\"legendgroup\":\"BG\",\"line\":{\"color\":\"#00cc96\",\"dash\":\"solid\"},\"marker\":{\"symbol\":\"circle\"},\"mode\":\"lines\",\"name\":\"BG\",\"showlegend\":true,\"x\":[\"1980\",\"1981\",\"1982\",\"1983\",\"1984\",\"1985\",\"1986\",\"1987\",\"1988\",\"1989\",\"1990\",\"1991\",\"1992\",\"1993\",\"1994\",\"1995\",\"1996\",\"1997\",\"1998\",\"1999\",\"2000\",\"2001\",\"2002\",\"2003\",\"2004\",\"2005\",\"2006\",\"2007\",\"2008\",\"2009\",\"2010\",\"2011\",\"2012\",\"2013\",\"2014\",\"2015\",\"2016\",\"2017\",\"2018\",\"2019\"],\"xaxis\":\"x\",\"y\":[9.432581170309655,10.226016666666666,10.110493721461188,10.132629223744292,9.952695696721312,10.033608333333333,10.400323059360732,10.025298744292238,10.5791802140255,10.837543949771689,11.402342123287672,9.901466552511415,10.549979052823316,10.558023401826484,11.901077511415524,10.174876255707762,9.952274020947176,9.750636529680365,10.786184474885845,11.484704680365297,11.433038365209471,11.166057420091324,11.002652397260274,10.3625899543379,10.87417201730419,10.231954566210046,10.822031735159818,12.084395433789954,11.74030658014572,11.515705707762557,11.386708333333333,10.78944394977169,11.713393784153006,11.920605479452055,11.678294063926941,11.60826917808219,11.683749316939892,11.433694520547945,11.87200399543379,12.716729337899544],\"yaxis\":\"y\",\"type\":\"scattergl\"},{\"hovertemplate\":\"Country=CH\\u003cbr\\u003eyear=%{x}\\u003cbr\\u003eAverage Temperature (\\u00b0C)=%{y}\\u003cextra\\u003e\\u003c\\u002fextra\\u003e\",\"legendgroup\":\"CH\",\"line\":{\"color\":\"#ab63fa\",\"dash\":\"solid\"},\"marker\":{\"symbol\":\"circle\"},\"mode\":\"lines\",\"name\":\"CH\",\"showlegend\":true,\"x\":[\"1980\",\"1981\",\"1982\",\"1983\",\"1984\",\"1985\",\"1986\",\"1987\",\"1988\",\"1989\",\"1990\",\"1991\",\"1992\",\"1993\",\"1994\",\"1995\",\"1996\",\"1997\",\"1998\",\"1999\",\"2000\",\"2001\",\"2002\",\"2003\",\"2004\",\"2005\",\"2006\",\"2007\",\"2008\",\"2009\",\"2010\",\"2011\",\"2012\",\"2013\",\"2014\",\"2015\",\"2016\",\"2017\",\"2018\",\"2019\"],\"xaxis\":\"x\",\"y\":[6.060315118397085,6.552329109589041,7.5262560502283105,7.411256392694064,6.401573770491803,6.448632191780822,6.96385993150685,6.749000114155251,7.497596197632058,8.054364726027398,7.76955810502283,7.134327625570776,7.424038706739527,7.226359246575343,8.38732397260274,6.933915182648402,6.2074236111111105,7.750350456621005,7.252984931506849,7.227429452054794,7.903404485428052,7.3230942922374425,8.007019292237443,8.173852625570776,7.257173155737704,7.068146689497716,7.883069292237444,7.976823059360731,7.433781989981785,7.672111187214612,6.498316324200913,8.671522602739726,7.6003920765027315,7.08623698630137,8.534272146118722,8.58080799086758,8.099256147540983,8.152590753424658,9.171993493150685,8.60191997716895],\"yaxis\":\"y\",\"type\":\"scattergl\"},{\"hovertemplate\":\"Country=CZ\\u003cbr\\u003eyear=%{x}\\u003cbr\\u003eAverage Temperature (\\u00b0C)=%{y}\\u003cextra\\u003e\\u003c\\u002fextra\\u003e\",\"legendgroup\":\"CZ\",\"line\":{\"color\":\"#FFA15A\",\"dash\":\"solid\"},\"marker\":{\"symbol\":\"circle\"},\"mode\":\"lines\",\"name\":\"CZ\",\"showlegend\":true,\"x\":[\"1980\",\"1981\",\"1982\",\"1983\",\"1984\",\"1985\",\"1986\",\"1987\",\"1988\",\"1989\",\"1990\",\"1991\",\"1992\",\"1993\",\"1994\",\"1995\",\"1996\",\"1997\",\"1998\",\"1999\",\"2000\",\"2001\",\"2002\",\"2003\",\"2004\",\"2005\",\"2006\",\"2007\",\"2008\",\"2009\",\"2010\",\"2011\",\"2012\",\"2013\",\"2014\",\"2015\",\"2016\",\"2017\",\"2018\",\"2019\"],\"xaxis\":\"x\",\"y\":[5.839448770491804,6.9883523972602735,7.6265324200913245,8.225779794520548,6.975051798724955,6.271424771689498,7.092671118721461,6.125587899543379,7.766175318761385,8.3798700913242,8.275589497716895,7.04014897260274,8.089487932604737,7.49439303652968,8.749836301369864,7.470100570776255,5.638497381602915,7.002890639269406,7.884762557077626,8.01204109589041,8.881796903460838,7.478898287671233,8.31749805936073,8.192875799086758,7.713665072859746,7.399335502283105,7.87620502283105,9.05002089041096,8.770041211293261,8.213266324200914,6.546302397260273,8.385459360730593,8.248271744080146,7.69501506849315,9.551159817351598,9.454703995433789,8.678092896174864,8.463976369863014,9.804662557077625,9.662554223744293],\"yaxis\":\"y\",\"type\":\"scattergl\"},{\"hovertemplate\":\"Country=DE\\u003cbr\\u003eyear=%{x}\\u003cbr\\u003eAverage Temperature (\\u00b0C)=%{y}\\u003cextra\\u003e\\u003c\\u002fextra\\u003e\",\"legendgroup\":\"DE\",\"line\":{\"color\":\"#19d3f3\",\"dash\":\"solid\"},\"marker\":{\"symbol\":\"circle\"},\"mode\":\"lines\",\"name\":\"DE\",\"showlegend\":true,\"x\":[\"1980\",\"1981\",\"1982\",\"1983\",\"1984\",\"1985\",\"1986\",\"1987\",\"1988\",\"1989\",\"1990\",\"1991\",\"1992\",\"1993\",\"1994\",\"1995\",\"1996\",\"1997\",\"1998\",\"1999\",\"2000\",\"2001\",\"2002\",\"2003\",\"2004\",\"2005\",\"2006\",\"2007\",\"2008\",\"2009\",\"2010\",\"2011\",\"2012\",\"2013\",\"2014\",\"2015\",\"2016\",\"2017\",\"2018\",\"2019\"],\"xaxis\":\"x\",\"y\":[7.2324581056466295,7.8162932648401835,8.655136301369863,8.667401598173516,7.751520491803278,7.092251369863014,7.68550799086758,7.064314155251141,8.771853255919854,9.27921392694064,9.203722602739726,8.207378881278538,9.017189093806921,8.234190182648401,9.439363013698632,8.608622146118721,6.891486224954463,8.59369691780822,8.801097374429224,9.229537557077625,9.569482809653916,8.752539611872146,9.173292694063926,9.088573744292237,8.709642531876138,8.925514383561643,9.393899200913243,9.6702600456621,9.197366575591985,9.009644748858447,7.406268493150685,9.431342579908677,8.878899817850638,8.448156278538812,10.277873630136986,9.781265525114154,9.347027550091074,9.390770662100456,10.47447705479452,10.261432534246575],\"yaxis\":\"y\",\"type\":\"scattergl\"},{\"hovertemplate\":\"Country=DK\\u003cbr\\u003eyear=%{x}\\u003cbr\\u003eAverage Temperature (\\u00b0C)=%{y}\\u003cextra\\u003e\\u003c\\u002fextra\\u003e\",\"legendgroup\":\"DK\",\"line\":{\"color\":\"#FF6692\",\"dash\":\"solid\"},\"marker\":{\"symbol\":\"circle\"},\"mode\":\"lines\",\"name\":\"DK\",\"showlegend\":true,\"x\":[\"1980\",\"1981\",\"1982\",\"1983\",\"1984\",\"1985\",\"1986\",\"1987\",\"1988\",\"1989\",\"1990\",\"1991\",\"1992\",\"1993\",\"1994\",\"1995\",\"1996\",\"1997\",\"1998\",\"1999\",\"2000\",\"2001\",\"2002\",\"2003\",\"2004\",\"2005\",\"2006\",\"2007\",\"2008\",\"2009\",\"2010\",\"2011\",\"2012\",\"2013\",\"2014\",\"2015\",\"2016\",\"2017\",\"2018\",\"2019\"],\"xaxis\":\"x\",\"y\":[7.287840050091075,7.301088584474886,8.001436643835618,8.384882305936074,8.013563866120219,6.655674315068493,7.140528538812785,6.619177168949771,8.403834927140254,9.100090182648401,9.215119634703196,8.103909589041097,8.868071835154826,7.636019863013699,8.646279337899545,8.308443607305936,6.9170877732240434,8.507868607305937,8.056887328767123,8.735828082191782,8.999944102914391,8.133154109589041,8.860721461187214,8.465180479452055,8.422288137522768,8.678903082191782,9.107386187214612,9.294312899543378,9.272711407103825,8.657497374429223,6.847948059360731,8.690884246575342,8.10282502276867,8.32099394977169,9.948389954337898,9.098821347031963,9.025710268670311,8.960999543378996,9.57815216894977,9.658884931506849],\"yaxis\":\"y\",\"type\":\"scattergl\"},{\"hovertemplate\":\"Country=EE\\u003cbr\\u003eyear=%{x}\\u003cbr\\u003eAverage Temperature (\\u00b0C)=%{y}\\u003cextra\\u003e\\u003c\\u002fextra\\u003e\",\"legendgroup\":\"EE\",\"line\":{\"color\":\"#B6E880\",\"dash\":\"solid\"},\"marker\":{\"symbol\":\"circle\"},\"mode\":\"lines\",\"name\":\"EE\",\"showlegend\":true,\"x\":[\"1980\",\"1981\",\"1982\",\"1983\",\"1984\",\"1985\",\"1986\",\"1987\",\"1988\",\"1989\",\"1990\",\"1991\",\"1992\",\"1993\",\"1994\",\"1995\",\"1996\",\"1997\",\"1998\",\"1999\",\"2000\",\"2001\",\"2002\",\"2003\",\"2004\",\"2005\",\"2006\",\"2007\",\"2008\",\"2009\",\"2010\",\"2011\",\"2012\",\"2013\",\"2014\",\"2015\",\"2016\",\"2017\",\"2018\",\"2019\"],\"xaxis\":\"x\",\"y\":[4.338775500910747,4.853085045662101,4.991037442922374,5.791776712328767,5.090601206739526,3.2469309360730594,4.382657762557078,2.928157420091324,5.310935109289618,6.903960273972603,6.2656757990867575,5.900070662100457,6.000931921675774,4.79372397260274,4.689719178082192,5.808615867579909,4.0827857468123865,5.306586757990868,4.719640410958904,5.903381735159818,6.35826400273224,5.234866666666667,5.568348401826484,4.831534931506849,5.269524704007286,5.784180365296804,5.896239155251141,6.442051255707763,6.790727686703097,5.503905136986302,4.488638812785388,6.42728299086758,4.897524476320584,6.079042808219178,6.503297488584475,7.067704794520548,6.235571379781421,5.96617602739726,6.772875913242009,7.006144748858448],\"yaxis\":\"y\",\"type\":\"scattergl\"},{\"hovertemplate\":\"Country=ES\\u003cbr\\u003eyear=%{x}\\u003cbr\\u003eAverage Temperature (\\u00b0C)=%{y}\\u003cextra\\u003e\\u003c\\u002fextra\\u003e\",\"legendgroup\":\"ES\",\"line\":{\"color\":\"#FF97FF\",\"dash\":\"solid\"},\"marker\":{\"symbol\":\"circle\"},\"mode\":\"lines\",\"name\":\"ES\",\"showlegend\":true,\"x\":[\"1980\",\"1981\",\"1982\",\"1983\",\"1984\",\"1985\",\"1986\",\"1987\",\"1988\",\"1989\",\"1990\",\"1991\",\"1992\",\"1993\",\"1994\",\"1995\",\"1996\",\"1997\",\"1998\",\"1999\",\"2000\",\"2001\",\"2002\",\"2003\",\"2004\",\"2005\",\"2006\",\"2007\",\"2008\",\"2009\",\"2010\",\"2011\",\"2012\",\"2013\",\"2014\",\"2015\",\"2016\",\"2017\",\"2018\",\"2019\"],\"xaxis\":\"x\",\"y\":[14.352198315118398,15.010856164383563,14.793415753424657,15.04040011415525,14.06706841985428,14.930540753424657,14.741941438356164,15.2447698630137,14.825838797814209,15.691850684931506,15.32145913242009,14.577334703196348,14.537071721311476,14.20376312785388,15.415498059360731,15.545232648401829,14.555608265027322,15.416571347031965,14.978360616438358,14.983228082191781,14.984033014571951,15.08885821917808,15.127187100456622,15.477424200913243,14.95795434881603,15.008400228310503,15.67292591324201,14.867151826484019,14.82124112021858,15.48355605022831,14.565753310502283,15.652197374429225,15.175644011839708,14.736785844748859,15.683458561643837,15.824368835616438,15.56229348816029,15.890442237442922,15.261691666666666,15.647648515981736],\"yaxis\":\"y\",\"type\":\"scattergl\"},{\"hovertemplate\":\"Country=FI\\u003cbr\\u003eyear=%{x}\\u003cbr\\u003eAverage Temperature (\\u00b0C)=%{y}\\u003cextra\\u003e\\u003c\\u002fextra\\u003e\",\"legendgroup\":\"FI\",\"line\":{\"color\":\"#FECB52\",\"dash\":\"solid\"},\"marker\":{\"symbol\":\"circle\"},\"mode\":\"lines\",\"name\":\"FI\",\"showlegend\":true,\"x\":[\"1980\",\"1981\",\"1982\",\"1983\",\"1984\",\"1985\",\"1986\",\"1987\",\"1988\",\"1989\",\"1990\",\"1991\",\"1992\",\"1993\",\"1994\",\"1995\",\"1996\",\"1997\",\"1998\",\"1999\",\"2000\",\"2001\",\"2002\",\"2003\",\"2004\",\"2005\",\"2006\",\"2007\",\"2008\",\"2009\",\"2010\",\"2011\",\"2012\",\"2013\",\"2014\",\"2015\",\"2016\",\"2017\",\"2018\",\"2019\"],\"xaxis\":\"x\",\"y\":[2.6264639116575594,2.6689690639269408,3.1436195205479454,3.675715525114155,3.6103366347905284,1.0904881278538812,2.499629223744292,1.1483264840182648,3.516949112021858,5.111322488584475,4.2802127853881275,3.9073100456621006,3.901551001821494,3.1278190639269408,2.966034589041096,3.882123287671233,2.718120218579235,3.5796358447488585,2.8117329908675797,3.7525199771689493,4.878106329690346,3.3894238584474885,3.5317444063926944,3.591399429223744,3.773678961748634,4.4278878995433795,4.283308333333333,4.653692351598174,4.981755806010929,3.6564812785388128,2.4352224885844747,4.9419586757990865,3.2888011156648456,4.609382534246575,5.045997260273973,5.367522374429224,4.473948428961749,4.17793093607306,4.874930022831051,4.6766650684931514],\"yaxis\":\"y\",\"type\":\"scattergl\"},{\"hovertemplate\":\"Country=FR\\u003cbr\\u003eyear=%{x}\\u003cbr\\u003eAverage Temperature (\\u00b0C)=%{y}\\u003cextra\\u003e\\u003c\\u002fextra\\u003e\",\"legendgroup\":\"FR\",\"line\":{\"color\":\"#636efa\",\"dash\":\"solid\"},\"marker\":{\"symbol\":\"circle\"},\"mode\":\"lines\",\"name\":\"FR\",\"showlegend\":true,\"x\":[\"1980\",\"1981\",\"1982\",\"1983\",\"1984\",\"1985\",\"1986\",\"1987\",\"1988\",\"1989\",\"1990\",\"1991\",\"1992\",\"1993\",\"1994\",\"1995\",\"1996\",\"1997\",\"1998\",\"1999\",\"2000\",\"2001\",\"2002\",\"2003\",\"2004\",\"2005\",\"2006\",\"2007\",\"2008\",\"2009\",\"2010\",\"2011\",\"2012\",\"2013\",\"2014\",\"2015\",\"2016\",\"2017\",\"2018\",\"2019\"],\"xaxis\":\"x\",\"y\":[9.719791325136612,10.28395707762557,10.91242203196347,10.665451255707763,10.109041780510019,9.673774543378995,10.130198744292237,10.127021575342466,11.050868738615666,11.690355136986302,11.926385730593607,10.935228652968037,11.056351092896175,10.60586084474886,11.654234817351597,11.146747716894977,10.033902777777778,11.36190684931507,10.858761301369862,11.314003538812786,11.323907217668488,10.940459360730593,11.566805707762557,11.73975684931507,11.036972336065574,11.090274543378994,11.561874315068494,11.306679680365296,10.770217326958106,11.128991552511415,9.952625228310502,11.91972203196347,11.001047700364298,10.460707305936074,11.886953310502282,11.6937198630137,11.275162340619307,11.65479611872146,12.14857888127854,11.986726369863014],\"yaxis\":\"y\",\"type\":\"scattergl\"},{\"hovertemplate\":\"Country=GB\\u003cbr\\u003eyear=%{x}\\u003cbr\\u003eAverage Temperature (\\u00b0C)=%{y}\\u003cextra\\u003e\\u003c\\u002fextra\\u003e\",\"legendgroup\":\"GB\",\"line\":{\"color\":\"#EF553B\",\"dash\":\"solid\"},\"marker\":{\"symbol\":\"circle\"},\"mode\":\"lines\",\"name\":\"GB\",\"showlegend\":true,\"x\":[\"1980\",\"1981\",\"1982\",\"1983\",\"1984\",\"1985\",\"1986\",\"1987\",\"1988\",\"1989\",\"1990\",\"1991\",\"1992\",\"1993\",\"1994\",\"1995\",\"1996\",\"1997\",\"1998\",\"1999\",\"2000\",\"2001\",\"2002\",\"2003\",\"2004\",\"2005\",\"2006\",\"2007\",\"2008\",\"2009\",\"2010\",\"2011\",\"2012\",\"2013\",\"2014\",\"2015\",\"2016\",\"2017\",\"2018\",\"2019\"],\"xaxis\":\"x\",\"y\":[8.709780054644808,8.63427397260274,9.201798630136986,9.229314269406393,9.095242144808743,8.245559474885845,8.096156506849315,8.420907876712329,9.167207650273223,9.915421461187215,10.055915182648402,9.075148515981736,9.247998406193078,8.828232648401826,9.429732305936072,9.66995319634703,8.518762978142076,9.843585958904109,9.622456164383562,9.897338584474886,9.600016734972678,9.240293493150686,9.945681164383561,9.843656164383562,9.892341074681237,9.952442237442922,10.25381404109589,10.050393835616438,9.525582081056466,9.631235616438357,8.424160273972603,10.073107534246576,9.161920878870673,8.957273173515983,10.344300799086758,9.671504109589042,9.679205601092898,9.992564269406392,10.038208561643835,9.9474649543379],\"yaxis\":\"y\",\"type\":\"scattergl\"},{\"hovertemplate\":\"Country=GR\\u003cbr\\u003eyear=%{x}\\u003cbr\\u003eAverage Temperature (\\u00b0C)=%{y}\\u003cextra\\u003e\\u003c\\u002fextra\\u003e\",\"legendgroup\":\"GR\",\"line\":{\"color\":\"#00cc96\",\"dash\":\"solid\"},\"marker\":{\"symbol\":\"circle\"},\"mode\":\"lines\",\"name\":\"GR\",\"showlegend\":true,\"x\":[\"1980\",\"1981\",\"1982\",\"1983\",\"1984\",\"1985\",\"1986\",\"1987\",\"1988\",\"1989\",\"1990\",\"1991\",\"1992\",\"1993\",\"1994\",\"1995\",\"1996\",\"1997\",\"1998\",\"1999\",\"2000\",\"2001\",\"2002\",\"2003\",\"2004\",\"2005\",\"2006\",\"2007\",\"2008\",\"2009\",\"2010\",\"2011\",\"2012\",\"2013\",\"2014\",\"2015\",\"2016\",\"2017\",\"2018\",\"2019\"],\"xaxis\":\"x\",\"y\":[15.231541438979962,15.831890639269405,15.329941210045662,15.259104794520548,15.51218533697632,15.932235844748858,15.743769634703195,15.461196347031962,15.964464594717667,15.749244292237444,16.44826369863014,15.138001598173515,15.520882513661203,15.875541438356162,16.708911415525115,15.751785958904108,15.37014913479053,15.47717385844749,16.143352283105024,16.779380365296802,16.38553392531876,16.543993150684933,16.313092808219178,16.040935958904107,16.111997267759566,15.94739474885845,15.86225502283105,16.818717579908675,16.729060906193077,16.618803310502283,17.03104006849315,15.96993915525114,17.04259198542805,16.955591438356166,16.94091061643836,16.583468607305935,16.94604644808743,16.723906278538813,17.218523173515983,17.16634691780822],\"yaxis\":\"y\",\"type\":\"scattergl\"},{\"hovertemplate\":\"Country=HR\\u003cbr\\u003eyear=%{x}\\u003cbr\\u003eAverage Temperature (\\u00b0C)=%{y}\\u003cextra\\u003e\\u003c\\u002fextra\\u003e\",\"legendgroup\":\"HR\",\"line\":{\"color\":\"#ab63fa\",\"dash\":\"solid\"},\"marker\":{\"symbol\":\"circle\"},\"mode\":\"lines\",\"name\":\"HR\",\"showlegend\":true,\"x\":[\"1980\",\"1981\",\"1982\",\"1983\",\"1984\",\"1985\",\"1986\",\"1987\",\"1988\",\"1989\",\"1990\",\"1991\",\"1992\",\"1993\",\"1994\",\"1995\",\"1996\",\"1997\",\"1998\",\"1999\",\"2000\",\"2001\",\"2002\",\"2003\",\"2004\",\"2005\",\"2006\",\"2007\",\"2008\",\"2009\",\"2010\",\"2011\",\"2012\",\"2013\",\"2014\",\"2015\",\"2016\",\"2017\",\"2018\",\"2019\"],\"xaxis\":\"x\",\"y\":[9.537974385245901,10.750538356164384,10.996456506849315,11.275594520547944,10.225023451730419,10.314589840182649,10.48993607305936,10.34902191780822,11.258132058287796,11.287091780821918,11.805720662100457,10.322011415525115,11.706098019125683,10.91642591324201,12.18227602739726,10.872321917808218,9.734095856102003,10.4825399543379,11.123996917808219,11.172440525114155,12.56837204007286,11.409229223744292,11.829442237442922,11.701471232876713,10.955479849726776,10.443185844748859,11.276219748858447,12.260925799086758,12.088540983606558,11.931574657534247,10.713851484018265,11.912263242009134,12.23972131147541,11.666155365296802,12.338499200913242,12.235658105022832,11.847076730418943,12.163093607305935,12.66849794520548,12.95465593607306],\"yaxis\":\"y\",\"type\":\"scattergl\"},{\"hovertemplate\":\"Country=HU\\u003cbr\\u003eyear=%{x}\\u003cbr\\u003eAverage Temperature (\\u00b0C)=%{y}\\u003cextra\\u003e\\u003c\\u002fextra\\u003e\",\"legendgroup\":\"HU\",\"line\":{\"color\":\"#FFA15A\",\"dash\":\"solid\"},\"marker\":{\"symbol\":\"circle\"},\"mode\":\"lines\",\"name\":\"HU\",\"showlegend\":true,\"x\":[\"1980\",\"1981\",\"1982\",\"1983\",\"1984\",\"1985\",\"1986\",\"1987\",\"1988\",\"1989\",\"1990\",\"1991\",\"1992\",\"1993\",\"1994\",\"1995\",\"1996\",\"1997\",\"1998\",\"1999\",\"2000\",\"2001\",\"2002\",\"2003\",\"2004\",\"2005\",\"2006\",\"2007\",\"2008\",\"2009\",\"2010\",\"2011\",\"2012\",\"2013\",\"2014\",\"2015\",\"2016\",\"2017\",\"2018\",\"2019\"],\"xaxis\":\"x\",\"y\":[8.350745218579235,9.823394292237442,9.981250342465753,10.686774315068492,9.517559767759563,8.874912899543379,9.82221301369863,9.16223310502283,10.215492486338798,10.742271689497716,10.942274885844748,9.525583447488584,10.794164275956284,9.999684703196348,11.395281849315069,10.002930821917808,8.444360655737704,9.11301689497717,10.177139840182647,10.098243835616438,11.531963570127504,10.418732990867579,11.277660958904109,10.441352054794521,10.019006489071037,9.722904566210046,10.329133675799087,11.748975570776256,11.32919330601093,11.28178207762557,9.758452739726028,10.880122602739725,11.456428734061932,10.904913470319634,11.879748630136985,11.714981849315068,10.970994193989071,11.15765285388128,11.983473744292237,12.333445433789954],\"yaxis\":\"y\",\"type\":\"scattergl\"},{\"hovertemplate\":\"Country=IE\\u003cbr\\u003eyear=%{x}\\u003cbr\\u003eAverage Temperature (\\u00b0C)=%{y}\\u003cextra\\u003e\\u003c\\u002fextra\\u003e\",\"legendgroup\":\"IE\",\"line\":{\"color\":\"#19d3f3\",\"dash\":\"solid\"},\"marker\":{\"symbol\":\"circle\"},\"mode\":\"lines\",\"name\":\"IE\",\"showlegend\":true,\"x\":[\"1980\",\"1981\",\"1982\",\"1983\",\"1984\",\"1985\",\"1986\",\"1987\",\"1988\",\"1989\",\"1990\",\"1991\",\"1992\",\"1993\",\"1994\",\"1995\",\"1996\",\"1997\",\"1998\",\"1999\",\"2000\",\"2001\",\"2002\",\"2003\",\"2004\",\"2005\",\"2006\",\"2007\",\"2008\",\"2009\",\"2010\",\"2011\",\"2012\",\"2013\",\"2014\",\"2015\",\"2016\",\"2017\",\"2018\",\"2019\"],\"xaxis\":\"x\",\"y\":[9.161200136612022,9.275690410958903,9.422920433789955,9.6010100456621,9.399709130236793,8.689106735159816,8.324741210045662,9.054215753424657,9.434239981785064,9.969299657534247,9.947217351598173,9.401583105022832,9.357718693078324,9.174007305936074,9.447723287671232,10.022373744292238,9.076449112021857,10.218060159817352,10.01036107305936,9.959139611872146,9.661117372495447,9.473399657534246,9.982126940639269,10.045984018264841,9.976811133879782,10.15454006849315,10.213995662100457,10.319263013698631,9.668800887978142,9.604871347031963,8.71603310502283,9.866186301369863,9.475213683970857,9.40960194063927,10.104598401826484,9.420569292237444,9.683142531876138,10.021666552511416,9.946954794520547,9.940994748858447],\"yaxis\":\"y\",\"type\":\"scattergl\"},{\"hovertemplate\":\"Country=IT\\u003cbr\\u003eyear=%{x}\\u003cbr\\u003eAverage Temperature (\\u00b0C)=%{y}\\u003cextra\\u003e\\u003c\\u002fextra\\u003e\",\"legendgroup\":\"IT\",\"line\":{\"color\":\"#FF6692\",\"dash\":\"solid\"},\"marker\":{\"symbol\":\"circle\"},\"mode\":\"lines\",\"name\":\"IT\",\"showlegend\":true,\"x\":[\"1980\",\"1981\",\"1982\",\"1983\",\"1984\",\"1985\",\"1986\",\"1987\",\"1988\",\"1989\",\"1990\",\"1991\",\"1992\",\"1993\",\"1994\",\"1995\",\"1996\",\"1997\",\"1998\",\"1999\",\"2000\",\"2001\",\"2002\",\"2003\",\"2004\",\"2005\",\"2006\",\"2007\",\"2008\",\"2009\",\"2010\",\"2011\",\"2012\",\"2013\",\"2014\",\"2015\",\"2016\",\"2017\",\"2018\",\"2019\"],\"xaxis\":\"x\",\"y\":[12.477158469945355,13.159288584474886,13.845323858447488,13.622633219178082,12.690772540983607,13.37673207762557,13.336432420091324,13.44857796803653,13.76057855191257,13.6433350456621,14.048422945205479,13.07422111872146,13.772879895264117,13.688520319634703,14.515755136986302,13.27993196347032,12.918603142076503,13.95482796803653,13.85756609589041,13.935796232876712,14.282890141165757,14.039137899543379,14.183166438356164,14.523353424657534,13.762786657559198,13.328309132420092,14.067864269406392,14.49230308219178,14.163756261384336,14.154774543378995,13.230598401826484,14.295876826484017,14.429654599271402,13.893729223744293,14.487304452054794,14.624121232876712,14.315849499089254,14.562355821917807,14.835095433789954,14.828992579908677],\"yaxis\":\"y\",\"type\":\"scattergl\"},{\"hovertemplate\":\"Country=LT\\u003cbr\\u003eyear=%{x}\\u003cbr\\u003eAverage Temperature (\\u00b0C)=%{y}\\u003cextra\\u003e\\u003c\\u002fextra\\u003e\",\"legendgroup\":\"LT\",\"line\":{\"color\":\"#B6E880\",\"dash\":\"solid\"},\"marker\":{\"symbol\":\"circle\"},\"mode\":\"lines\",\"name\":\"LT\",\"showlegend\":true,\"x\":[\"1980\",\"1981\",\"1982\",\"1983\",\"1984\",\"1985\",\"1986\",\"1987\",\"1988\",\"1989\",\"1990\",\"1991\",\"1992\",\"1993\",\"1994\",\"1995\",\"1996\",\"1997\",\"1998\",\"1999\",\"2000\",\"2001\",\"2002\",\"2003\",\"2004\",\"2005\",\"2006\",\"2007\",\"2008\",\"2009\",\"2010\",\"2011\",\"2012\",\"2013\",\"2014\",\"2015\",\"2016\",\"2017\",\"2018\",\"2019\"],\"xaxis\":\"x\",\"y\":[4.443179530965392,5.760985502283105,5.899925456621005,6.966536301369863,5.935624772313297,4.309386529680365,5.2647473744292235,3.8710288812785394,6.136853825136613,7.615546461187215,7.24325799086758,6.444328538812785,6.589161543715847,5.535047374429224,5.992242465753425,6.250749885844749,4.426760587431694,5.655242465753425,5.676538812785388,6.5531283105022835,7.006907331511839,5.953370662100457,6.734261872146119,5.690494748858447,5.745840846994535,5.853919634703197,6.277522488584475,6.992045433789954,7.276264230418944,6.01803401826484,5.245397831050228,6.683612557077626,5.838561589253188,6.301672488584475,6.9508826484018265,7.459891780821918,6.874332536429873,6.516623401826484,7.120616780821918,7.852464611872145],\"yaxis\":\"y\",\"type\":\"scattergl\"},{\"hovertemplate\":\"Country=LU\\u003cbr\\u003eyear=%{x}\\u003cbr\\u003eAverage Temperature (\\u00b0C)=%{y}\\u003cextra\\u003e\\u003c\\u002fextra\\u003e\",\"legendgroup\":\"LU\",\"line\":{\"color\":\"#FF97FF\",\"dash\":\"solid\"},\"marker\":{\"symbol\":\"circle\"},\"mode\":\"lines\",\"name\":\"LU\",\"showlegend\":true,\"x\":[\"1980\",\"1981\",\"1982\",\"1983\",\"1984\",\"1985\",\"1986\",\"1987\",\"1988\",\"1989\",\"1990\",\"1991\",\"1992\",\"1993\",\"1994\",\"1995\",\"1996\",\"1997\",\"1998\",\"1999\",\"2000\",\"2001\",\"2002\",\"2003\",\"2004\",\"2005\",\"2006\",\"2007\",\"2008\",\"2009\",\"2010\",\"2011\",\"2012\",\"2013\",\"2014\",\"2015\",\"2016\",\"2017\",\"2018\",\"2019\"],\"xaxis\":\"x\",\"y\":[7.386867258652095,7.960408904109589,8.801836529680365,8.610282648401826,7.902596766848816,7.1399703196347035,7.8187393835616446,7.499503310502283,9.131317964480875,9.395284817351598,9.386731506849314,8.596155707762556,9.055028233151184,8.490601369863015,9.618537214611871,9.018822260273973,7.329631147540984,8.672623173515982,8.52078493150685,9.286764726027396,9.444960382513662,8.892241210045661,9.395960730593607,9.425076826484018,8.721509448998178,9.197844292237443,9.505688698630136,9.501757762557078,8.78120878870674,9.034551826484018,7.743710388127854,9.725227511415525,8.828664389799636,8.287800799086757,10.185790525114154,9.637927283105023,9.074735883424408,9.631983333333332,10.543262100456621,10.119636986301371],\"yaxis\":\"y\",\"type\":\"scattergl\"},{\"hovertemplate\":\"Country=LV\\u003cbr\\u003eyear=%{x}\\u003cbr\\u003eAverage Temperature (\\u00b0C)=%{y}\\u003cextra\\u003e\\u003c\\u002fextra\\u003e\",\"legendgroup\":\"LV\",\"line\":{\"color\":\"#FECB52\",\"dash\":\"solid\"},\"marker\":{\"symbol\":\"circle\"},\"mode\":\"lines\",\"name\":\"LV\",\"showlegend\":true,\"x\":[\"1980\",\"1981\",\"1982\",\"1983\",\"1984\",\"1985\",\"1986\",\"1987\",\"1988\",\"1989\",\"1990\",\"1991\",\"1992\",\"1993\",\"1994\",\"1995\",\"1996\",\"1997\",\"1998\",\"1999\",\"2000\",\"2001\",\"2002\",\"2003\",\"2004\",\"2005\",\"2006\",\"2007\",\"2008\",\"2009\",\"2010\",\"2011\",\"2012\",\"2013\",\"2014\",\"2015\",\"2016\",\"2017\",\"2018\",\"2019\"],\"xaxis\":\"x\",\"y\":[4.340943875227687,5.428034703196348,5.497602283105023,6.498930479452055,5.64684483151184,3.912142123287671,5.059657191780822,3.516393721461187,5.870057946265938,7.372324771689498,6.967414383561644,6.38926598173516,6.351295992714025,5.254267694063927,5.3760737442922375,6.03646095890411,4.306514458105647,5.548499885844748,5.414618835616438,6.246193264840183,6.823700591985428,5.726020319634704,6.197865525114156,5.447229452054795,5.555656876138434,5.615567808219178,6.104943264840182,6.843690296803653,7.084214139344263,5.8374283105022835,4.934298744292238,6.519042237442922,5.314057149362477,6.097361643835616,6.687888698630137,7.137410159817352,6.674885359744991,6.277746118721461,6.95980696347032,7.623857648401827],\"yaxis\":\"y\",\"type\":\"scattergl\"},{\"hovertemplate\":\"Country=NL\\u003cbr\\u003eyear=%{x}\\u003cbr\\u003eAverage Temperature (\\u00b0C)=%{y}\\u003cextra\\u003e\\u003c\\u002fextra\\u003e\",\"legendgroup\":\"NL\",\"line\":{\"color\":\"#636efa\",\"dash\":\"solid\"},\"marker\":{\"symbol\":\"circle\"},\"mode\":\"lines\",\"name\":\"NL\",\"showlegend\":true,\"x\":[\"1980\",\"1981\",\"1982\",\"1983\",\"1984\",\"1985\",\"1986\",\"1987\",\"1988\",\"1989\",\"1990\",\"1991\",\"1992\",\"1993\",\"1994\",\"1995\",\"1996\",\"1997\",\"1998\",\"1999\",\"2000\",\"2001\",\"2002\",\"2003\",\"2004\",\"2005\",\"2006\",\"2007\",\"2008\",\"2009\",\"2010\",\"2011\",\"2012\",\"2013\",\"2014\",\"2015\",\"2016\",\"2017\",\"2018\",\"2019\"],\"xaxis\":\"x\",\"y\":[9.069256375227686,9.15288299086758,9.680261415525115,9.75784303652968,9.124336634790527,8.207961301369862,8.631540867579908,8.416469520547945,9.961753187613843,10.357185273972602,10.533811643835616,9.348165296803653,10.17913308287796,9.374588470319635,10.2943301369863,10.103489383561643,8.169488957194899,9.894419406392695,10.045795662100456,10.629919748858446,10.575304986338798,10.032402397260274,10.402488356164383,10.120490525114155,10.129904143897996,10.363067808219178,10.718093378995434,10.91788116438356,10.256651980874317,10.17189897260274,8.652242123287671,10.487803310502283,9.926307832422586,9.367944748858447,11.318268607305935,10.439311643835616,10.39583378870674,10.663789611872147,11.034151255707762,11.106225228310501],\"yaxis\":\"y\",\"type\":\"scattergl\"},{\"hovertemplate\":\"Country=NO\\u003cbr\\u003eyear=%{x}\\u003cbr\\u003eAverage Temperature (\\u00b0C)=%{y}\\u003cextra\\u003e\\u003c\\u002fextra\\u003e\",\"legendgroup\":\"NO\",\"line\":{\"color\":\"#EF553B\",\"dash\":\"solid\"},\"marker\":{\"symbol\":\"circle\"},\"mode\":\"lines\",\"name\":\"NO\",\"showlegend\":true,\"x\":[\"1980\",\"1981\",\"1982\",\"1983\",\"1984\",\"1985\",\"1986\",\"1987\",\"1988\",\"1989\",\"1990\",\"1991\",\"1992\",\"1993\",\"1994\",\"1995\",\"1996\",\"1997\",\"1998\",\"1999\",\"2000\",\"2001\",\"2002\",\"2003\",\"2004\",\"2005\",\"2006\",\"2007\",\"2008\",\"2009\",\"2010\",\"2011\",\"2012\",\"2013\",\"2014\",\"2015\",\"2016\",\"2017\",\"2018\",\"2019\"],\"xaxis\":\"x\",\"y\":[3.287482923497268,2.8799214611872146,3.9360788812785388,4.3989642694063935,4.02193306010929,2.4383196347031966,3.1851552511415524,2.735370205479452,4.302695469034608,5.275621004566211,5.436455136986302,4.431733105022832,4.687469945355191,3.672993607305936,3.666321347031963,3.9428323059360735,2.9564257741347904,4.449081849315069,3.8541518264840184,4.510631849315069,5.249383424408014,3.79871598173516,4.6635578767123285,4.881222260273972,4.773641962659381,5.043713242009132,5.2759135844748855,4.792948858447488,4.976761612021859,4.141920433789954,2.2493894977168947,5.038965753424657,3.6234587887067393,4.16436392694064,5.537614840182648,4.995063242009133,4.801284949908926,4.602873630136987,4.731718378995434,4.700631735159817],\"yaxis\":\"y\",\"type\":\"scattergl\"},{\"hovertemplate\":\"Country=PL\\u003cbr\\u003eyear=%{x}\\u003cbr\\u003eAverage Temperature (\\u00b0C)=%{y}\\u003cextra\\u003e\\u003c\\u002fextra\\u003e\",\"legendgroup\":\"PL\",\"line\":{\"color\":\"#00cc96\",\"dash\":\"solid\"},\"marker\":{\"symbol\":\"circle\"},\"mode\":\"lines\",\"name\":\"PL\",\"showlegend\":true,\"x\":[\"1980\",\"1981\",\"1982\",\"1983\",\"1984\",\"1985\",\"1986\",\"1987\",\"1988\",\"1989\",\"1990\",\"1991\",\"1992\",\"1993\",\"1994\",\"1995\",\"1996\",\"1997\",\"1998\",\"1999\",\"2000\",\"2001\",\"2002\",\"2003\",\"2004\",\"2005\",\"2006\",\"2007\",\"2008\",\"2009\",\"2010\",\"2011\",\"2012\",\"2013\",\"2014\",\"2015\",\"2016\",\"2017\",\"2018\",\"2019\"],\"xaxis\":\"x\",\"y\":[5.939743283242259,7.094175342465753,7.839660844748859,8.768125342465755,7.396110086520947,6.401022488584475,7.188544863013698,6.0636968036529675,7.948234972677596,9.035833675799088,8.735846461187215,7.525563127853882,8.318359972677596,7.483775684931507,8.597680251141552,7.799699086757991,6.093362021857923,7.1928501141552506,7.777657191780822,8.347774429223744,9.029908583788707,7.57164897260274,8.61043105022831,7.947400228310502,7.876202071948997,7.937700456621004,8.286892237442924,9.10197214611872,9.114272996357013,8.233563356164384,6.667920776255707,8.423680365296804,8.215230418943534,7.977190410958904,9.387715867579908,9.515373287671233,8.85135234517304,8.415411529680366,9.59066974885845,9.971943264840183],\"yaxis\":\"y\",\"type\":\"scattergl\"},{\"hovertemplate\":\"Country=PT\\u003cbr\\u003eyear=%{x}\\u003cbr\\u003eAverage Temperature (\\u00b0C)=%{y}\\u003cextra\\u003e\\u003c\\u002fextra\\u003e\",\"legendgroup\":\"PT\",\"line\":{\"color\":\"#ab63fa\",\"dash\":\"solid\"},\"marker\":{\"symbol\":\"circle\"},\"mode\":\"lines\",\"name\":\"PT\",\"showlegend\":true,\"x\":[\"1980\",\"1981\",\"1982\",\"1983\",\"1984\",\"1985\",\"1986\",\"1987\",\"1988\",\"1989\",\"1990\",\"1991\",\"1992\",\"1993\",\"1994\",\"1995\",\"1996\",\"1997\",\"1998\",\"1999\",\"2000\",\"2001\",\"2002\",\"2003\",\"2004\",\"2005\",\"2006\",\"2007\",\"2008\",\"2009\",\"2010\",\"2011\",\"2012\",\"2013\",\"2014\",\"2015\",\"2016\",\"2017\",\"2018\",\"2019\"],\"xaxis\":\"x\",\"y\":[15.095769125683061,15.725073287671233,15.149456506849315,15.180624200913243,14.928814207650273,15.33419212328767,14.953387100456622,15.808434360730594,15.082790642076503,16.359007990867582,15.819286301369864,15.229088470319635,15.046984403460838,14.712984474885845,15.303189383561646,16.489055707762557,15.175087659380692,16.24144577625571,15.575584132420092,15.2145200913242,15.134613729508196,15.095999315068493,15.30286598173516,15.385150684931508,15.200813410746813,15.34180422374429,15.857073744292236,15.128211757990869,15.068848702185791,15.618901598173517,15.338933789954337,15.758247146118721,15.021048497267762,15.103133789954336,15.602482420091325,15.623130479452055,15.464890938069217,15.869672488584476,15.282037328767123,15.441613584474887],\"yaxis\":\"y\",\"type\":\"scattergl\"},{\"hovertemplate\":\"Country=RO\\u003cbr\\u003eyear=%{x}\\u003cbr\\u003eAverage Temperature (\\u00b0C)=%{y}\\u003cextra\\u003e\\u003c\\u002fextra\\u003e\",\"legendgroup\":\"RO\",\"line\":{\"color\":\"#FFA15A\",\"dash\":\"solid\"},\"marker\":{\"symbol\":\"circle\"},\"mode\":\"lines\",\"name\":\"RO\",\"showlegend\":true,\"x\":[\"1980\",\"1981\",\"1982\",\"1983\",\"1984\",\"1985\",\"1986\",\"1987\",\"1988\",\"1989\",\"1990\",\"1991\",\"1992\",\"1993\",\"1994\",\"1995\",\"1996\",\"1997\",\"1998\",\"1999\",\"2000\",\"2001\",\"2002\",\"2003\",\"2004\",\"2005\",\"2006\",\"2007\",\"2008\",\"2009\",\"2010\",\"2011\",\"2012\",\"2013\",\"2014\",\"2015\",\"2016\",\"2017\",\"2018\",\"2019\"],\"xaxis\":\"x\",\"y\":[8.171396174863387,9.20909292237443,9.628712899543379,10.056349086757992,9.024474726775956,8.545461757990868,9.789009817351598,9.027220433789955,9.542690346083788,10.43181392694064,10.995771461187214,9.471295776255708,10.072433173952641,9.29682602739726,11.070294748858448,9.597815867579909,8.81973007741348,8.794808789954336,9.84786095890411,10.637806735159819,11.083863615664844,10.489343150684931,10.770151369863013,9.656018607305937,9.878773224043716,9.476214611872146,9.974824200913243,11.43140787671233,10.92857502276867,10.894222488584475,10.13588607305936,10.075338470319634,10.867708447176685,10.720325342465754,10.884575684931507,11.305735502283106,10.746005578324226,10.743213584474887,11.082984246575341,11.956031164383562],\"yaxis\":\"y\",\"type\":\"scattergl\"},{\"hovertemplate\":\"Country=SE\\u003cbr\\u003eyear=%{x}\\u003cbr\\u003eAverage Temperature (\\u00b0C)=%{y}\\u003cextra\\u003e\\u003c\\u002fextra\\u003e\",\"legendgroup\":\"SE\",\"line\":{\"color\":\"#19d3f3\",\"dash\":\"solid\"},\"marker\":{\"symbol\":\"circle\"},\"mode\":\"lines\",\"name\":\"SE\",\"showlegend\":true,\"x\":[\"1980\",\"1981\",\"1982\",\"1983\",\"1984\",\"1985\",\"1986\",\"1987\",\"1988\",\"1989\",\"1990\",\"1991\",\"1992\",\"1993\",\"1994\",\"1995\",\"1996\",\"1997\",\"1998\",\"1999\",\"2000\",\"2001\",\"2002\",\"2003\",\"2004\",\"2005\",\"2006\",\"2007\",\"2008\",\"2009\",\"2010\",\"2011\",\"2012\",\"2013\",\"2014\",\"2015\",\"2016\",\"2017\",\"2018\",\"2019\"],\"xaxis\":\"x\",\"y\":[4.742329690346084,4.774986301369863,5.57813401826484,6.177728538812786,5.938475295992714,3.6345098173515984,4.85810296803653,3.8314277397260277,5.958937613843351,7.205164269406393,7.107618264840182,6.099762214611872,6.452486680327869,5.262706849315069,5.607647716894977,5.388292237442923,4.243334244080145,5.825095091324201,5.413311187214612,6.4738858447488585,7.184222222222222,5.907424543378995,6.556856735159817,6.359013812785388,6.193784949908926,6.641058447488584,7.059482420091324,6.898557648401826,7.117001252276867,6.115715296803653,4.217319406392694,6.903173401826484,5.6981589253187614,6.298555479452054,7.499617237442922,7.072572260273972,6.704705601092896,6.600619178082192,7.299755251141552,7.1701899543379],\"yaxis\":\"y\",\"type\":\"scattergl\"},{\"hovertemplate\":\"Country=SI\\u003cbr\\u003eyear=%{x}\\u003cbr\\u003eAverage Temperature (\\u00b0C)=%{y}\\u003cextra\\u003e\\u003c\\u002fextra\\u003e\",\"legendgroup\":\"SI\",\"line\":{\"color\":\"#FF6692\",\"dash\":\"solid\"},\"marker\":{\"symbol\":\"circle\"},\"mode\":\"lines\",\"name\":\"SI\",\"showlegend\":true,\"x\":[\"1980\",\"1981\",\"1982\",\"1983\",\"1984\",\"1985\",\"1986\",\"1987\",\"1988\",\"1989\",\"1990\",\"1991\",\"1992\",\"1993\",\"1994\",\"1995\",\"1996\",\"1997\",\"1998\",\"1999\",\"2000\",\"2001\",\"2002\",\"2003\",\"2004\",\"2005\",\"2006\",\"2007\",\"2008\",\"2009\",\"2010\",\"2011\",\"2012\",\"2013\",\"2014\",\"2015\",\"2016\",\"2017\",\"2018\",\"2019\"],\"xaxis\":\"x\",\"y\":[7.50227424863388,8.664290753424659,8.95476484018265,9.229221689497717,8.09878301457195,8.188585730593607,8.245642123287672,8.140164726027397,9.149242600182149,9.371813356164385,9.654886986301369,8.350380821917808,9.613778005464482,8.980291095890411,10.140523401826485,8.872931392694063,7.735710040983607,8.835476027397261,9.378945547945206,9.128540296803653,10.485241461748634,9.514257191780821,9.896517351598174,9.755393378995434,8.762300660291439,8.466061301369862,9.287697716894977,10.214125342465753,9.914157900728599,9.684282762557077,8.55288595890411,9.957651369863013,10.11959471766849,9.364431506849314,10.384997488584474,10.263892808219179,9.849488160291438,10.056681164383562,10.430902168949771,10.782004452054794],\"yaxis\":\"y\",\"type\":\"scattergl\"},{\"hovertemplate\":\"Country=SK\\u003cbr\\u003eyear=%{x}\\u003cbr\\u003eAverage Temperature (\\u00b0C)=%{y}\\u003cextra\\u003e\\u003c\\u002fextra\\u003e\",\"legendgroup\":\"SK\",\"line\":{\"color\":\"#B6E880\",\"dash\":\"solid\"},\"marker\":{\"symbol\":\"circle\"},\"mode\":\"lines\",\"name\":\"SK\",\"showlegend\":true,\"x\":[\"1980\",\"1981\",\"1982\",\"1983\",\"1984\",\"1985\",\"1986\",\"1987\",\"1988\",\"1989\",\"1990\",\"1991\",\"1992\",\"1993\",\"1994\",\"1995\",\"1996\",\"1997\",\"1998\",\"1999\",\"2000\",\"2001\",\"2002\",\"2003\",\"2004\",\"2005\",\"2006\",\"2007\",\"2008\",\"2009\",\"2010\",\"2011\",\"2012\",\"2013\",\"2014\",\"2015\",\"2016\",\"2017\",\"2018\",\"2019\"],\"xaxis\":\"x\",\"y\":[5.928216643897996,7.27906792237443,7.707852283105024,8.350252739726027,7.1591869307832425,6.393774429223744,7.469843835616438,6.780363242009132,7.859570810564663,8.480931392694064,8.485925684931507,7.304934703196348,8.13080885701275,7.752113356164385,8.881527625570776,7.618378424657534,6.2008378870673955,6.947465296803653,7.928772831050229,7.890032420091323,8.97113820582878,7.721082762557077,8.696224315068493,8.130023401826485,7.659501707650272,7.46252808219178,8.03268390410959,9.212729680365298,9.040803392531876,8.729901369863013,7.403705593607306,8.524011301369864,8.710182604735884,8.35901198630137,9.776998744292237,9.472199315068494,8.793995332422586,8.681364611872146,9.709897602739725,9.798267123287673],\"yaxis\":\"y\",\"type\":\"scattergl\"},{\"line\":{\"color\":\"black\",\"width\":4},\"mode\":\"lines\",\"name\":\"Average Temperature of Europe\",\"x\":[\"1980\",\"1981\",\"1982\",\"1983\",\"1984\",\"1985\",\"1986\",\"1987\",\"1988\",\"1989\",\"1990\",\"1991\",\"1992\",\"1993\",\"1994\",\"1995\",\"1996\",\"1997\",\"1998\",\"1999\",\"2000\",\"2001\",\"2002\",\"2003\",\"2004\",\"2005\",\"2006\",\"2007\",\"2008\",\"2009\",\"2010\",\"2011\",\"2012\",\"2013\",\"2014\",\"2015\",\"2016\",\"2017\",\"2018\",\"2019\"],\"y\":[7.896649264897215,8.546639481409,8.940096159491194,9.258347248043053,8.552060483346343,7.856231209230267,8.391160021200259,7.950011068982386,9.143776179905023,9.842558129484674,9.849269010926287,8.845869618395302,9.367977337041376,8.74929593118069,9.609941006197001,9.142097182811478,7.88151254309784,8.985459862198303,9.076808447488586,9.483228787508152,9.945717879911529,9.16871555365297,9.66213866601435,9.406559902968034,9.15302296383034,9.168335151663406,9.604042983529029,10.042932978636658,9.823817171643247,9.510538992172213,8.374695185094586,9.821315508806261,9.386027647671089,9.287669483855188,10.337256498695368,10.176010180202221,9.80250641995186,9.844098683137641,10.38377819227006,10.50316696836269],\"type\":\"scatter\"}],                        {\"template\":{\"data\":{\"barpolar\":[{\"marker\":{\"line\":{\"color\":\"white\",\"width\":0.5},\"pattern\":{\"fillmode\":\"overlay\",\"size\":10,\"solidity\":0.2}},\"type\":\"barpolar\"}],\"bar\":[{\"error_x\":{\"color\":\"#2a3f5f\"},\"error_y\":{\"color\":\"#2a3f5f\"},\"marker\":{\"line\":{\"color\":\"white\",\"width\":0.5},\"pattern\":{\"fillmode\":\"overlay\",\"size\":10,\"solidity\":0.2}},\"type\":\"bar\"}],\"carpet\":[{\"aaxis\":{\"endlinecolor\":\"#2a3f5f\",\"gridcolor\":\"#C8D4E3\",\"linecolor\":\"#C8D4E3\",\"minorgridcolor\":\"#C8D4E3\",\"startlinecolor\":\"#2a3f5f\"},\"baxis\":{\"endlinecolor\":\"#2a3f5f\",\"gridcolor\":\"#C8D4E3\",\"linecolor\":\"#C8D4E3\",\"minorgridcolor\":\"#C8D4E3\",\"startlinecolor\":\"#2a3f5f\"},\"type\":\"carpet\"}],\"choropleth\":[{\"colorbar\":{\"outlinewidth\":0,\"ticks\":\"\"},\"type\":\"choropleth\"}],\"contourcarpet\":[{\"colorbar\":{\"outlinewidth\":0,\"ticks\":\"\"},\"type\":\"contourcarpet\"}],\"contour\":[{\"colorbar\":{\"outlinewidth\":0,\"ticks\":\"\"},\"colorscale\":[[0.0,\"#0d0887\"],[0.1111111111111111,\"#46039f\"],[0.2222222222222222,\"#7201a8\"],[0.3333333333333333,\"#9c179e\"],[0.4444444444444444,\"#bd3786\"],[0.5555555555555556,\"#d8576b\"],[0.6666666666666666,\"#ed7953\"],[0.7777777777777778,\"#fb9f3a\"],[0.8888888888888888,\"#fdca26\"],[1.0,\"#f0f921\"]],\"type\":\"contour\"}],\"heatmapgl\":[{\"colorbar\":{\"outlinewidth\":0,\"ticks\":\"\"},\"colorscale\":[[0.0,\"#0d0887\"],[0.1111111111111111,\"#46039f\"],[0.2222222222222222,\"#7201a8\"],[0.3333333333333333,\"#9c179e\"],[0.4444444444444444,\"#bd3786\"],[0.5555555555555556,\"#d8576b\"],[0.6666666666666666,\"#ed7953\"],[0.7777777777777778,\"#fb9f3a\"],[0.8888888888888888,\"#fdca26\"],[1.0,\"#f0f921\"]],\"type\":\"heatmapgl\"}],\"heatmap\":[{\"colorbar\":{\"outlinewidth\":0,\"ticks\":\"\"},\"colorscale\":[[0.0,\"#0d0887\"],[0.1111111111111111,\"#46039f\"],[0.2222222222222222,\"#7201a8\"],[0.3333333333333333,\"#9c179e\"],[0.4444444444444444,\"#bd3786\"],[0.5555555555555556,\"#d8576b\"],[0.6666666666666666,\"#ed7953\"],[0.7777777777777778,\"#fb9f3a\"],[0.8888888888888888,\"#fdca26\"],[1.0,\"#f0f921\"]],\"type\":\"heatmap\"}],\"histogram2dcontour\":[{\"colorbar\":{\"outlinewidth\":0,\"ticks\":\"\"},\"colorscale\":[[0.0,\"#0d0887\"],[0.1111111111111111,\"#46039f\"],[0.2222222222222222,\"#7201a8\"],[0.3333333333333333,\"#9c179e\"],[0.4444444444444444,\"#bd3786\"],[0.5555555555555556,\"#d8576b\"],[0.6666666666666666,\"#ed7953\"],[0.7777777777777778,\"#fb9f3a\"],[0.8888888888888888,\"#fdca26\"],[1.0,\"#f0f921\"]],\"type\":\"histogram2dcontour\"}],\"histogram2d\":[{\"colorbar\":{\"outlinewidth\":0,\"ticks\":\"\"},\"colorscale\":[[0.0,\"#0d0887\"],[0.1111111111111111,\"#46039f\"],[0.2222222222222222,\"#7201a8\"],[0.3333333333333333,\"#9c179e\"],[0.4444444444444444,\"#bd3786\"],[0.5555555555555556,\"#d8576b\"],[0.6666666666666666,\"#ed7953\"],[0.7777777777777778,\"#fb9f3a\"],[0.8888888888888888,\"#fdca26\"],[1.0,\"#f0f921\"]],\"type\":\"histogram2d\"}],\"histogram\":[{\"marker\":{\"pattern\":{\"fillmode\":\"overlay\",\"size\":10,\"solidity\":0.2}},\"type\":\"histogram\"}],\"mesh3d\":[{\"colorbar\":{\"outlinewidth\":0,\"ticks\":\"\"},\"type\":\"mesh3d\"}],\"parcoords\":[{\"line\":{\"colorbar\":{\"outlinewidth\":0,\"ticks\":\"\"}},\"type\":\"parcoords\"}],\"pie\":[{\"automargin\":true,\"type\":\"pie\"}],\"scatter3d\":[{\"line\":{\"colorbar\":{\"outlinewidth\":0,\"ticks\":\"\"}},\"marker\":{\"colorbar\":{\"outlinewidth\":0,\"ticks\":\"\"}},\"type\":\"scatter3d\"}],\"scattercarpet\":[{\"marker\":{\"colorbar\":{\"outlinewidth\":0,\"ticks\":\"\"}},\"type\":\"scattercarpet\"}],\"scattergeo\":[{\"marker\":{\"colorbar\":{\"outlinewidth\":0,\"ticks\":\"\"}},\"type\":\"scattergeo\"}],\"scattergl\":[{\"marker\":{\"colorbar\":{\"outlinewidth\":0,\"ticks\":\"\"}},\"type\":\"scattergl\"}],\"scattermapbox\":[{\"marker\":{\"colorbar\":{\"outlinewidth\":0,\"ticks\":\"\"}},\"type\":\"scattermapbox\"}],\"scatterpolargl\":[{\"marker\":{\"colorbar\":{\"outlinewidth\":0,\"ticks\":\"\"}},\"type\":\"scatterpolargl\"}],\"scatterpolar\":[{\"marker\":{\"colorbar\":{\"outlinewidth\":0,\"ticks\":\"\"}},\"type\":\"scatterpolar\"}],\"scatter\":[{\"fillpattern\":{\"fillmode\":\"overlay\",\"size\":10,\"solidity\":0.2},\"type\":\"scatter\"}],\"scatterternary\":[{\"marker\":{\"colorbar\":{\"outlinewidth\":0,\"ticks\":\"\"}},\"type\":\"scatterternary\"}],\"surface\":[{\"colorbar\":{\"outlinewidth\":0,\"ticks\":\"\"},\"colorscale\":[[0.0,\"#0d0887\"],[0.1111111111111111,\"#46039f\"],[0.2222222222222222,\"#7201a8\"],[0.3333333333333333,\"#9c179e\"],[0.4444444444444444,\"#bd3786\"],[0.5555555555555556,\"#d8576b\"],[0.6666666666666666,\"#ed7953\"],[0.7777777777777778,\"#fb9f3a\"],[0.8888888888888888,\"#fdca26\"],[1.0,\"#f0f921\"]],\"type\":\"surface\"}],\"table\":[{\"cells\":{\"fill\":{\"color\":\"#EBF0F8\"},\"line\":{\"color\":\"white\"}},\"header\":{\"fill\":{\"color\":\"#C8D4E3\"},\"line\":{\"color\":\"white\"}},\"type\":\"table\"}]},\"layout\":{\"annotationdefaults\":{\"arrowcolor\":\"#2a3f5f\",\"arrowhead\":0,\"arrowwidth\":1},\"autotypenumbers\":\"strict\",\"coloraxis\":{\"colorbar\":{\"outlinewidth\":0,\"ticks\":\"\"}},\"colorscale\":{\"diverging\":[[0,\"#8e0152\"],[0.1,\"#c51b7d\"],[0.2,\"#de77ae\"],[0.3,\"#f1b6da\"],[0.4,\"#fde0ef\"],[0.5,\"#f7f7f7\"],[0.6,\"#e6f5d0\"],[0.7,\"#b8e186\"],[0.8,\"#7fbc41\"],[0.9,\"#4d9221\"],[1,\"#276419\"]],\"sequential\":[[0.0,\"#0d0887\"],[0.1111111111111111,\"#46039f\"],[0.2222222222222222,\"#7201a8\"],[0.3333333333333333,\"#9c179e\"],[0.4444444444444444,\"#bd3786\"],[0.5555555555555556,\"#d8576b\"],[0.6666666666666666,\"#ed7953\"],[0.7777777777777778,\"#fb9f3a\"],[0.8888888888888888,\"#fdca26\"],[1.0,\"#f0f921\"]],\"sequentialminus\":[[0.0,\"#0d0887\"],[0.1111111111111111,\"#46039f\"],[0.2222222222222222,\"#7201a8\"],[0.3333333333333333,\"#9c179e\"],[0.4444444444444444,\"#bd3786\"],[0.5555555555555556,\"#d8576b\"],[0.6666666666666666,\"#ed7953\"],[0.7777777777777778,\"#fb9f3a\"],[0.8888888888888888,\"#fdca26\"],[1.0,\"#f0f921\"]]},\"colorway\":[\"#636efa\",\"#EF553B\",\"#00cc96\",\"#ab63fa\",\"#FFA15A\",\"#19d3f3\",\"#FF6692\",\"#B6E880\",\"#FF97FF\",\"#FECB52\"],\"font\":{\"color\":\"#2a3f5f\"},\"geo\":{\"bgcolor\":\"white\",\"lakecolor\":\"white\",\"landcolor\":\"white\",\"showlakes\":true,\"showland\":true,\"subunitcolor\":\"#C8D4E3\"},\"hoverlabel\":{\"align\":\"left\"},\"hovermode\":\"closest\",\"mapbox\":{\"style\":\"light\"},\"paper_bgcolor\":\"white\",\"plot_bgcolor\":\"white\",\"polar\":{\"angularaxis\":{\"gridcolor\":\"#EBF0F8\",\"linecolor\":\"#EBF0F8\",\"ticks\":\"\"},\"bgcolor\":\"white\",\"radialaxis\":{\"gridcolor\":\"#EBF0F8\",\"linecolor\":\"#EBF0F8\",\"ticks\":\"\"}},\"scene\":{\"xaxis\":{\"backgroundcolor\":\"white\",\"gridcolor\":\"#DFE8F3\",\"gridwidth\":2,\"linecolor\":\"#EBF0F8\",\"showbackground\":true,\"ticks\":\"\",\"zerolinecolor\":\"#EBF0F8\"},\"yaxis\":{\"backgroundcolor\":\"white\",\"gridcolor\":\"#DFE8F3\",\"gridwidth\":2,\"linecolor\":\"#EBF0F8\",\"showbackground\":true,\"ticks\":\"\",\"zerolinecolor\":\"#EBF0F8\"},\"zaxis\":{\"backgroundcolor\":\"white\",\"gridcolor\":\"#DFE8F3\",\"gridwidth\":2,\"linecolor\":\"#EBF0F8\",\"showbackground\":true,\"ticks\":\"\",\"zerolinecolor\":\"#EBF0F8\"}},\"shapedefaults\":{\"line\":{\"color\":\"#2a3f5f\"}},\"ternary\":{\"aaxis\":{\"gridcolor\":\"#DFE8F3\",\"linecolor\":\"#A2B1C6\",\"ticks\":\"\"},\"baxis\":{\"gridcolor\":\"#DFE8F3\",\"linecolor\":\"#A2B1C6\",\"ticks\":\"\"},\"bgcolor\":\"white\",\"caxis\":{\"gridcolor\":\"#DFE8F3\",\"linecolor\":\"#A2B1C6\",\"ticks\":\"\"}},\"title\":{\"x\":0.05},\"xaxis\":{\"automargin\":true,\"gridcolor\":\"#EBF0F8\",\"linecolor\":\"#EBF0F8\",\"ticks\":\"\",\"title\":{\"standoff\":15},\"zerolinecolor\":\"#EBF0F8\",\"zerolinewidth\":2},\"yaxis\":{\"automargin\":true,\"gridcolor\":\"#EBF0F8\",\"linecolor\":\"#EBF0F8\",\"ticks\":\"\",\"title\":{\"standoff\":15},\"zerolinecolor\":\"#EBF0F8\",\"zerolinewidth\":2}}},\"xaxis\":{\"anchor\":\"y\",\"domain\":[0.0,1.0],\"title\":{\"text\":\"year\"},\"dtick\":5},\"yaxis\":{\"anchor\":\"x\",\"domain\":[0.0,1.0],\"title\":{\"text\":\"Average Temperature (\\u00b0C)\"}},\"legend\":{\"title\":{\"text\":\"Country\"},\"tracegroupgap\":0},\"title\":{\"text\":\"Average Temperature in European Country from 1980 to 2019\"}},                        {\"responsive\": true}                    ).then(function(){\n",
       "                            \n",
       "var gd = document.getElementById('e41c066b-3334-4d09-a97c-f8caa8238193');\n",
       "var x = new MutationObserver(function (mutations, observer) {{\n",
       "        var display = window.getComputedStyle(gd).display;\n",
       "        if (!display || display === 'none') {{\n",
       "            console.log([gd, 'removed!']);\n",
       "            Plotly.purge(gd);\n",
       "            observer.disconnect();\n",
       "        }}\n",
       "}});\n",
       "\n",
       "// Listen for the removal of the full notebook cells\n",
       "var notebookContainer = gd.closest('#notebook-container');\n",
       "if (notebookContainer) {{\n",
       "    x.observe(notebookContainer, {childList: true});\n",
       "}}\n",
       "\n",
       "// Listen for the clearing of the current output cell\n",
       "var outputEl = gd.closest('.output');\n",
       "if (outputEl) {{\n",
       "    x.observe(outputEl, {childList: true});\n",
       "}}\n",
       "\n",
       "                        })                };                });            </script>        </div>"
      ]
     },
     "metadata": {},
     "output_type": "display_data"
    }
   ],
   "source": [
    "import plotly.graph_objects as go\n",
    "\n",
    "# Calculate the average temperature of Europe for each year\n",
    "data_year['Average Temperature'] = data_year.mean(axis=1)\n",
    "\n",
    "#Create the interactive fig\n",
    "fig = px.line(\n",
    "    data_year,\n",
    "    x='year',\n",
    "    y=[\n",
    "        'AT', 'BE', 'BG', 'CH',\n",
    "        'CZ', 'DE', 'DK', 'EE',\n",
    "        'ES', 'FI', 'FR', 'GB',\n",
    "        'GR', 'HR', 'HU', 'IE',\n",
    "        'IT', 'LT', 'LU', 'LV',\n",
    "        'NL', 'NO', 'PL', 'PT',\n",
    "        'RO', 'SE', 'SI', 'SK'\n",
    "    ],\n",
    "    labels={\n",
    "        'value': 'Average Temperature (°C)',\n",
    "        'variable': 'Country'\n",
    "    },\n",
    "    title='Average Temperature in European Country from 1980 to 2019',\n",
    "    template='plotly_white')\n",
    "\n",
    "# Create a separate trace for the average temperature of Europe\n",
    "trace_europe = go.Scatter(\n",
    "    x=data_year['year'],\n",
    "    y=data_year['Average Temperature'],\n",
    "    mode='lines',\n",
    "    name='Average Temperature of Europe',\n",
    "    line=dict(width=4, color='black')\n",
    ")\n",
    "\n",
    "# Add the Europe trace to the figure\n",
    "fig.add_trace(trace_europe)\n",
    "\n",
    "fig.update_xaxes(dtick=5)  # Set the x-axis tick interval to 10\n",
    "display(fig)"
   ]
  },
  {
   "cell_type": "markdown",
   "id": "1199e3d3",
   "metadata": {},
   "source": [
    "\n",
    "\n",
    "\n",
    "We also provide the overall evolution of annual temperature in Europe:\n",
    "\n",
    "<details>\n",
    "<summary><b>Click to toggle code</b></summary>\n",
    "\n",
    "```python\n",
    "# Create the line plot \n",
    "fig = px.line(\n",
    "    data_year,\n",
    "    x='year',\n",
    "    y='Average Temperature',\n",
    "    labels={\n",
    "        'Average Temperature': 'Average Temperature (°C)',\n",
    "        'year': 'Year'\n",
    "    },\n",
    "    title='Average Temperature in Europe from 1980 to 2019',\n",
    "    template='plotly_white'\n",
    ")\n",
    "\n",
    "fig.update_xaxes(dtick=5)  # Set the x-axis tick interval to 1\n",
    "fig.show()\n",
    "```"
   ]
  },
  {
   "cell_type": "code",
   "execution_count": 59,
   "id": "76c13674",
   "metadata": {
    "ExecuteTime": {
     "end_time": "2023-07-23T15:44:05.666027Z",
     "start_time": "2023-07-23T15:44:05.621236Z"
    },
    "hide_input": true,
    "scrolled": true
   },
   "outputs": [
    {
     "data": {
      "application/vnd.plotly.v1+json": {
       "config": {
        "plotlyServerURL": "https://plot.ly"
       },
       "data": [
        {
         "hovertemplate": "Year=%{x}<br>Average Temperature (°C)=%{y}<extra></extra>",
         "legendgroup": "",
         "line": {
          "color": "#636efa",
          "dash": "solid"
         },
         "marker": {
          "symbol": "circle"
         },
         "mode": "lines",
         "name": "",
         "orientation": "v",
         "showlegend": false,
         "type": "scatter",
         "x": [
          "1980",
          "1981",
          "1982",
          "1983",
          "1984",
          "1985",
          "1986",
          "1987",
          "1988",
          "1989",
          "1990",
          "1991",
          "1992",
          "1993",
          "1994",
          "1995",
          "1996",
          "1997",
          "1998",
          "1999",
          "2000",
          "2001",
          "2002",
          "2003",
          "2004",
          "2005",
          "2006",
          "2007",
          "2008",
          "2009",
          "2010",
          "2011",
          "2012",
          "2013",
          "2014",
          "2015",
          "2016",
          "2017",
          "2018",
          "2019"
         ],
         "xaxis": "x",
         "y": [
          7.896649264897215,
          8.546639481409,
          8.940096159491194,
          9.258347248043053,
          8.552060483346343,
          7.856231209230267,
          8.391160021200259,
          7.950011068982386,
          9.143776179905023,
          9.842558129484674,
          9.849269010926287,
          8.845869618395302,
          9.367977337041376,
          8.74929593118069,
          9.609941006197001,
          9.142097182811478,
          7.88151254309784,
          8.985459862198303,
          9.076808447488586,
          9.483228787508152,
          9.945717879911529,
          9.16871555365297,
          9.66213866601435,
          9.406559902968034,
          9.15302296383034,
          9.168335151663406,
          9.604042983529029,
          10.042932978636658,
          9.823817171643247,
          9.510538992172213,
          8.374695185094586,
          9.821315508806261,
          9.386027647671089,
          9.287669483855188,
          10.337256498695368,
          10.176010180202221,
          9.80250641995186,
          9.844098683137641,
          10.38377819227006,
          10.50316696836269
         ],
         "yaxis": "y"
        }
       ],
       "layout": {
        "legend": {
         "tracegroupgap": 0
        },
        "template": {
         "data": {
          "bar": [
           {
            "error_x": {
             "color": "#2a3f5f"
            },
            "error_y": {
             "color": "#2a3f5f"
            },
            "marker": {
             "line": {
              "color": "white",
              "width": 0.5
             },
             "pattern": {
              "fillmode": "overlay",
              "size": 10,
              "solidity": 0.2
             }
            },
            "type": "bar"
           }
          ],
          "barpolar": [
           {
            "marker": {
             "line": {
              "color": "white",
              "width": 0.5
             },
             "pattern": {
              "fillmode": "overlay",
              "size": 10,
              "solidity": 0.2
             }
            },
            "type": "barpolar"
           }
          ],
          "carpet": [
           {
            "aaxis": {
             "endlinecolor": "#2a3f5f",
             "gridcolor": "#C8D4E3",
             "linecolor": "#C8D4E3",
             "minorgridcolor": "#C8D4E3",
             "startlinecolor": "#2a3f5f"
            },
            "baxis": {
             "endlinecolor": "#2a3f5f",
             "gridcolor": "#C8D4E3",
             "linecolor": "#C8D4E3",
             "minorgridcolor": "#C8D4E3",
             "startlinecolor": "#2a3f5f"
            },
            "type": "carpet"
           }
          ],
          "choropleth": [
           {
            "colorbar": {
             "outlinewidth": 0,
             "ticks": ""
            },
            "type": "choropleth"
           }
          ],
          "contour": [
           {
            "colorbar": {
             "outlinewidth": 0,
             "ticks": ""
            },
            "colorscale": [
             [
              0,
              "#0d0887"
             ],
             [
              0.1111111111111111,
              "#46039f"
             ],
             [
              0.2222222222222222,
              "#7201a8"
             ],
             [
              0.3333333333333333,
              "#9c179e"
             ],
             [
              0.4444444444444444,
              "#bd3786"
             ],
             [
              0.5555555555555556,
              "#d8576b"
             ],
             [
              0.6666666666666666,
              "#ed7953"
             ],
             [
              0.7777777777777778,
              "#fb9f3a"
             ],
             [
              0.8888888888888888,
              "#fdca26"
             ],
             [
              1,
              "#f0f921"
             ]
            ],
            "type": "contour"
           }
          ],
          "contourcarpet": [
           {
            "colorbar": {
             "outlinewidth": 0,
             "ticks": ""
            },
            "type": "contourcarpet"
           }
          ],
          "heatmap": [
           {
            "colorbar": {
             "outlinewidth": 0,
             "ticks": ""
            },
            "colorscale": [
             [
              0,
              "#0d0887"
             ],
             [
              0.1111111111111111,
              "#46039f"
             ],
             [
              0.2222222222222222,
              "#7201a8"
             ],
             [
              0.3333333333333333,
              "#9c179e"
             ],
             [
              0.4444444444444444,
              "#bd3786"
             ],
             [
              0.5555555555555556,
              "#d8576b"
             ],
             [
              0.6666666666666666,
              "#ed7953"
             ],
             [
              0.7777777777777778,
              "#fb9f3a"
             ],
             [
              0.8888888888888888,
              "#fdca26"
             ],
             [
              1,
              "#f0f921"
             ]
            ],
            "type": "heatmap"
           }
          ],
          "heatmapgl": [
           {
            "colorbar": {
             "outlinewidth": 0,
             "ticks": ""
            },
            "colorscale": [
             [
              0,
              "#0d0887"
             ],
             [
              0.1111111111111111,
              "#46039f"
             ],
             [
              0.2222222222222222,
              "#7201a8"
             ],
             [
              0.3333333333333333,
              "#9c179e"
             ],
             [
              0.4444444444444444,
              "#bd3786"
             ],
             [
              0.5555555555555556,
              "#d8576b"
             ],
             [
              0.6666666666666666,
              "#ed7953"
             ],
             [
              0.7777777777777778,
              "#fb9f3a"
             ],
             [
              0.8888888888888888,
              "#fdca26"
             ],
             [
              1,
              "#f0f921"
             ]
            ],
            "type": "heatmapgl"
           }
          ],
          "histogram": [
           {
            "marker": {
             "pattern": {
              "fillmode": "overlay",
              "size": 10,
              "solidity": 0.2
             }
            },
            "type": "histogram"
           }
          ],
          "histogram2d": [
           {
            "colorbar": {
             "outlinewidth": 0,
             "ticks": ""
            },
            "colorscale": [
             [
              0,
              "#0d0887"
             ],
             [
              0.1111111111111111,
              "#46039f"
             ],
             [
              0.2222222222222222,
              "#7201a8"
             ],
             [
              0.3333333333333333,
              "#9c179e"
             ],
             [
              0.4444444444444444,
              "#bd3786"
             ],
             [
              0.5555555555555556,
              "#d8576b"
             ],
             [
              0.6666666666666666,
              "#ed7953"
             ],
             [
              0.7777777777777778,
              "#fb9f3a"
             ],
             [
              0.8888888888888888,
              "#fdca26"
             ],
             [
              1,
              "#f0f921"
             ]
            ],
            "type": "histogram2d"
           }
          ],
          "histogram2dcontour": [
           {
            "colorbar": {
             "outlinewidth": 0,
             "ticks": ""
            },
            "colorscale": [
             [
              0,
              "#0d0887"
             ],
             [
              0.1111111111111111,
              "#46039f"
             ],
             [
              0.2222222222222222,
              "#7201a8"
             ],
             [
              0.3333333333333333,
              "#9c179e"
             ],
             [
              0.4444444444444444,
              "#bd3786"
             ],
             [
              0.5555555555555556,
              "#d8576b"
             ],
             [
              0.6666666666666666,
              "#ed7953"
             ],
             [
              0.7777777777777778,
              "#fb9f3a"
             ],
             [
              0.8888888888888888,
              "#fdca26"
             ],
             [
              1,
              "#f0f921"
             ]
            ],
            "type": "histogram2dcontour"
           }
          ],
          "mesh3d": [
           {
            "colorbar": {
             "outlinewidth": 0,
             "ticks": ""
            },
            "type": "mesh3d"
           }
          ],
          "parcoords": [
           {
            "line": {
             "colorbar": {
              "outlinewidth": 0,
              "ticks": ""
             }
            },
            "type": "parcoords"
           }
          ],
          "pie": [
           {
            "automargin": true,
            "type": "pie"
           }
          ],
          "scatter": [
           {
            "fillpattern": {
             "fillmode": "overlay",
             "size": 10,
             "solidity": 0.2
            },
            "type": "scatter"
           }
          ],
          "scatter3d": [
           {
            "line": {
             "colorbar": {
              "outlinewidth": 0,
              "ticks": ""
             }
            },
            "marker": {
             "colorbar": {
              "outlinewidth": 0,
              "ticks": ""
             }
            },
            "type": "scatter3d"
           }
          ],
          "scattercarpet": [
           {
            "marker": {
             "colorbar": {
              "outlinewidth": 0,
              "ticks": ""
             }
            },
            "type": "scattercarpet"
           }
          ],
          "scattergeo": [
           {
            "marker": {
             "colorbar": {
              "outlinewidth": 0,
              "ticks": ""
             }
            },
            "type": "scattergeo"
           }
          ],
          "scattergl": [
           {
            "marker": {
             "colorbar": {
              "outlinewidth": 0,
              "ticks": ""
             }
            },
            "type": "scattergl"
           }
          ],
          "scattermapbox": [
           {
            "marker": {
             "colorbar": {
              "outlinewidth": 0,
              "ticks": ""
             }
            },
            "type": "scattermapbox"
           }
          ],
          "scatterpolar": [
           {
            "marker": {
             "colorbar": {
              "outlinewidth": 0,
              "ticks": ""
             }
            },
            "type": "scatterpolar"
           }
          ],
          "scatterpolargl": [
           {
            "marker": {
             "colorbar": {
              "outlinewidth": 0,
              "ticks": ""
             }
            },
            "type": "scatterpolargl"
           }
          ],
          "scatterternary": [
           {
            "marker": {
             "colorbar": {
              "outlinewidth": 0,
              "ticks": ""
             }
            },
            "type": "scatterternary"
           }
          ],
          "surface": [
           {
            "colorbar": {
             "outlinewidth": 0,
             "ticks": ""
            },
            "colorscale": [
             [
              0,
              "#0d0887"
             ],
             [
              0.1111111111111111,
              "#46039f"
             ],
             [
              0.2222222222222222,
              "#7201a8"
             ],
             [
              0.3333333333333333,
              "#9c179e"
             ],
             [
              0.4444444444444444,
              "#bd3786"
             ],
             [
              0.5555555555555556,
              "#d8576b"
             ],
             [
              0.6666666666666666,
              "#ed7953"
             ],
             [
              0.7777777777777778,
              "#fb9f3a"
             ],
             [
              0.8888888888888888,
              "#fdca26"
             ],
             [
              1,
              "#f0f921"
             ]
            ],
            "type": "surface"
           }
          ],
          "table": [
           {
            "cells": {
             "fill": {
              "color": "#EBF0F8"
             },
             "line": {
              "color": "white"
             }
            },
            "header": {
             "fill": {
              "color": "#C8D4E3"
             },
             "line": {
              "color": "white"
             }
            },
            "type": "table"
           }
          ]
         },
         "layout": {
          "annotationdefaults": {
           "arrowcolor": "#2a3f5f",
           "arrowhead": 0,
           "arrowwidth": 1
          },
          "autotypenumbers": "strict",
          "coloraxis": {
           "colorbar": {
            "outlinewidth": 0,
            "ticks": ""
           }
          },
          "colorscale": {
           "diverging": [
            [
             0,
             "#8e0152"
            ],
            [
             0.1,
             "#c51b7d"
            ],
            [
             0.2,
             "#de77ae"
            ],
            [
             0.3,
             "#f1b6da"
            ],
            [
             0.4,
             "#fde0ef"
            ],
            [
             0.5,
             "#f7f7f7"
            ],
            [
             0.6,
             "#e6f5d0"
            ],
            [
             0.7,
             "#b8e186"
            ],
            [
             0.8,
             "#7fbc41"
            ],
            [
             0.9,
             "#4d9221"
            ],
            [
             1,
             "#276419"
            ]
           ],
           "sequential": [
            [
             0,
             "#0d0887"
            ],
            [
             0.1111111111111111,
             "#46039f"
            ],
            [
             0.2222222222222222,
             "#7201a8"
            ],
            [
             0.3333333333333333,
             "#9c179e"
            ],
            [
             0.4444444444444444,
             "#bd3786"
            ],
            [
             0.5555555555555556,
             "#d8576b"
            ],
            [
             0.6666666666666666,
             "#ed7953"
            ],
            [
             0.7777777777777778,
             "#fb9f3a"
            ],
            [
             0.8888888888888888,
             "#fdca26"
            ],
            [
             1,
             "#f0f921"
            ]
           ],
           "sequentialminus": [
            [
             0,
             "#0d0887"
            ],
            [
             0.1111111111111111,
             "#46039f"
            ],
            [
             0.2222222222222222,
             "#7201a8"
            ],
            [
             0.3333333333333333,
             "#9c179e"
            ],
            [
             0.4444444444444444,
             "#bd3786"
            ],
            [
             0.5555555555555556,
             "#d8576b"
            ],
            [
             0.6666666666666666,
             "#ed7953"
            ],
            [
             0.7777777777777778,
             "#fb9f3a"
            ],
            [
             0.8888888888888888,
             "#fdca26"
            ],
            [
             1,
             "#f0f921"
            ]
           ]
          },
          "colorway": [
           "#636efa",
           "#EF553B",
           "#00cc96",
           "#ab63fa",
           "#FFA15A",
           "#19d3f3",
           "#FF6692",
           "#B6E880",
           "#FF97FF",
           "#FECB52"
          ],
          "font": {
           "color": "#2a3f5f"
          },
          "geo": {
           "bgcolor": "white",
           "lakecolor": "white",
           "landcolor": "white",
           "showlakes": true,
           "showland": true,
           "subunitcolor": "#C8D4E3"
          },
          "hoverlabel": {
           "align": "left"
          },
          "hovermode": "closest",
          "mapbox": {
           "style": "light"
          },
          "paper_bgcolor": "white",
          "plot_bgcolor": "white",
          "polar": {
           "angularaxis": {
            "gridcolor": "#EBF0F8",
            "linecolor": "#EBF0F8",
            "ticks": ""
           },
           "bgcolor": "white",
           "radialaxis": {
            "gridcolor": "#EBF0F8",
            "linecolor": "#EBF0F8",
            "ticks": ""
           }
          },
          "scene": {
           "xaxis": {
            "backgroundcolor": "white",
            "gridcolor": "#DFE8F3",
            "gridwidth": 2,
            "linecolor": "#EBF0F8",
            "showbackground": true,
            "ticks": "",
            "zerolinecolor": "#EBF0F8"
           },
           "yaxis": {
            "backgroundcolor": "white",
            "gridcolor": "#DFE8F3",
            "gridwidth": 2,
            "linecolor": "#EBF0F8",
            "showbackground": true,
            "ticks": "",
            "zerolinecolor": "#EBF0F8"
           },
           "zaxis": {
            "backgroundcolor": "white",
            "gridcolor": "#DFE8F3",
            "gridwidth": 2,
            "linecolor": "#EBF0F8",
            "showbackground": true,
            "ticks": "",
            "zerolinecolor": "#EBF0F8"
           }
          },
          "shapedefaults": {
           "line": {
            "color": "#2a3f5f"
           }
          },
          "ternary": {
           "aaxis": {
            "gridcolor": "#DFE8F3",
            "linecolor": "#A2B1C6",
            "ticks": ""
           },
           "baxis": {
            "gridcolor": "#DFE8F3",
            "linecolor": "#A2B1C6",
            "ticks": ""
           },
           "bgcolor": "white",
           "caxis": {
            "gridcolor": "#DFE8F3",
            "linecolor": "#A2B1C6",
            "ticks": ""
           }
          },
          "title": {
           "x": 0.05
          },
          "xaxis": {
           "automargin": true,
           "gridcolor": "#EBF0F8",
           "linecolor": "#EBF0F8",
           "ticks": "",
           "title": {
            "standoff": 15
           },
           "zerolinecolor": "#EBF0F8",
           "zerolinewidth": 2
          },
          "yaxis": {
           "automargin": true,
           "gridcolor": "#EBF0F8",
           "linecolor": "#EBF0F8",
           "ticks": "",
           "title": {
            "standoff": 15
           },
           "zerolinecolor": "#EBF0F8",
           "zerolinewidth": 2
          }
         }
        },
        "title": {
         "text": "Average Temperature in Europe from 1980 to 2019"
        },
        "xaxis": {
         "anchor": "y",
         "domain": [
          0,
          1
         ],
         "dtick": 5,
         "title": {
          "text": "Year"
         }
        },
        "yaxis": {
         "anchor": "x",
         "domain": [
          0,
          1
         ],
         "title": {
          "text": "Average Temperature (°C)"
         }
        }
       }
      },
      "text/html": [
       "<div>                            <div id=\"879dbb65-4b88-43ad-8910-9b7d868fac0f\" class=\"plotly-graph-div\" style=\"height:525px; width:100%;\"></div>            <script type=\"text/javascript\">                require([\"plotly\"], function(Plotly) {                    window.PLOTLYENV=window.PLOTLYENV || {};                                    if (document.getElementById(\"879dbb65-4b88-43ad-8910-9b7d868fac0f\")) {                    Plotly.newPlot(                        \"879dbb65-4b88-43ad-8910-9b7d868fac0f\",                        [{\"hovertemplate\":\"Year=%{x}\\u003cbr\\u003eAverage Temperature (\\u00b0C)=%{y}\\u003cextra\\u003e\\u003c\\u002fextra\\u003e\",\"legendgroup\":\"\",\"line\":{\"color\":\"#636efa\",\"dash\":\"solid\"},\"marker\":{\"symbol\":\"circle\"},\"mode\":\"lines\",\"name\":\"\",\"orientation\":\"v\",\"showlegend\":false,\"x\":[\"1980\",\"1981\",\"1982\",\"1983\",\"1984\",\"1985\",\"1986\",\"1987\",\"1988\",\"1989\",\"1990\",\"1991\",\"1992\",\"1993\",\"1994\",\"1995\",\"1996\",\"1997\",\"1998\",\"1999\",\"2000\",\"2001\",\"2002\",\"2003\",\"2004\",\"2005\",\"2006\",\"2007\",\"2008\",\"2009\",\"2010\",\"2011\",\"2012\",\"2013\",\"2014\",\"2015\",\"2016\",\"2017\",\"2018\",\"2019\"],\"xaxis\":\"x\",\"y\":[7.896649264897215,8.546639481409,8.940096159491194,9.258347248043053,8.552060483346343,7.856231209230267,8.391160021200259,7.950011068982386,9.143776179905023,9.842558129484674,9.849269010926287,8.845869618395302,9.367977337041376,8.74929593118069,9.609941006197001,9.142097182811478,7.88151254309784,8.985459862198303,9.076808447488586,9.483228787508152,9.945717879911529,9.16871555365297,9.66213866601435,9.406559902968034,9.15302296383034,9.168335151663406,9.604042983529029,10.042932978636658,9.823817171643247,9.510538992172213,8.374695185094586,9.821315508806261,9.386027647671089,9.287669483855188,10.337256498695368,10.176010180202221,9.80250641995186,9.844098683137641,10.38377819227006,10.50316696836269],\"yaxis\":\"y\",\"type\":\"scatter\"}],                        {\"template\":{\"data\":{\"barpolar\":[{\"marker\":{\"line\":{\"color\":\"white\",\"width\":0.5},\"pattern\":{\"fillmode\":\"overlay\",\"size\":10,\"solidity\":0.2}},\"type\":\"barpolar\"}],\"bar\":[{\"error_x\":{\"color\":\"#2a3f5f\"},\"error_y\":{\"color\":\"#2a3f5f\"},\"marker\":{\"line\":{\"color\":\"white\",\"width\":0.5},\"pattern\":{\"fillmode\":\"overlay\",\"size\":10,\"solidity\":0.2}},\"type\":\"bar\"}],\"carpet\":[{\"aaxis\":{\"endlinecolor\":\"#2a3f5f\",\"gridcolor\":\"#C8D4E3\",\"linecolor\":\"#C8D4E3\",\"minorgridcolor\":\"#C8D4E3\",\"startlinecolor\":\"#2a3f5f\"},\"baxis\":{\"endlinecolor\":\"#2a3f5f\",\"gridcolor\":\"#C8D4E3\",\"linecolor\":\"#C8D4E3\",\"minorgridcolor\":\"#C8D4E3\",\"startlinecolor\":\"#2a3f5f\"},\"type\":\"carpet\"}],\"choropleth\":[{\"colorbar\":{\"outlinewidth\":0,\"ticks\":\"\"},\"type\":\"choropleth\"}],\"contourcarpet\":[{\"colorbar\":{\"outlinewidth\":0,\"ticks\":\"\"},\"type\":\"contourcarpet\"}],\"contour\":[{\"colorbar\":{\"outlinewidth\":0,\"ticks\":\"\"},\"colorscale\":[[0.0,\"#0d0887\"],[0.1111111111111111,\"#46039f\"],[0.2222222222222222,\"#7201a8\"],[0.3333333333333333,\"#9c179e\"],[0.4444444444444444,\"#bd3786\"],[0.5555555555555556,\"#d8576b\"],[0.6666666666666666,\"#ed7953\"],[0.7777777777777778,\"#fb9f3a\"],[0.8888888888888888,\"#fdca26\"],[1.0,\"#f0f921\"]],\"type\":\"contour\"}],\"heatmapgl\":[{\"colorbar\":{\"outlinewidth\":0,\"ticks\":\"\"},\"colorscale\":[[0.0,\"#0d0887\"],[0.1111111111111111,\"#46039f\"],[0.2222222222222222,\"#7201a8\"],[0.3333333333333333,\"#9c179e\"],[0.4444444444444444,\"#bd3786\"],[0.5555555555555556,\"#d8576b\"],[0.6666666666666666,\"#ed7953\"],[0.7777777777777778,\"#fb9f3a\"],[0.8888888888888888,\"#fdca26\"],[1.0,\"#f0f921\"]],\"type\":\"heatmapgl\"}],\"heatmap\":[{\"colorbar\":{\"outlinewidth\":0,\"ticks\":\"\"},\"colorscale\":[[0.0,\"#0d0887\"],[0.1111111111111111,\"#46039f\"],[0.2222222222222222,\"#7201a8\"],[0.3333333333333333,\"#9c179e\"],[0.4444444444444444,\"#bd3786\"],[0.5555555555555556,\"#d8576b\"],[0.6666666666666666,\"#ed7953\"],[0.7777777777777778,\"#fb9f3a\"],[0.8888888888888888,\"#fdca26\"],[1.0,\"#f0f921\"]],\"type\":\"heatmap\"}],\"histogram2dcontour\":[{\"colorbar\":{\"outlinewidth\":0,\"ticks\":\"\"},\"colorscale\":[[0.0,\"#0d0887\"],[0.1111111111111111,\"#46039f\"],[0.2222222222222222,\"#7201a8\"],[0.3333333333333333,\"#9c179e\"],[0.4444444444444444,\"#bd3786\"],[0.5555555555555556,\"#d8576b\"],[0.6666666666666666,\"#ed7953\"],[0.7777777777777778,\"#fb9f3a\"],[0.8888888888888888,\"#fdca26\"],[1.0,\"#f0f921\"]],\"type\":\"histogram2dcontour\"}],\"histogram2d\":[{\"colorbar\":{\"outlinewidth\":0,\"ticks\":\"\"},\"colorscale\":[[0.0,\"#0d0887\"],[0.1111111111111111,\"#46039f\"],[0.2222222222222222,\"#7201a8\"],[0.3333333333333333,\"#9c179e\"],[0.4444444444444444,\"#bd3786\"],[0.5555555555555556,\"#d8576b\"],[0.6666666666666666,\"#ed7953\"],[0.7777777777777778,\"#fb9f3a\"],[0.8888888888888888,\"#fdca26\"],[1.0,\"#f0f921\"]],\"type\":\"histogram2d\"}],\"histogram\":[{\"marker\":{\"pattern\":{\"fillmode\":\"overlay\",\"size\":10,\"solidity\":0.2}},\"type\":\"histogram\"}],\"mesh3d\":[{\"colorbar\":{\"outlinewidth\":0,\"ticks\":\"\"},\"type\":\"mesh3d\"}],\"parcoords\":[{\"line\":{\"colorbar\":{\"outlinewidth\":0,\"ticks\":\"\"}},\"type\":\"parcoords\"}],\"pie\":[{\"automargin\":true,\"type\":\"pie\"}],\"scatter3d\":[{\"line\":{\"colorbar\":{\"outlinewidth\":0,\"ticks\":\"\"}},\"marker\":{\"colorbar\":{\"outlinewidth\":0,\"ticks\":\"\"}},\"type\":\"scatter3d\"}],\"scattercarpet\":[{\"marker\":{\"colorbar\":{\"outlinewidth\":0,\"ticks\":\"\"}},\"type\":\"scattercarpet\"}],\"scattergeo\":[{\"marker\":{\"colorbar\":{\"outlinewidth\":0,\"ticks\":\"\"}},\"type\":\"scattergeo\"}],\"scattergl\":[{\"marker\":{\"colorbar\":{\"outlinewidth\":0,\"ticks\":\"\"}},\"type\":\"scattergl\"}],\"scattermapbox\":[{\"marker\":{\"colorbar\":{\"outlinewidth\":0,\"ticks\":\"\"}},\"type\":\"scattermapbox\"}],\"scatterpolargl\":[{\"marker\":{\"colorbar\":{\"outlinewidth\":0,\"ticks\":\"\"}},\"type\":\"scatterpolargl\"}],\"scatterpolar\":[{\"marker\":{\"colorbar\":{\"outlinewidth\":0,\"ticks\":\"\"}},\"type\":\"scatterpolar\"}],\"scatter\":[{\"fillpattern\":{\"fillmode\":\"overlay\",\"size\":10,\"solidity\":0.2},\"type\":\"scatter\"}],\"scatterternary\":[{\"marker\":{\"colorbar\":{\"outlinewidth\":0,\"ticks\":\"\"}},\"type\":\"scatterternary\"}],\"surface\":[{\"colorbar\":{\"outlinewidth\":0,\"ticks\":\"\"},\"colorscale\":[[0.0,\"#0d0887\"],[0.1111111111111111,\"#46039f\"],[0.2222222222222222,\"#7201a8\"],[0.3333333333333333,\"#9c179e\"],[0.4444444444444444,\"#bd3786\"],[0.5555555555555556,\"#d8576b\"],[0.6666666666666666,\"#ed7953\"],[0.7777777777777778,\"#fb9f3a\"],[0.8888888888888888,\"#fdca26\"],[1.0,\"#f0f921\"]],\"type\":\"surface\"}],\"table\":[{\"cells\":{\"fill\":{\"color\":\"#EBF0F8\"},\"line\":{\"color\":\"white\"}},\"header\":{\"fill\":{\"color\":\"#C8D4E3\"},\"line\":{\"color\":\"white\"}},\"type\":\"table\"}]},\"layout\":{\"annotationdefaults\":{\"arrowcolor\":\"#2a3f5f\",\"arrowhead\":0,\"arrowwidth\":1},\"autotypenumbers\":\"strict\",\"coloraxis\":{\"colorbar\":{\"outlinewidth\":0,\"ticks\":\"\"}},\"colorscale\":{\"diverging\":[[0,\"#8e0152\"],[0.1,\"#c51b7d\"],[0.2,\"#de77ae\"],[0.3,\"#f1b6da\"],[0.4,\"#fde0ef\"],[0.5,\"#f7f7f7\"],[0.6,\"#e6f5d0\"],[0.7,\"#b8e186\"],[0.8,\"#7fbc41\"],[0.9,\"#4d9221\"],[1,\"#276419\"]],\"sequential\":[[0.0,\"#0d0887\"],[0.1111111111111111,\"#46039f\"],[0.2222222222222222,\"#7201a8\"],[0.3333333333333333,\"#9c179e\"],[0.4444444444444444,\"#bd3786\"],[0.5555555555555556,\"#d8576b\"],[0.6666666666666666,\"#ed7953\"],[0.7777777777777778,\"#fb9f3a\"],[0.8888888888888888,\"#fdca26\"],[1.0,\"#f0f921\"]],\"sequentialminus\":[[0.0,\"#0d0887\"],[0.1111111111111111,\"#46039f\"],[0.2222222222222222,\"#7201a8\"],[0.3333333333333333,\"#9c179e\"],[0.4444444444444444,\"#bd3786\"],[0.5555555555555556,\"#d8576b\"],[0.6666666666666666,\"#ed7953\"],[0.7777777777777778,\"#fb9f3a\"],[0.8888888888888888,\"#fdca26\"],[1.0,\"#f0f921\"]]},\"colorway\":[\"#636efa\",\"#EF553B\",\"#00cc96\",\"#ab63fa\",\"#FFA15A\",\"#19d3f3\",\"#FF6692\",\"#B6E880\",\"#FF97FF\",\"#FECB52\"],\"font\":{\"color\":\"#2a3f5f\"},\"geo\":{\"bgcolor\":\"white\",\"lakecolor\":\"white\",\"landcolor\":\"white\",\"showlakes\":true,\"showland\":true,\"subunitcolor\":\"#C8D4E3\"},\"hoverlabel\":{\"align\":\"left\"},\"hovermode\":\"closest\",\"mapbox\":{\"style\":\"light\"},\"paper_bgcolor\":\"white\",\"plot_bgcolor\":\"white\",\"polar\":{\"angularaxis\":{\"gridcolor\":\"#EBF0F8\",\"linecolor\":\"#EBF0F8\",\"ticks\":\"\"},\"bgcolor\":\"white\",\"radialaxis\":{\"gridcolor\":\"#EBF0F8\",\"linecolor\":\"#EBF0F8\",\"ticks\":\"\"}},\"scene\":{\"xaxis\":{\"backgroundcolor\":\"white\",\"gridcolor\":\"#DFE8F3\",\"gridwidth\":2,\"linecolor\":\"#EBF0F8\",\"showbackground\":true,\"ticks\":\"\",\"zerolinecolor\":\"#EBF0F8\"},\"yaxis\":{\"backgroundcolor\":\"white\",\"gridcolor\":\"#DFE8F3\",\"gridwidth\":2,\"linecolor\":\"#EBF0F8\",\"showbackground\":true,\"ticks\":\"\",\"zerolinecolor\":\"#EBF0F8\"},\"zaxis\":{\"backgroundcolor\":\"white\",\"gridcolor\":\"#DFE8F3\",\"gridwidth\":2,\"linecolor\":\"#EBF0F8\",\"showbackground\":true,\"ticks\":\"\",\"zerolinecolor\":\"#EBF0F8\"}},\"shapedefaults\":{\"line\":{\"color\":\"#2a3f5f\"}},\"ternary\":{\"aaxis\":{\"gridcolor\":\"#DFE8F3\",\"linecolor\":\"#A2B1C6\",\"ticks\":\"\"},\"baxis\":{\"gridcolor\":\"#DFE8F3\",\"linecolor\":\"#A2B1C6\",\"ticks\":\"\"},\"bgcolor\":\"white\",\"caxis\":{\"gridcolor\":\"#DFE8F3\",\"linecolor\":\"#A2B1C6\",\"ticks\":\"\"}},\"title\":{\"x\":0.05},\"xaxis\":{\"automargin\":true,\"gridcolor\":\"#EBF0F8\",\"linecolor\":\"#EBF0F8\",\"ticks\":\"\",\"title\":{\"standoff\":15},\"zerolinecolor\":\"#EBF0F8\",\"zerolinewidth\":2},\"yaxis\":{\"automargin\":true,\"gridcolor\":\"#EBF0F8\",\"linecolor\":\"#EBF0F8\",\"ticks\":\"\",\"title\":{\"standoff\":15},\"zerolinecolor\":\"#EBF0F8\",\"zerolinewidth\":2}}},\"xaxis\":{\"anchor\":\"y\",\"domain\":[0.0,1.0],\"title\":{\"text\":\"Year\"},\"dtick\":5},\"yaxis\":{\"anchor\":\"x\",\"domain\":[0.0,1.0],\"title\":{\"text\":\"Average Temperature (\\u00b0C)\"}},\"legend\":{\"tracegroupgap\":0},\"title\":{\"text\":\"Average Temperature in Europe from 1980 to 2019\"}},                        {\"responsive\": true}                    ).then(function(){\n",
       "                            \n",
       "var gd = document.getElementById('879dbb65-4b88-43ad-8910-9b7d868fac0f');\n",
       "var x = new MutationObserver(function (mutations, observer) {{\n",
       "        var display = window.getComputedStyle(gd).display;\n",
       "        if (!display || display === 'none') {{\n",
       "            console.log([gd, 'removed!']);\n",
       "            Plotly.purge(gd);\n",
       "            observer.disconnect();\n",
       "        }}\n",
       "}});\n",
       "\n",
       "// Listen for the removal of the full notebook cells\n",
       "var notebookContainer = gd.closest('#notebook-container');\n",
       "if (notebookContainer) {{\n",
       "    x.observe(notebookContainer, {childList: true});\n",
       "}}\n",
       "\n",
       "// Listen for the clearing of the current output cell\n",
       "var outputEl = gd.closest('.output');\n",
       "if (outputEl) {{\n",
       "    x.observe(outputEl, {childList: true});\n",
       "}}\n",
       "\n",
       "                        })                };                });            </script>        </div>"
      ]
     },
     "metadata": {},
     "output_type": "display_data"
    }
   ],
   "source": [
    "# Create the line plot \n",
    "fig = px.line(\n",
    "    data_year,\n",
    "    x='year',\n",
    "    y='Average Temperature',\n",
    "    labels={\n",
    "        'Average Temperature': 'Average Temperature (°C)',\n",
    "        'year': 'Year'\n",
    "    },\n",
    "    title='Average Temperature in Europe from 1980 to 2019',\n",
    "    template='plotly_white'\n",
    ")\n",
    "\n",
    "fig.update_xaxes(dtick=5)  # Set the x-axis tick interval to 1\n",
    "fig.show()"
   ]
  },
  {
   "cell_type": "code",
   "execution_count": null,
   "id": "f92eb1d6",
   "metadata": {},
   "outputs": [],
   "source": []
  }
 ],
 "metadata": {
  "kernelspec": {
   "display_name": "Python 3 (ipykernel)",
   "language": "python",
   "name": "python3"
  },
  "language_info": {
   "codemirror_mode": {
    "name": "ipython",
    "version": 3
   },
   "file_extension": ".py",
   "mimetype": "text/x-python",
   "name": "python",
   "nbconvert_exporter": "python",
   "pygments_lexer": "ipython3",
   "version": "3.10.9"
  },
  "toc": {
   "base_numbering": 1,
   "nav_menu": {},
   "number_sections": true,
   "sideBar": true,
   "skip_h1_title": false,
   "title_cell": "Table of Contents",
   "title_sidebar": "Contents",
   "toc_cell": false,
   "toc_position": {},
   "toc_section_display": true,
   "toc_window_display": false
  },
  "varInspector": {
   "cols": {
    "lenName": 16,
    "lenType": 16,
    "lenVar": 40
   },
   "kernels_config": {
    "python": {
     "delete_cmd_postfix": "",
     "delete_cmd_prefix": "del ",
     "library": "var_list.py",
     "varRefreshCmd": "print(var_dic_list())"
    },
    "r": {
     "delete_cmd_postfix": ") ",
     "delete_cmd_prefix": "rm(",
     "library": "var_list.r",
     "varRefreshCmd": "cat(var_dic_list()) "
    }
   },
   "types_to_exclude": [
    "module",
    "function",
    "builtin_function_or_method",
    "instance",
    "_Feature"
   ],
   "window_display": false
  }
 },
 "nbformat": 4,
 "nbformat_minor": 5
}
